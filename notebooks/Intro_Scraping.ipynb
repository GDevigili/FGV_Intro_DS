{
 "cells": [
  {
   "cell_type": "markdown",
   "metadata": {},
   "source": [
    "## Introduction to Data Science\n",
    "\n",
    "### Introduction to Scraping"
   ]
  },
  {
   "cell_type": "code",
   "execution_count": 38,
   "metadata": {},
   "outputs": [],
   "source": [
    "#import pylab\n",
    "import re\n",
    "import pandas as pd\n",
    "import numpy as np\n",
    "import matplotlib.pyplot as plt\n",
    "\n",
    "import requests\n",
    "import urllib\n",
    "from bs4 import BeautifulSoup as bs\n",
    "\n",
    "%matplotlib inline\n",
    "#%matplotlib notebook"
   ]
  },
  {
   "cell_type": "markdown",
   "metadata": {},
   "source": [
    "### Using [Requests](https://docs.python-requests.org/en/master/)"
   ]
  },
  {
   "cell_type": "code",
   "execution_count": 51,
   "metadata": {},
   "outputs": [
    {
     "name": "stdout",
     "output_type": "stream",
     "text": [
      "200\n"
     ]
    }
   ],
   "source": [
    "website_url = 'https://www.wienerzeitung.at/nachrichten/politik/oesterreich/2107909-Haertere-steirische-Impfanreize.html' \n",
    "content = requests.get(website_url)\n",
    "print(content.status_code)"
   ]
  },
  {
   "cell_type": "markdown",
   "metadata": {},
   "source": [
    "Check [HTTP status codes](https://developer.mozilla.org/pt-BR/docs/Web/HTTP/Status) "
   ]
  },
  {
   "cell_type": "markdown",
   "metadata": {},
   "source": [
    "#### Getting html content of the page "
   ]
  },
  {
   "cell_type": "code",
   "execution_count": 52,
   "metadata": {},
   "outputs": [
    {
     "data": {
      "text/plain": [
       "'<!DOCTYPE html>\\n<html lang=\"de\">\\n<head>\\n<meta charset=\"utf-8\" />\\n<meta http-equiv=\"cache-control\" content=\"no-cache\" />\\n<meta http-equiv=\"pragma\" content=\"no-cache\" />\\n<meta name=\"robots\" content=\"index, follow, noarchive\" />\\n<meta name=\"content-language\" content=\"de\" />\\n<meta name=\"description\" content=\"Am Donnerstag ging es zwar &quot;nur&quot; um eine Impfkampagne. Der steirische Landeshauptmann Hermann Sch&uuml;tzenh&ouml;fer plant aber die Corona-Impfung als Voraussetzung bei Neueinstellung von Kindergartenpersonal.\" />\\n<meta name=\"author\" content=\"Martina Madner\" />\\n<meta name=\"copyright\" content=\"Wiener Zeitung Online\" />\\n<meta property=\"og:type\" content=\"article\" />\\n<meta property=\"og:title\" content=\"Impfpflicht - H&auml;rtere steirische Impfanreize\" />\\n<meta property=\"og:description\" content=\"Am Donnerstag ging es zwar &quot;nur&quot; um eine Impfkampagne. Der steirische Landeshauptmann Hermann Sch&uuml;tzenh&ouml;fer plant aber die Corona-Impfung als...\" />\\n<meta property=\"og'"
      ]
     },
     "execution_count": 52,
     "metadata": {},
     "output_type": "execute_result"
    }
   ],
   "source": [
    "content.text[0:1000]"
   ]
  },
  {
   "cell_type": "markdown",
   "metadata": {},
   "source": [
    "### Using [Beautiful Soup](https://www.crummy.com/software/BeautifulSoup/bs4/doc/)"
   ]
  },
  {
   "cell_type": "code",
   "execution_count": 53,
   "metadata": {},
   "outputs": [
    {
     "name": "stdout",
     "output_type": "stream",
     "text": [
      "<class 'bs4.BeautifulSoup'>\n"
     ]
    }
   ],
   "source": [
    "soup = bs(content.text,'lxml')\n",
    "print(type(soup))"
   ]
  },
  {
   "cell_type": "markdown",
   "metadata": {},
   "source": [
    "#### Getting formatted html content of the page "
   ]
  },
  {
   "cell_type": "code",
   "execution_count": 55,
   "metadata": {},
   "outputs": [
    {
     "name": "stdout",
     "output_type": "stream",
     "text": [
      "<!DOCTYPE html>\n",
      "<html lang=\"de\">\n",
      " <head>\n",
      "  <meta charset=\"utf-8\"/>\n",
      "  <meta content=\"no-cache\" http-equiv=\"cache-control\"/>\n",
      "  <meta content=\"no-cache\" http-equiv=\"pragma\"/>\n",
      "  <meta content=\"index, follow, noarchive\" name=\"robots\"/>\n",
      "  <meta content=\"de\" name=\"content-language\"/>\n",
      "  <meta content='Am Donnerstag ging es zwar \"nur\" um eine Impfkampagne. Der steirische Landeshauptmann Hermann Schützenhöfer plant aber die Corona-Impfung als Voraussetzung bei Neueinstellung von Kindergartenpersonal.' name=\"description\"/>\n",
      "  <meta content=\"Martina Madner\" name=\"author\"/>\n",
      "  <meta content=\"Wiener Zeitung Online\" name=\"copyright\"/>\n",
      "  <meta content=\"article\" property=\"og:type\"/>\n",
      "  <meta content=\"Impfpflicht - Härtere steirische Impfanreize\" property=\"og:title\"/>\n",
      "  <meta content='Am Donnerstag ging es zwar \"nur\" um eine Impfkampagne. Der steirische Landeshauptmann Hermann Schützenhöfer plant aber die Corona-Impfung als...' property=\"og:description\"/>\n",
      "  <meta content=\"Österreich Politik - Nachrichten -\n"
     ]
    }
   ],
   "source": [
    "print(soup.prettify()[0:1000])"
   ]
  },
  {
   "cell_type": "markdown",
   "metadata": {},
   "source": [
    "#### Getting text of the page "
   ]
  },
  {
   "cell_type": "code",
   "execution_count": 63,
   "metadata": {},
   "outputs": [
    {
     "name": "stdout",
     "output_type": "stream",
     "text": [
      "ete Werbekampagne f&uuml;rs Impfen in der Steiermark. Es spricht von einer \\\"gewissen Impfm&uuml;digkeit, die eingetreten ist, da rede ich nicht um den hei&szlig;en Brei herum: Die Anmeldungen sind zur&uuml;ckgegangen.\\\" 560.000 von 1,1 Millionen impfbaren Steirerinnen und Steirern sind erstgeimpft, 227.000 auch ein zweites Mal. Sein Appell: \\\"Wir werden alles versuchen, damit sich die Menschen impfen lassen. Es ist noch nicht vorbei.\\\"<\\/p>\\n<p>In der ORF-\\\"Pressestunde\\\" sprach Sch&uuml;tzenh&ouml;fer von einem \\\"sch&auml;bigem Verhalten\\\" der Impfunwilligen. Auf die Frage, ob er sich eine Sars-CoV-2-Schutzimpfungspflicht f&uuml;r das Kindergartenpersonal vorstellen k&ouml;nne, sagte er: \\\"Ich w&auml;re pers&ouml;nlich daf&uuml;r, der Verfassungsdienst des Bundes sagt aber: Nein, das geht nicht\\\" - und lie&szlig; dann aufhorchen: \\\"Aber: Jedes Land kann selber etwas bei der Aufnahme tun. Das will ich in den Bereichen des Landes selbstverst&auml;ndlich so machen.\\\"<\\/p>\\n<p>Impfnachz&\n"
     ]
    }
   ],
   "source": [
    "print(soup.get_text()[9000:10000])"
   ]
  },
  {
   "cell_type": "code",
   "execution_count": 57,
   "metadata": {},
   "outputs": [
    {
     "data": {
      "text/plain": [
       "<title>Impfpflicht - Härtere steirische Impfanreize - Wiener Zeitung Online</title>"
      ]
     },
     "execution_count": 57,
     "metadata": {},
     "output_type": "execute_result"
    }
   ],
   "source": [
    "print(soup.title)"
   ]
  },
  {
   "cell_type": "markdown",
   "metadata": {},
   "source": [
    "#### Extracting anchors and links"
   ]
  },
  {
   "cell_type": "code",
   "execution_count": 58,
   "metadata": {},
   "outputs": [
    {
     "data": {
      "text/plain": [
       "[<a href=\"/abonnement\">Abo</a>,\n",
       " <a href=\"/epaper\" target=\"extern\">E-Paper</a>,\n",
       " <a href=\"/beilagen\">Magazine</a>,\n",
       " <a href=\"/\">\n",
       " <i class=\"fal fa-history fa-lg fa-fw\"></i><span class=\"notification-counter meldung-counter\"></span>\n",
       " </a>,\n",
       " <a class=\"mobile-search-button mobile-search-closed\" data-overlay=\"overlay-search\" href=\"javascript:void(0);\" title=\"Suche\"><i class=\"far fa-search\"></i></a>,\n",
       " <a class=\"logo-wzo\" href=\"/\" itemprop=\"url\" title=\"\">\n",
       " <img alt=\"Wiener Zeitung\" height=\"30\" src=\"/_em_daten/wzo/assets/img/WZ-Logo.svg\"/>\n",
       " <img class=\"hidden\" height=\"0\" itemprop=\"logo\" src=\"/_em_daten/wzo/assets/img/favicons/wzo-512.png\"/>\n",
       " </a>,\n",
       " <a class=\"mobile-menu-button\" href=\"javascript:void(0);\" title=\"Hauptmenü\"><i class=\"far fa-bars\"></i></a>,\n",
       " <a data-preview=\"\" data-preview-count=\"4\" href=\"https://www.wienerzeitung.at/nachrichten/politik/\" target=\"_top\" title=\"Politik\">Politik</a>,\n",
       " <a data-preview=\"\" data-preview-count=\"4\" href=\"https://www.wienerzeitung.at/nachrichten/kultur/\" target=\"_top\" title=\"Kultur\">Kultur</a>,\n",
       " <a data-preview=\"\" data-preview-count=\"4\" href=\"https://www.wienerzeitung.at/nachrichten/wirtschaft/\" target=\"_top\" title=\"Wirtschaft\">Wirtschaft</a>,\n",
       " <a data-preview=\"\" data-preview-count=\"4\" href=\"https://www.wienerzeitung.at/amtsblatt/aktuelle-ausgabe/\" target=\"_top\" title=\"Amtsblatt\">Amtsblatt</a>,\n",
       " <a data-preview=\"\" data-preview-count=\"4\" href=\"https://www.wienerzeitung.at/dossiers/\" target=\"_top\" title=\"Dossiers\">Dossiers</a>,\n",
       " <a data-preview=\"\" data-preview-count=\"4\" href=\"https://www.wienerzeitung.at/meinung/\" target=\"_top\" title=\"Meinung\">Meinung</a>,\n",
       " <a class=\"overlay-close\" href=\"javascript:void(0);\" id=\"overlay_close\" title=\"Suche schließen\"><i class=\"fal fa-times fa-lg\"></i></a>,\n",
       " <a href=\"https://www.wienerzeitung.at/nachrichten/politik/\" target=\"_top\" title=\"Nachrichten\">Nachrichten</a>,\n",
       " <a href=\"https://www.wienerzeitung.at/nachrichten/politik/\" target=\"_top\" title=\"Politik\">Politik</a>,\n",
       " <a href=\"https://www.wienerzeitung.at/nachrichten/wirtschaft/\" target=\"_top\" title=\"Wirtschaft\">Wirtschaft</a>,\n",
       " <a href=\"https://www.wienerzeitung.at/nachrichten/kultur/\" target=\"_top\" title=\"Kultur\">Kultur</a>,\n",
       " <a href=\"https://www.wienerzeitung.at/nachrichten/chronik/\" target=\"_top\" title=\"Chronik\">Chronik</a>,\n",
       " <a href=\"https://www.wienerzeitung.at/nachrichten/wissen/\" target=\"_top\" title=\"Wissen\">Wissen</a>]"
      ]
     },
     "execution_count": 58,
     "metadata": {},
     "output_type": "execute_result"
    }
   ],
   "source": [
    "soup.find_all('a')[0:20]"
   ]
  },
  {
   "cell_type": "markdown",
   "metadata": {},
   "source": [
    "#### Extracting only the *href* of anchors and links"
   ]
  },
  {
   "cell_type": "code",
   "execution_count": 59,
   "metadata": {},
   "outputs": [
    {
     "name": "stdout",
     "output_type": "stream",
     "text": [
      "/abonnement\n",
      "/epaper\n",
      "/beilagen\n",
      "/\n",
      "javascript:void(0);\n",
      "/\n",
      "javascript:void(0);\n",
      "https://www.wienerzeitung.at/nachrichten/politik/\n",
      "https://www.wienerzeitung.at/nachrichten/kultur/\n",
      "https://www.wienerzeitung.at/nachrichten/wirtschaft/\n",
      "https://www.wienerzeitung.at/amtsblatt/aktuelle-ausgabe/\n",
      "https://www.wienerzeitung.at/dossiers/\n",
      "https://www.wienerzeitung.at/meinung/\n",
      "javascript:void(0);\n",
      "https://www.wienerzeitung.at/nachrichten/politik/\n",
      "https://www.wienerzeitung.at/nachrichten/politik/\n",
      "https://www.wienerzeitung.at/nachrichten/wirtschaft/\n",
      "https://www.wienerzeitung.at/nachrichten/kultur/\n",
      "https://www.wienerzeitung.at/nachrichten/chronik/\n",
      "https://www.wienerzeitung.at/nachrichten/wissen/\n",
      "https://www.wienerzeitung.at/nachrichten/sport/\n",
      "https://www.wienerzeitung.at/nachrichten/wahlen/\n",
      "https://www.wienerzeitung.at/nachrichten/zeitreisen-rubriken/\n",
      "https://www.wienerzeitung.at/nachrichten/reflexionen/\n",
      "https://www.wienerzeitung.at/nachrichten/digital/\n",
      "https://www.wienerzeitung.at/amtsblatt/aktuelle-ausgabe/\n",
      "https://www.wienerzeitung.at/amtsblatt/amtliche-veroeffentlichungen-zu-corona/\n",
      "https://www.wienerzeitung.at/amtsblatt/suche/\n",
      "https://www.wienerzeitung.at/amtsblatt/aktuelle-ausgabe/\n",
      "https://www.wienerzeitung.at/amtsblatt/alte-ausgaben/\n"
     ]
    }
   ],
   "source": [
    "for link in soup.find_all('a')[0:30]:\n",
    "    print(link.get('href'))"
   ]
  },
  {
   "cell_type": "markdown",
   "metadata": {},
   "source": [
    "#### Extracting only *http* and *https* from *href* links"
   ]
  },
  {
   "cell_type": "code",
   "execution_count": 60,
   "metadata": {},
   "outputs": [
    {
     "name": "stdout",
     "output_type": "stream",
     "text": [
      "https://www.wienerzeitung.at/nachrichten/politik/\n",
      "https://www.wienerzeitung.at/nachrichten/kultur/\n",
      "https://www.wienerzeitung.at/nachrichten/wirtschaft/\n",
      "https://www.wienerzeitung.at/amtsblatt/aktuelle-ausgabe/\n",
      "https://www.wienerzeitung.at/dossiers/\n",
      "https://www.wienerzeitung.at/meinung/\n",
      "https://www.wienerzeitung.at/nachrichten/politik/\n",
      "https://www.wienerzeitung.at/nachrichten/politik/\n",
      "https://www.wienerzeitung.at/nachrichten/wirtschaft/\n",
      "https://www.wienerzeitung.at/nachrichten/kultur/\n",
      "https://www.wienerzeitung.at/nachrichten/chronik/\n",
      "https://www.wienerzeitung.at/nachrichten/wissen/\n",
      "https://www.wienerzeitung.at/nachrichten/sport/\n",
      "https://www.wienerzeitung.at/nachrichten/wahlen/\n",
      "https://www.wienerzeitung.at/nachrichten/zeitreisen-rubriken/\n",
      "https://www.wienerzeitung.at/nachrichten/reflexionen/\n",
      "https://www.wienerzeitung.at/nachrichten/digital/\n",
      "https://www.wienerzeitung.at/amtsblatt/aktuelle-ausgabe/\n",
      "https://www.wienerzeitung.at/amtsblatt/amtliche-veroeffentlichungen-zu-corona/\n",
      "https://www.wienerzeitung.at/amtsblatt/suche/\n",
      "https://www.wienerzeitung.at/amtsblatt/aktuelle-ausgabe/\n",
      "https://www.wienerzeitung.at/amtsblatt/alte-ausgaben/\n",
      "https://www.auftrag.at/tenders.aspx\n",
      "https://www.wienerzeitung.at/amtsblatt/firmeninsolvenzen/\n",
      "https://www.wienerzeitung.at/amtsblatt/privatkonkurse/\n",
      "https://www.wienerzeitung.at/amtsblatt/mein-bereich/\n",
      "https://www.wienerzeitung.at/amtsblatt/jobs/\n",
      "https://www.wienerzeitung.at/amtsblatt/info/\n",
      "https://www.wienerzeitung.at/amtsblatt/lehrerstellen/\n",
      "https://www.wienerzeitung.at/dossiers/\n",
      "https://www.wienerzeitung.at/dossiers/100-jahre-verfassung/\n",
      "https://www.wienerzeitung.at/dossiers/autismus/\n",
      "https://www.wienerzeitung.at/dossiers/digitaler-humanismus/\n",
      "https://www.wienerzeitung.at/dossiers/bob-dylan/\n",
      "https://www.wienerzeitung.at/dossiers/shakespeare/\n",
      "https://www.wienerzeitung.at/dossiers/wald/\n",
      "https://www.wienerzeitung.at/dossiers/wie-wir-die-krise-meistern/\n",
      "https://www.wienerzeitung.at/dossiers/ludwig-wittgenstein/\n",
      "https://www.wienerzeitung.at/themen/\n",
      "https://www.wienerzeitung.at/themen/brexit/\n",
      "https://www.wienerzeitung.at/themen/bundestagswahl-2021/\n",
      "https://www.wienerzeitung.at/themen/comics-und-mangas/\n",
      "https://www.wienerzeitung.at/themen/energiewende/\n",
      "https://www.wienerzeitung.at/themen/pflege/\n",
      "https://www.wienerzeitung.at/themen/recht/\n",
      "https://www.wienerzeitung.at/themen/sars-cov-2/\n",
      "https://www.wienerzeitung.at/themen/vor-gericht/\n",
      "https://www.wienerzeitung.at/themen/wiener-festwochen/\n",
      "https://www.wienerzeitung.at/meinung/\n",
      "https://www.wienerzeitung.at/meinung/leitartikel/\n",
      "https://www.wienerzeitung.at/meinung/glossen/\n",
      "https://www.wienerzeitung.at/meinung/gastkommentare/\n",
      "https://www.wienerzeitung.at/meinung/kommentare/\n",
      "https://www.wienerzeitung.at/meinung/blogs/\n",
      "https://www.wienerzeitung.at/meinung/leserforum/\n",
      "https://www.wienerzeitung.at/multimedia/\n",
      "https://www.wienerzeitung.at/multimedia/fotostrecken/\n",
      "https://www.wienerzeitung.at/multimedia/videos/\n",
      "https://www.wienerzeitung.at/multimedia/podcasts/\n",
      "https://www.wienerzeitung.at/multimedia/scroll-stories/\n",
      "https://www.wienerzeitung.at/multimedia/podcast-ueber-wien/\n",
      "https://www.wienerzeitung.at/multimedia/wie-jetzt-der-demokratie-podcast/\n",
      "https://www.wienerzeitung.at/multimedia/spiele/\n",
      "https://www.wienerzeitung.at/abonnement/\n",
      "https://www.wienerzeitung.at/abonnement/samstagsabo/\n",
      "https://www.wienerzeitung.at/abonnement/abo-service/\n",
      "https://www.wienerzeitung.at/abonnement/abo-vorteile/\n",
      "https://www.wienerzeitung.at/mediasales/\n",
      "https://www.wienerzeitung.at/mediasales/tageszeitung/\n",
      "https://www.wienerzeitung.at/mediasales/amtsblatt/\n",
      "https://www.wienerzeitung.at/mediasales/wiener-journal/\n",
      "https://www.wienerzeitung.at/mediasales/magazin-die-republik/\n",
      "https://www.wienerzeitung.at/mediasales/digital/\n",
      "https://www.wienerzeitung.at/mediasales/beilagen/\n",
      "https://www.wienerzeitung.at/mediasales/spezifikationen/\n",
      "https://www.wienerzeitung.at/mediasales/ansprechpartner/\n",
      "https://www.wienerzeitung.at/magazine/\n",
      "https://www.wienerzeitung.at/magazine/wiener-journal/\n",
      "https://epaper.wienerzeitung.at/shelf.act?filter=Extra\n",
      "https://www.wienerzeitung.at/magazine/zeitreisen/\n",
      "https://www.wienerzeitung.at/verlagsbeilagen/\n",
      "https://www.wienerzeitung.at/verlagsbeilagen/die-republik-das-verwaltungsmagazin/\n",
      "https://www.wienerzeitung.at/verlagsbeilagen/weinzeit/\n",
      "https://www.wienerzeitung.at/verlagsbeilagen/digitale-republik/\n",
      "https://www.wienerzeitung.at/verlagsbeilagen/plus-beilagen/\n",
      "https://www.wienerzeitung.at/verlagsaktivitaeten/\n",
      "https://www.wienerzeitung.at/verlagsaktivitaeten/veranstaltungen/\n",
      "https://www.wienerzeitung.at/verlagsaktivitaeten/einen-klick-voraus/\n",
      "https://www.wienerzeitung.at/verlagsaktivitaeten/future-challenge/\n",
      "https://www.wienerzeitung.at/verlagsaktivitaeten/medienpartnerschaften/\n",
      "https://www.wienerzeitung.at/unternehmen/\n",
      "https://www.wienerzeitung.at/unternehmen/marken-und-produkte/\n",
      "https://www.wienerzeitung.at/unternehmen/team/\n",
      "https://www.wienerzeitung.at/unternehmen/redaktionsstatut/\n",
      "https://www.wienerzeitung.at/unternehmen/geschichte/\n",
      "https://www.wienerzeitung.at/unternehmen/akademie/\n",
      "https://www.wienerzeitung.at/unternehmen/karriere/\n",
      "https://www.wienerzeitung.at/unternehmen/apps/\n",
      "https://www.wienerzeitung.at/unternehmen/english/\n",
      "https://www.wienerzeitung.at/unternehmen/kontakt/\n",
      "https://www.wienerzeitung.at/unternehmen/cookies/\n",
      "https://www.wienerzeitung.at/unternehmen/agb/\n",
      "https://www.wienerzeitung.at/unternehmen/datenschutz/\n",
      "https://www.wienerzeitung.at/unternehmen/impressum/\n",
      "https://www.wienerzeitung.at/volltextsuche/\n",
      "https://www.wienerzeitung.at/nachrichten/politik/\n",
      "https://www.wienerzeitung.at/nachrichten/politik/oesterreich/\n",
      "http://stock.adobe.com\n",
      "http://www.facebook.com\n",
      "http://www.twitter.com\n",
      "http://www.facebook.com\n",
      "http://www.twitter.com\n",
      "https://info.gesundheitsministerium.at/\n",
      "https://www.wienerzeitung.at/nachrichten/politik/oesterreich/2101620-Infektionshort-Kindergarten.html\n",
      "http://www.facebook.com\n",
      "http://www.twitter.com\n",
      "http://www.facebook.com\n",
      "http://www.twitter.com\n",
      "https://www.wienerzeitung.at/nachrichten/politik/oesterreich/2107923-Keine-Ministeranklage-gegen-Bluemel-und-Schramboeck.html\n",
      "https://www.wienerzeitung.at/nachrichten/politik/oesterreich/2107923-Keine-Ministeranklage-gegen-Bluemel-und-Schramboeck.html\n",
      "https://www.wienerzeitung.at/nachrichten/politik/oesterreich/2107913-Kleiner-U-Ausschuss-zu-Corona-Beschaffung-endete.html\n",
      "https://www.wienerzeitung.at/nachrichten/politik/oesterreich/2107913-Kleiner-U-Ausschuss-zu-Corona-Beschaffung-endete.html\n",
      "https://www.wienerzeitung.at/nachrichten/politik/oesterreich/2107796-Corona-als-Stolperstein-fuer-die-Integration.html\n",
      "https://www.wienerzeitung.at/nachrichten/politik/oesterreich/2107796-Corona-als-Stolperstein-fuer-die-Integration.html\n",
      "https://www.wienerzeitung.at/nachrichten/politik/oesterreich/2107854-EU-Grundrechtebericht-lobt-Oesterreichs-Hass-im-Netz-Gesetzespaket.html\n",
      "https://www.wienerzeitung.at/nachrichten/politik/oesterreich/2107854-EU-Grundrechtebericht-lobt-Oesterreichs-Hass-im-Netz-Gesetzespaket.html\n",
      "https://epaper.wienerzeitung.at\n",
      "https://www.facebook.com/WienerZeitung\n",
      "https://twitter.com/WienerZeitung\n",
      "https://www.instagram.com/wienerzeitung\n",
      "https://www.linkedin.com/company/wiener-zeitung/\n"
     ]
    }
   ],
   "source": [
    "for link in soup.findAll('a', attrs={'href': re.compile(\"^http[s]?://\")}):\n",
    "    print(link.get('href'))"
   ]
  },
  {
   "cell_type": "markdown",
   "metadata": {},
   "source": [
    "### Which one to use: [urllib or requests?](https://stackoverflow.com/questions/2018026/what-are-the-differences-between-the-urllib-urllib2-urllib3-and-requests-modul)"
   ]
  },
  {
   "cell_type": "code",
   "execution_count": 61,
   "metadata": {},
   "outputs": [
    {
     "name": "stdout",
     "output_type": "stream",
     "text": [
      "['https://arstechnica.com', 'http://video.arstechnica.com/', 'http://arstechnica.com/?view=grid', 'http://arstechnica.com/?view=archive', 'http://arstechnica.com/?theme=light', 'http://arstechnica.com/?theme=dark', 'https://arstechnica.com/civis/ucp.php?mode=login&return_to=%2F', 'https://arstechnica.com/civis/ucp.php?mode=register', 'https://arstechnica.com/gadgets/2021/06/rtx-3070-ti-review-nvidia-has-flipped-its-turn-signal-out-of-the-gpu-fast-lane/', 'https://arstechnica.com/gadgets/2021/06/rtx-3070-ti-review-nvidia-has-flipped-its-turn-signal-out-of-the-gpu-fast-lane/', 'https://arstechnica.com/gadgets/2021/06/rtx-3070-ti-review-nvidia-has-flipped-its-turn-signal-out-of-the-gpu-fast-lane/', 'https://arstechnica.com/author/samred/', 'https://arstechnica.com/gadgets/2021/06/rtx-3070-ti-review-nvidia-has-flipped-its-turn-signal-out-of-the-gpu-fast-lane/?comments=1', 'https://arstechnica.com/gaming/2021/06/elden-ring-shows-off-first-gameplay-footage-confirmed-for-jan-2022/', 'https://arstechnica.com/gaming/2021/06/elden-ring-shows-off-first-gameplay-footage-confirmed-for-jan-2022/', 'https://arstechnica.com/gaming/2021/06/elden-ring-shows-off-first-gameplay-footage-confirmed-for-jan-2022/', 'https://arstechnica.com/author/kyle-orland/', 'https://arstechnica.com/gaming/2021/06/elden-ring-shows-off-first-gameplay-footage-confirmed-for-jan-2022/?comments=1', 'https://arstechnica.com/science/2021/06/biggest-health-insurer-plans-to-deny-er-bills-if-it-doubts-you-had-an-emergency/', 'https://arstechnica.com/science/2021/06/biggest-health-insurer-plans-to-deny-er-bills-if-it-doubts-you-had-an-emergency/', 'https://arstechnica.com/science/2021/06/biggest-health-insurer-plans-to-deny-er-bills-if-it-doubts-you-had-an-emergency/', 'https://arstechnica.com/author/beth/', 'https://arstechnica.com/science/2021/06/biggest-health-insurer-plans-to-deny-er-bills-if-it-doubts-you-had-an-emergency/?comments=1', 'https://arstechnica.com/gadgets/2021/06/ios-web-versions-of-dark-sky-weather-app-will-shut-down-in-2022/', 'https://arstechnica.com/gadgets/2021/06/ios-web-versions-of-dark-sky-weather-app-will-shut-down-in-2022/', 'https://arstechnica.com/gadgets/2021/06/ios-web-versions-of-dark-sky-weather-app-will-shut-down-in-2022/', 'https://arstechnica.com/author/samuelaxon/', 'https://arstechnica.com/gadgets/2021/06/ios-web-versions-of-dark-sky-weather-app-will-shut-down-in-2022/?comments=1', 'https://arstechnica.com/gaming/2021/06/the-anacrusis-left-4-dead-sci-fi-persistent-ai-coming-to-pc-xbox-this-fall/', 'https://arstechnica.com/gaming/2021/06/the-anacrusis-left-4-dead-sci-fi-persistent-ai-coming-to-pc-xbox-this-fall/', 'https://arstechnica.com/gaming/2021/06/the-anacrusis-left-4-dead-sci-fi-persistent-ai-coming-to-pc-xbox-this-fall/', 'https://arstechnica.com/author/samred/', 'https://arstechnica.com/gaming/2021/06/the-anacrusis-left-4-dead-sci-fi-persistent-ai-coming-to-pc-xbox-this-fall/?comments=1', 'https://arstechnica.com/gadgets/2021/06/data-thieving-hackers-strike-again-stealing-ea-source-code-and-police-data/', 'https://arstechnica.com/gadgets/2021/06/data-thieving-hackers-strike-again-stealing-ea-source-code-and-police-data/', 'https://arstechnica.com/gadgets/2021/06/data-thieving-hackers-strike-again-stealing-ea-source-code-and-police-data/', 'https://arstechnica.com/author/dan-goodin/', 'https://arstechnica.com/gadgets/2021/06/data-thieving-hackers-strike-again-stealing-ea-source-code-and-police-data/?comments=1', 'https://arstechnica.com/gaming/2021/06/gamestop-stock-falls-sharply-amid-5m-share-sales-plan-sec-investigation/', 'https://arstechnica.com/gaming/2021/06/gamestop-stock-falls-sharply-amid-5m-share-sales-plan-sec-investigation/', 'https://arstechnica.com/gaming/2021/06/gamestop-stock-falls-sharply-amid-5m-share-sales-plan-sec-investigation/', 'https://arstechnica.com/author/kyle-orland/', 'https://arstechnica.com/gaming/2021/06/gamestop-stock-falls-sharply-amid-5m-share-sales-plan-sec-investigation/?comments=1', 'https://arstechnica.com/tech-policy/2021/06/facebook-is-a-hub-of-sex-trafficking-recruitment-in-the-us-report-says/', 'https://arstechnica.com/tech-policy/2021/06/facebook-is-a-hub-of-sex-trafficking-recruitment-in-the-us-report-says/', 'https://arstechnica.com/tech-policy/2021/06/facebook-is-a-hub-of-sex-trafficking-recruitment-in-the-us-report-says/', 'https://arstechnica.com/author/tim-de-chant-2/', 'https://arstechnica.com/tech-policy/2021/06/facebook-is-a-hub-of-sex-trafficking-recruitment-in-the-us-report-says/?comments=1', 'https://arstechnica.com/gadgets/2021/06/google-to-stop-treating-eu-antitrust-remedy-as-a-promotional-opportunity/', 'https://arstechnica.com/gadgets/2021/06/google-to-stop-treating-eu-antitrust-remedy-as-a-promotional-opportunity/', 'https://arstechnica.com/gadgets/2021/06/google-to-stop-treating-eu-antitrust-remedy-as-a-promotional-opportunity/', 'https://arstechnica.com/author/ronamadeo/', 'https://arstechnica.com/gadgets/2021/06/google-to-stop-treating-eu-antitrust-remedy-as-a-promotional-opportunity/?comments=1', 'https://arstechnica.com/science/2021/06/alberta-oil-company-pull-plug-on-keystone-xl-pipeline/', 'https://arstechnica.com/science/2021/06/alberta-oil-company-pull-plug-on-keystone-xl-pipeline/', 'https://arstechnica.com/science/2021/06/alberta-oil-company-pull-plug-on-keystone-xl-pipeline/', 'https://arstechnica.com/author/financialtimes/', 'https://arstechnica.com/science/2021/06/alberta-oil-company-pull-plug-on-keystone-xl-pipeline/?comments=1', 'https://arstechnica.com/cars/2021/06/self-driving-waymo-trucks-to-haul-loads-between-houston-and-fort-worth/', 'https://arstechnica.com/cars/2021/06/self-driving-waymo-trucks-to-haul-loads-between-houston-and-fort-worth/', 'https://arstechnica.com/cars/2021/06/self-driving-waymo-trucks-to-haul-loads-between-houston-and-fort-worth/', 'https://arstechnica.com/author/jonathan-m-gitlin/', 'https://arstechnica.com/cars/2021/06/self-driving-waymo-trucks-to-haul-loads-between-houston-and-fort-worth/?comments=1', 'https://arstechnica.com/science/2021/06/legislation-requires-nasa-to-build-sls-test-article-after-initial-flights/', 'https://arstechnica.com/science/2021/06/legislation-requires-nasa-to-build-sls-test-article-after-initial-flights/', 'https://arstechnica.com/science/2021/06/legislation-requires-nasa-to-build-sls-test-article-after-initial-flights/', 'https://arstechnica.com/author/ericberger/', 'https://arstechnica.com/science/2021/06/legislation-requires-nasa-to-build-sls-test-article-after-initial-flights/?comments=1', 'https://arstechnica.com/gaming/2021/06/xboxs-game-pass-ified-future-streaming-stick-tv-app-series-x-servers/', 'https://arstechnica.com/gaming/2021/06/xboxs-game-pass-ified-future-streaming-stick-tv-app-series-x-servers/', 'https://arstechnica.com/gaming/2021/06/xboxs-game-pass-ified-future-streaming-stick-tv-app-series-x-servers/', 'https://arstechnica.com/author/samred/', 'https://arstechnica.com/gaming/2021/06/xboxs-game-pass-ified-future-streaming-stick-tv-app-series-x-servers/?comments=1', 'https://arstechnica.com/science/2021/06/electrons-in-ionosphere-catch-a-plasma-wave-to-produce-brightest-auroras/', 'https://arstechnica.com/science/2021/06/electrons-in-ionosphere-catch-a-plasma-wave-to-produce-brightest-auroras/', 'https://arstechnica.com/science/2021/06/electrons-in-ionosphere-catch-a-plasma-wave-to-produce-brightest-auroras/', 'https://arstechnica.com/author/jenniferouellette/', 'https://arstechnica.com/science/2021/06/electrons-in-ionosphere-catch-a-plasma-wave-to-produce-brightest-auroras/?comments=1', 'https://arstechnica.com/gadgets/2021/06/these-macos-monterey-features-wont-work-on-intel-macs/', 'https://arstechnica.com/gadgets/2021/06/these-macos-monterey-features-wont-work-on-intel-macs/', 'https://arstechnica.com/gadgets/2021/06/these-macos-monterey-features-wont-work-on-intel-macs/', 'https://arstechnica.com/author/samuelaxon/', 'https://arstechnica.com/gadgets/2021/06/these-macos-monterey-features-wont-work-on-intel-macs/?comments=1', 'https://arstechnica.com/gadgets/2021/06/nameless-malware-collects-1-2tb-of-sensitive-data-and-stashes-it-online/', 'https://arstechnica.com/gadgets/2021/06/nameless-malware-collects-1-2tb-of-sensitive-data-and-stashes-it-online/', 'https://arstechnica.com/gadgets/2021/06/nameless-malware-collects-1-2tb-of-sensitive-data-and-stashes-it-online/', 'https://arstechnica.com/author/dan-goodin/', 'https://arstechnica.com/gadgets/2021/06/nameless-malware-collects-1-2tb-of-sensitive-data-and-stashes-it-online/?comments=1', 'https://arstechnica.com/cars/2021/06/volkswagen-plans-to-offer-subscriptions-for-autonomous-driving-extra-ev-range/', 'https://arstechnica.com/cars/2021/06/volkswagen-plans-to-offer-subscriptions-for-autonomous-driving-extra-ev-range/', 'https://arstechnica.com/cars/2021/06/volkswagen-plans-to-offer-subscriptions-for-autonomous-driving-extra-ev-range/', 'https://arstechnica.com/author/tim-de-chant-2/', 'https://arstechnica.com/cars/2021/06/volkswagen-plans-to-offer-subscriptions-for-autonomous-driving-extra-ev-range/?comments=1', 'https://arstechnica.com/gaming/2021/06/dont-look-now-but-gamestop-stock-is-approaching-record-highs-again/', 'https://arstechnica.com/gaming/2021/06/dont-look-now-but-gamestop-stock-is-approaching-record-highs-again/', 'https://arstechnica.com/gaming/2021/06/dont-look-now-but-gamestop-stock-is-approaching-record-highs-again/', 'https://arstechnica.com/author/kyle-orland/', 'https://arstechnica.com/gaming/2021/06/dont-look-now-but-gamestop-stock-is-approaching-record-highs-again/?comments=1', 'https://arstechnica.com/gaming/2021/06/apple-tv-offers-first-look-at-ambitious-sci-fi-drama-invasion-in-teaser/', 'https://arstechnica.com/gaming/2021/06/apple-tv-offers-first-look-at-ambitious-sci-fi-drama-invasion-in-teaser/', 'https://arstechnica.com/gaming/2021/06/apple-tv-offers-first-look-at-ambitious-sci-fi-drama-invasion-in-teaser/', 'https://arstechnica.com/author/jenniferouellette/', 'https://arstechnica.com/gaming/2021/06/apple-tv-offers-first-look-at-ambitious-sci-fi-drama-invasion-in-teaser/?comments=1', 'https://arstechnica.com/tech-policy/2021/06/record-labels-sue-another-isp-demanding-mass-disconnections-of-internet-users/', 'https://arstechnica.com/tech-policy/2021/06/record-labels-sue-another-isp-demanding-mass-disconnections-of-internet-users/', 'https://arstechnica.com/tech-policy/2021/06/record-labels-sue-another-isp-demanding-mass-disconnections-of-internet-users/', 'https://arstechnica.com/author/jon-brodkin/', 'https://arstechnica.com/tech-policy/2021/06/record-labels-sue-another-isp-demanding-mass-disconnections-of-internet-users/?comments=1', 'https://www.facebook.com/arstechnica', 'https://twitter.com/arstechnica', 'https://www.youtube.com/user/arstechnicavideos', 'https://www.instagram.com/arstechnica/', 'https://video.arstechnica.com', 'https://arstechnica.com/gaming/2021/05/don-bellisario-talks-to-ars-about-the-unsolved-mysteries-of-quantum-leap/', 'https://arstechnica.com/gaming/2021/05/don-bellisario-talks-to-ars-about-the-unsolved-mysteries-of-quantum-leap/', 'https://arstechnica.com/gaming/2021/05/don-bellisario-talks-to-ars-about-the-unsolved-mysteries-of-quantum-leap/', 'https://arstechnica.com/science/2021/06/hospital-suspends-178-healthcare-workers-for-failing-to-get-covid-vaccine/', 'https://arstechnica.com/science/2021/06/hospital-suspends-178-healthcare-workers-for-failing-to-get-covid-vaccine/', 'https://arstechnica.com/science/2021/06/hospital-suspends-178-healthcare-workers-for-failing-to-get-covid-vaccine/', 'https://arstechnica.com/author/beth/', 'https://arstechnica.com/science/2021/06/hospital-suspends-178-healthcare-workers-for-failing-to-get-covid-vaccine/?comments=1', 'https://arstechnica.com/tech-policy/2021/06/bitcoin-now-legal-tender-in-el-salvador-first-nation-to-adopt-cryptocurrency/', 'https://arstechnica.com/tech-policy/2021/06/bitcoin-now-legal-tender-in-el-salvador-first-nation-to-adopt-cryptocurrency/', 'https://arstechnica.com/tech-policy/2021/06/bitcoin-now-legal-tender-in-el-salvador-first-nation-to-adopt-cryptocurrency/', 'https://arstechnica.com/author/tim-de-chant-2/', 'https://arstechnica.com/tech-policy/2021/06/bitcoin-now-legal-tender-in-el-salvador-first-nation-to-adopt-cryptocurrency/?comments=1', 'https://arstechnica.com/gadgets/2021/06/google-kills-its-augmented-reality-measure-app/', 'https://arstechnica.com/gadgets/2021/06/google-kills-its-augmented-reality-measure-app/', 'https://arstechnica.com/gadgets/2021/06/google-kills-its-augmented-reality-measure-app/', 'https://arstechnica.com/author/ronamadeo/', 'https://arstechnica.com/gadgets/2021/06/google-kills-its-augmented-reality-measure-app/?comments=1', 'https://arstechnica.com/gaming/2021/06/battlefield-2042-will-host-128-player-combat-on-pc-next-gen-consoles-oct-22/', 'https://arstechnica.com/gaming/2021/06/battlefield-2042-will-host-128-player-combat-on-pc-next-gen-consoles-oct-22/', 'https://arstechnica.com/gaming/2021/06/battlefield-2042-will-host-128-player-combat-on-pc-next-gen-consoles-oct-22/', 'https://arstechnica.com/author/samred/', 'https://arstechnica.com/gaming/2021/06/battlefield-2042-will-host-128-player-combat-on-pc-next-gen-consoles-oct-22/?comments=1', 'https://arstechnica.com/cars/2021/06/lordstown-motors-warns-its-electric-vehicle-business-may-fail/', 'https://arstechnica.com/cars/2021/06/lordstown-motors-warns-its-electric-vehicle-business-may-fail/', 'https://arstechnica.com/cars/2021/06/lordstown-motors-warns-its-electric-vehicle-business-may-fail/', 'https://arstechnica.com/author/financialtimes/', 'https://arstechnica.com/cars/2021/06/lordstown-motors-warns-its-electric-vehicle-business-may-fail/?comments=1', 'https://arstechnica.com/gadgets/2021/06/hackers-can-mess-with-https-connections-by-sending-data-to-your-email-server/', 'https://arstechnica.com/gadgets/2021/06/hackers-can-mess-with-https-connections-by-sending-data-to-your-email-server/', 'https://arstechnica.com/gadgets/2021/06/hackers-can-mess-with-https-connections-by-sending-data-to-your-email-server/', 'https://arstechnica.com/author/dan-goodin/', 'https://arstechnica.com/gadgets/2021/06/hackers-can-mess-with-https-connections-by-sending-data-to-your-email-server/?comments=1', 'https://arstechnica.com/science/2021/06/a-disgraceful-decision-researchers-blast-fda-for-approving-alzheimers-drug/', 'https://arstechnica.com/science/2021/06/a-disgraceful-decision-researchers-blast-fda-for-approving-alzheimers-drug/', 'https://arstechnica.com/science/2021/06/a-disgraceful-decision-researchers-blast-fda-for-approving-alzheimers-drug/', 'https://arstechnica.com/author/beth/', 'https://arstechnica.com/science/2021/06/a-disgraceful-decision-researchers-blast-fda-for-approving-alzheimers-drug/?comments=1', 'https://arstechnica.com/tech-policy/2021/06/spurred-by-clarence-thomas-ohio-ag-wants-google-declared-a-public-utility/', 'https://arstechnica.com/tech-policy/2021/06/spurred-by-clarence-thomas-ohio-ag-wants-google-declared-a-public-utility/', 'https://arstechnica.com/tech-policy/2021/06/spurred-by-clarence-thomas-ohio-ag-wants-google-declared-a-public-utility/', 'https://arstechnica.com/author/jon-brodkin/', 'https://arstechnica.com/tech-policy/2021/06/spurred-by-clarence-thomas-ohio-ag-wants-google-declared-a-public-utility/?comments=1', 'https://arstechnica.com/gadgets/2021/06/fast-ly-broke-the-internet-for-an-hour-this-morning/', 'https://arstechnica.com/gadgets/2021/06/fast-ly-broke-the-internet-for-an-hour-this-morning/', 'https://arstechnica.com/gadgets/2021/06/fast-ly-broke-the-internet-for-an-hour-this-morning/', 'https://arstechnica.com/author/jimsalter/', 'https://arstechnica.com/gadgets/2021/06/fast-ly-broke-the-internet-for-an-hour-this-morning/?comments=1', 'https://arstechnica.com/staff/2021/06/amazon-deal-anker-noise-canceling-headphones/', 'https://arstechnica.com/staff/2021/06/amazon-deal-anker-noise-canceling-headphones/', 'https://arstechnica.com/staff/2021/06/amazon-deal-anker-noise-canceling-headphones/', 'https://arstechnica.com/author/ars-staff/', 'https://arstechnica.com/staff/2021/06/amazon-deal-anker-noise-canceling-headphones/?comments=1', 'https://arstechnica.com/gadgets/2021/06/here-are-some-macos-monterey-features-the-wwdc-keynote-didnt-mention/', 'https://arstechnica.com/gadgets/2021/06/here-are-some-macos-monterey-features-the-wwdc-keynote-didnt-mention/', 'https://arstechnica.com/gadgets/2021/06/here-are-some-macos-monterey-features-the-wwdc-keynote-didnt-mention/', 'https://arstechnica.com/author/samuelaxon/', 'https://arstechnica.com/gadgets/2021/06/here-are-some-macos-monterey-features-the-wwdc-keynote-didnt-mention/?comments=1', 'https://arstechnica.com/gaming/2021/06/apple-tvs-summer-preview-includes-tantalizing-glimpses-of-foundation-series/', 'https://arstechnica.com/gaming/2021/06/apple-tvs-summer-preview-includes-tantalizing-glimpses-of-foundation-series/', 'https://arstechnica.com/gaming/2021/06/apple-tvs-summer-preview-includes-tantalizing-glimpses-of-foundation-series/', 'https://arstechnica.com/author/jenniferouellette/', 'https://arstechnica.com/gaming/2021/06/apple-tvs-summer-preview-includes-tantalizing-glimpses-of-foundation-series/?comments=1', 'https://arstechnica.com/science/2021/06/will-sir-richard-come-out-of-the-blue-and-beat-bezos-into-space/', 'https://arstechnica.com/science/2021/06/will-sir-richard-come-out-of-the-blue-and-beat-bezos-into-space/', 'https://arstechnica.com/science/2021/06/will-sir-richard-come-out-of-the-blue-and-beat-bezos-into-space/', 'https://arstechnica.com/author/ericberger/', 'https://arstechnica.com/science/2021/06/will-sir-richard-come-out-of-the-blue-and-beat-bezos-into-space/?comments=1', 'https://arstechnica.com/tech-policy/2021/06/fbi-sold-phones-to-organized-crime-and-read-27-million-encrypted-messages/', 'https://arstechnica.com/tech-policy/2021/06/fbi-sold-phones-to-organized-crime-and-read-27-million-encrypted-messages/', 'https://arstechnica.com/tech-policy/2021/06/fbi-sold-phones-to-organized-crime-and-read-27-million-encrypted-messages/', 'https://arstechnica.com/author/jon-brodkin/', 'https://arstechnica.com/tech-policy/2021/06/fbi-sold-phones-to-organized-crime-and-read-27-million-encrypted-messages/?comments=1', 'https://arstechnica.com/gadgets/2021/06/dont-expect-many-wear-os-updates-to-the-revamped-google-samsung-version/', 'https://arstechnica.com/gadgets/2021/06/dont-expect-many-wear-os-updates-to-the-revamped-google-samsung-version/', 'https://arstechnica.com/gadgets/2021/06/dont-expect-many-wear-os-updates-to-the-revamped-google-samsung-version/', 'https://arstechnica.com/author/ronamadeo/', 'https://arstechnica.com/gadgets/2021/06/dont-expect-many-wear-os-updates-to-the-revamped-google-samsung-version/?comments=1', 'https://arstechnica.com/tech-policy/2021/06/amazon-and-walmart-try-again-to-upend-prescription-drug-prices/', 'https://arstechnica.com/tech-policy/2021/06/amazon-and-walmart-try-again-to-upend-prescription-drug-prices/', 'https://arstechnica.com/tech-policy/2021/06/amazon-and-walmart-try-again-to-upend-prescription-drug-prices/', 'https://arstechnica.com/author/tim-de-chant-2/', 'https://arstechnica.com/tech-policy/2021/06/amazon-and-walmart-try-again-to-upend-prescription-drug-prices/?comments=1', 'http://arstechnica.com/?view=mobile', 'http://condenast.com/', 'https://www.condenast.com/user-agreement/', 'https://www.condenast.com/privacy-policy/', 'https://www.condenast.com/privacy-policy/#california', 'https://www.condenast.com/online-behavioral-advertising-oba-and-how-to-opt-out-of-oba/#clickheretoreadmoreaboutonlinebehavioraladvertising(oba)']\n"
     ]
    }
   ],
   "source": [
    "def getLinks(url):\n",
    "    raw_page = requests.get(url)\n",
    "    html_page = raw_page.text\n",
    "    #html_page = urllib.request.urlopen(url)\n",
    "    soup = bs(html_page)\n",
    "    links = []\n",
    "    for link in soup.findAll('a', attrs={'href': re.compile(\"^http[s]?://\")}):\n",
    "        links.append(link.get('href'))\n",
    "    return links\n",
    "\n",
    "print(getLinks(\"https://arstechnica.com\"))"
   ]
  },
  {
   "cell_type": "markdown",
   "metadata": {},
   "source": [
    "### Extracting specific information"
   ]
  },
  {
   "cell_type": "code",
   "execution_count": 65,
   "metadata": {},
   "outputs": [],
   "source": [
    "website_url = 'https://thegreenestworkforce.ca/index.php/en/schools/' \n",
    "content = requests.get(website_url).text\n",
    "soup = bs(content,'lxml')"
   ]
  },
  {
   "cell_type": "code",
   "execution_count": 68,
   "metadata": {},
   "outputs": [
    {
     "data": {
      "text/plain": [
       "'\\n\\n\\nA complete list of Canadian Universities and Colleges - The Greenest Workforce : The Greenest Workforce\\n\\n\\n\\n\\n\\n\\n\\n\\n\\n\\n\\n\\n\\n\\n\\n\\n\\n\\n\\nif(typeof stLight != \"undefined\" ){\\n\\tstLight.options({\\n\\t\\tpublisher: \"df7e08d0-fa61-487f-be1c-0db70716d1aa\",\\n\\t\\tsnapsets:false,\\n\\t\\tservicePopup:true,\\n\\t\\tonhover: false\\n\\t\\t}); \\n\\t//stLight.options({snapsets:false});\\n}\\n\\n\\n\\n\\n\\n\\n\\n\\n\\n\\n\\n\\n\\n\\n{\"@context\":\"https://schema.org\",\"@graph\":[{\"@type\":\"WebSite\",\"@id\":\"http://thegreenestworkforce.ca/index.php/en/home/#website\",\"url\":\"http://thegreenestworkforce.ca/index.php/en/home/\",\"name\":\"The Greenest Workforce\",\"description\":\"\",\"potentialAction\":[{\"@type\":\"SearchAction\",\"target\":\"http://thegreenestworkforce.ca/index.php/en/home/?s={search_term_string}\",\"query-input\":\"required name=search_term_string\"}],\"inLanguage\":\"en-CA\"},{\"@type\":\"WebPage\",\"@id\":\"https://thegreenestworkforce.ca/index.php/en/schools/#webpage\",\"url\":\"https://thegreenestworkforce.ca/index.php/en/schools/\",\"name\":\"A complete list of Canadian Universities and Colleges - The Greenest Workforce\",\"isPartOf\":{\"@id\":\"http://thegreenestworkforce.ca/index.php/en/home/#website\"},\"datePublished\":\"2015-01-15T02:24:10+00:00\",\"dateModified\":\"2015-01-15T02:26:55+00:00\",\"breadcrumb\":{\"@id\":\"https://thegreenestworkforce.ca/index.php/en/schools/#breadcrumb\"},\"inLanguage\":\"en-CA\",\"potentialAction\":[{\"@type\":\"ReadAction\",\"target\":[\"https://thegreenestworkforce.ca/index.php/en/schools/\"]}]},{\"@type\":\"BreadcrumbList\",\"@id\":\"https://thegreenestworkforce.ca/index.php/en/schools/#breadcrumb\",\"itemListElement\":[{\"@type\":\"ListItem\",\"position\":1,\"item\":{\"@type\":\"WebPage\",\"@id\":\"https://thegreenestworkforce.ca/index.php/en/home/\",\"url\":\"https://thegreenestworkforce.ca/index.php/en/home/\",\"name\":\"Home\"}},{\"@type\":\"ListItem\",\"position\":2,\"item\":{\"@type\":\"WebPage\",\"@id\":\"https://thegreenestworkforce.ca/index.php/en/\",\"url\":\"https://thegreenestworkforce.ca/index.php/en/\",\"name\":\"en\"}},{\"@type\":\"ListItem\",\"position\":3,\"item\":{\"@id\":\"https://thegreenestworkforce.ca/index.php/en/schools/#webpage\"}}]}]}\\n\\n\\n\\n\\n\\n\\t\\t\\twindow._wpemojiSettings = {\"baseUrl\":\"https:\\\\/\\\\/s.w.org\\\\/images\\\\/core\\\\/emoji\\\\/13.0.1\\\\/72x72\\\\/\",\"ext\":\".png\",\"svgUrl\":\"https:\\\\/\\\\/s.w.org\\\\/images\\\\/core\\\\/emoji\\\\/13.0.1\\\\/svg\\\\/\",\"svgExt\":\".svg\",\"source\":{\"concatemoji\":\"https:\\\\/\\\\/thegreenestworkforce.ca\\\\/wp-includes\\\\/js\\\\/wp-emoji-release.min.js?ver=5.7.2\"}};\\n\\t\\t\\t!function(e,a,t){var n,r,o,i=a.createElement(\"canvas\"),p=i.getContext&&i.getContext(\"2d\");function s(e,t){var a=String.fromCharCode;p.clearRect(0,0,i.width,i.height),p.fillText(a.apply(this,e),0,0);e=i.toDataURL();return p.clearRect(0,0,i.width,i.height),p.fillText(a.apply(this,t),0,0),e===i.toDataURL()}function c(e){var t=a.createElement(\"script\");t.src=e,t.defer=t.type=\"text/javascript\",a.getElementsByTagName(\"head\")[0].appendChild(t)}for(o=Array(\"flag\",\"emoji\"),t.supports={everything:!0,everythingExceptFlag:!0},r=0;r<o.length;r++)t.supports[o[r]]=function(e){if(!p||!p.fillText)return!1;switch(p.textBaseline=\"top\",p.font=\"600 32px Arial\",e){case\"flag\":return s([127987,65039,8205,9895,65039],[127987,65039,8203,9895,65039])?!1:!s([55356,56826,55356,56819],[55356,56826,8203,55356,56819])&&!s([55356,57332,56128,56423,56128,56418,56128,56421,56128,56430,56128,56423,56128,56447],[55356,57332,8203,56128,56423,8203,56128,56418,8203,56128,56421,8203,56128,56430,8203,56128,56423,8203,56128,56447]);case\"emoji\":return!s([55357,56424,8205,55356,57212],[55357,56424,8203,55356,57212])}return!1}(o[r]),t.supports.everything=t.supports.everything&&t.supports[o[r]],\"flag\"!==o[r]&&(t.supports.everythingExceptFlag=t.supports.everythingExceptFlag&&t.supports[o[r]]);t.supports.everythingExceptFlag=t.supports.everythingExceptFlag&&!t.supports.flag,t.DOMReady=!1,t.readyCallback=function(){t.DOMReady=!0},t.supports.everything||(n=function(){t.readyCallback()},a.addEventListener?(a.addEventListener(\"DOMContentLoaded\",n,!1),e.addEventListener(\"load\",n,!1)):(e.attachEvent(\"onload\",n),a.attachEvent(\"onreadystatechange\",function(){\"complete\"===a.readyState&&t.readyC'"
      ]
     },
     "execution_count": 68,
     "metadata": {},
     "output_type": "execute_result"
    }
   ],
   "source": [
    "soup.get_text()[0:4000]"
   ]
  },
  {
   "cell_type": "markdown",
   "metadata": {},
   "source": [
    "#### Inspect page source code"
   ]
  },
  {
   "cell_type": "code",
   "execution_count": 69,
   "metadata": {},
   "outputs": [],
   "source": [
    "My_table = soup.find('article',{'id':'post-17896'})"
   ]
  },
  {
   "cell_type": "code",
   "execution_count": 70,
   "metadata": {},
   "outputs": [
    {
     "data": {
      "text/plain": [
       "['\\n',\n",
       " <h2>Universities</h2>,\n",
       " '\\n',\n",
       " <h3>British Columbia</h3>,\n",
       " '\\n',\n",
       " <p><a href=\"http://www.viu.ca/\" target=\"_blank\" title=\"Vancouver Island University\">Vancouver Island University</a><br/>\n",
       " <a href=\"http://www.royalroads.ca/\" target=\"_blank\" title=\"Royal Roads University\">Royal Roads University</a><br/>\n",
       " <a href=\"http://www.sfu.ca/\" target=\"_blank\" title=\"Simon Fraser University\">Simon Fraser University</a><br/>\n",
       " <a href=\"https://www.twu.ca/\" target=\"_blank\" title=\"Trinity Western University\">Trinity Western University</a><br/>\n",
       " <a href=\"http://www.tru.ca/\" target=\"_blank\" title=\"Thompson River University\">Thompson River University</a><br/>\n",
       " <a href=\"http://www.ufv.ca/\" target=\"_blank\" title=\"University of the Fraser Valley\">University of the Fraser Valley</a><br/>\n",
       " <a href=\"http://www.ubc.ca/\" target=\"_blank\" title=\"University of British Columbia\">University of British Columbia</a><br/>\n",
       " <a href=\"http://www.unbc.ca/\" target=\"_blank\" title=\"University of Northern British Columbia\">University of Northern British Columbia</a><br/>\n",
       " <a href=\"http://www.uvic.ca/\" target=\"_blank\" title=\"University of Victoria\">University of Victoria</a></p>,\n",
       " '\\n',\n",
       " <h3>Saskatchewan</h3>,\n",
       " '\\n',\n",
       " <p><a href=\"http://www.fnuniv.ca/\" target=\"_blank\" title=\"First Nations University of Canada\">First Nations University of Canada</a><br/>\n",
       " <a href=\"http://www.uregina.ca/\" target=\"_blank\" title=\"University of Regina\">University of Regina</a><br/>\n",
       " <a href=\"http://www.usask.ca/\" target=\"_blank\" title=\"University of Saskatchewan\">University of Saskatchewan</a></p>]"
      ]
     },
     "execution_count": 70,
     "metadata": {},
     "output_type": "execute_result"
    }
   ],
   "source": [
    "My_table.contents[0:10]"
   ]
  },
  {
   "cell_type": "code",
   "execution_count": 71,
   "metadata": {},
   "outputs": [
    {
     "data": {
      "text/plain": [
       "[<a href=\"http://www.viu.ca/\" target=\"_blank\" title=\"Vancouver Island University\">Vancouver Island University</a>,\n",
       " <a href=\"http://www.royalroads.ca/\" target=\"_blank\" title=\"Royal Roads University\">Royal Roads University</a>,\n",
       " <a href=\"http://www.sfu.ca/\" target=\"_blank\" title=\"Simon Fraser University\">Simon Fraser University</a>,\n",
       " <a href=\"https://www.twu.ca/\" target=\"_blank\" title=\"Trinity Western University\">Trinity Western University</a>,\n",
       " <a href=\"http://www.tru.ca/\" target=\"_blank\" title=\"Thompson River University\">Thompson River University</a>,\n",
       " <a href=\"http://www.ufv.ca/\" target=\"_blank\" title=\"University of the Fraser Valley\">University of the Fraser Valley</a>,\n",
       " <a href=\"http://www.ubc.ca/\" target=\"_blank\" title=\"University of British Columbia\">University of British Columbia</a>,\n",
       " <a href=\"http://www.unbc.ca/\" target=\"_blank\" title=\"University of Northern British Columbia\">University of Northern British Columbia</a>,\n",
       " <a href=\"http://www.uvic.ca/\" target=\"_blank\" title=\"University of Victoria\">University of Victoria</a>,\n",
       " <a href=\"http://www.fnuniv.ca/\" target=\"_blank\" title=\"First Nations University of Canada\">First Nations University of Canada</a>]"
      ]
     },
     "execution_count": 71,
     "metadata": {},
     "output_type": "execute_result"
    }
   ],
   "source": [
    "links = My_table.findAll('a')\n",
    "links[0:10]"
   ]
  },
  {
   "cell_type": "code",
   "execution_count": 72,
   "metadata": {},
   "outputs": [
    {
     "name": "stdout",
     "output_type": "stream",
     "text": [
      "['http://www.viu.ca/', 'http://www.royalroads.ca/', 'http://www.sfu.ca/', 'https://www.twu.ca/', 'http://www.tru.ca/', 'http://www.ufv.ca/', 'http://www.ubc.ca/', 'http://www.unbc.ca/', 'http://www.uvic.ca/', 'http://www.fnuniv.ca/', 'http://www.uregina.ca/', 'http://www.usask.ca/', 'http://www.athabascau.ca/', 'http://www.augustana.ualberta.ca/', 'http://concordia.ab.ca/', 'http://www.kingsu.ca/', 'http://www.ualberta.ca/', 'http://www.ucalgary.ca/', 'http://www.uleth.ca/', 'http://www.macewan.ca/wcm/index.htm', 'http://www.mtroyal.ca/', 'http://www.brandonu.ca/', 'http://umanitoba.ca/', 'http://www.uwinnipeg.ca/', 'http://www.cmu.ca/', 'http://umanitoba.ca/stpauls/', 'http://ustboniface.ca/', 'http://www.algomau.ca/', 'http://brescia.uwo.ca/', 'http://www.brocku.ca/', 'http://carleton.ca/', 'http://www.dominicanu.ca/', 'http://www.huronuc.on.ca/Home', 'http://www.kings.uwo.ca/', 'https://www.lakeheadu.ca/', 'http://laurentian.ca/', 'http://www.mcmaster.ca/', 'http://www.nipissingu.ca/', 'http://www.ocadu.ca/', 'http://www.queensu.ca/', 'http://www.redeemer.ca/', 'http://www.rmc.ca/', 'http://www.ryerson.ca/index.html', 'http://ustpaul.ca/', 'http://www.sju.ca/', 'http://www.trentu.ca/', 'http://www.uoguelph.ca/', 'http://www.uoit.ca/', 'http://www.uottawa.ca/en', 'http://stmikes.utoronto.ca/', 'http://www.usudbury.ca/', 'http://www.utoronto.ca/', 'http://www.trinity.utoronto.ca/', 'https://uwaterloo.ca/', 'http://www.uwo.ca/', 'http://www.uwindsor.ca/', 'http://www.vicu.utoronto.ca/home', 'https://www.wlu.ca/', 'http://futurestudents.yorku.ca/', 'http://www.ubishops.ca/index.html', 'https://www.concordia.ca/', 'http://www.etsmtl.ca/', 'http://www.etsmtl.ca/', 'http://www.polymtl.ca/', 'http://www.hec.ca/en/', 'http://www.inrs.ca/english/homepage', 'http://www.mcgill.ca/', 'http://www.teluq.ca/', 'http://www.umontreal.ca/english/', 'http://www.usherbrooke.ca/', 'http://www.uQuébec.ca/reseau/', 'http://www.uqac.ca/', 'http://www.uqam.ca/', 'http://www.uqar.ca/english/', 'http://www.uqtr.ca/', 'http://www.uqat.ca/en/', 'http://uqo.ca/', 'http://www2.ulaval.ca/en/home.html', 'http://home.upei.ca/', 'http://www2.acadiau.ca/', 'http://www.cbu.ca/', 'http://www.dal.ca/', 'http://www.msvu.ca/en/home/default.aspx', 'http://nscad.ca/en/home/default.aspx', 'http://www.smu.ca/', 'http://www.stfx.ca/', 'https://www.usainteanne.ca/english', 'http://www.ukings.ca/', 'http://www.mta.ca/Prospective/Default.aspx', 'http://w3.stu.ca/stu/default.aspx', 'http://www.umoncton.ca/', 'http://www.unb.ca/', 'http://www.mun.ca/', 'http://www.bcit.ca/', 'http://www.okanagan.bc.ca/', 'http://www.ashtoncollege.com/', 'https://www.brightoncollege.org.uk/', 'http://www.columbiacollege.ca/', 'http://camosun.ca/', 'http://ccbst.ca/', 'http://www.capilanou.ca/', 'http://www.educacentre.com/en/', 'http://www.cnc.bc.ca/', 'http://www.cotr.bc.ca/', 'https://www.douglascollege.ca/', 'http://www.etoncollege.com/', 'http://www.jibc.ca/', 'http://www.kpu.ca/', 'http://www.langara.bc.ca/', 'http://www.necvancouver.org/', 'http://www.nvit.ca/', 'http://www.nic.bc.ca/', 'http://www.nlc.bc.ca/', 'http://www.nwcc.bc.ca/', 'http://www.okanagan.bc.ca/', 'http://selkirk.ca/', 'http://sprottshaw.com/', 'http://www.vcc.ca/', 'http://www.vanarts.com/', 'http://eal.wtc.mb.ca/', 'http://public.assiniboine.net/default.aspx', 'https://www.ucn.ca/default.aspx', 'http://www.rrc.mb.ca/', 'http://ustboniface.ca/etp', 'http://www.mitt.ca/wp/', 'http://www.nbccd.ca/en/home/default.aspx', 'http://www.nbcc.ca/', 'http://mcft.ca/en', 'http://nbbi.ca/', 'http://www.cna.nl.ca/', 'http://www.mi.mun.ca/', 'http://www.cns.nf.ca/', 'https://www.uoguelph.ca/alfred/fr/bienvenue', 'http://www.algonquincollege.com/', 'http://www.collegeboreal.ca/accueil', 'http://www.cambriancollege.ca/Pages/Home.aspx', 'http://www.canadorecollege.ca/', 'http://www.centennialcollege.ca/', 'https://www.collegelacite.ca/', 'http://www.conestogac.on.ca/', 'http://www.confederationc.on.ca/programs', 'http://www.durhamcollege.ca/', 'http://www.fanshawec.ca/', 'http://flemingcollege.ca/', 'http://www.georgebrown.ca/', 'http://www.georgiancollege.ca/', 'http://www.uoguelph.ca/campus/regional/', 'https://www.lambton.on.ca/', 'http://www.loyalistcollege.com/', 'http://michener.ca/', 'http://www.mohawkcollege.ca/', 'http://www.niagaracollege.ca/content/', 'http://www.northernc.on.ca/', 'http://www.stclaircollege.ca/', 'http://www.stlawrencecollege.ca/', 'http://www.saultcollege.ca/', 'http://www.senecacollege.ca/', 'https://www.sheridancollege.ca/', 'http://www.auroracollege.nt.ca/_live/pages/wpPages/home.aspx', 'http://www.academyoflearning.com/', 'http://www.ccg-gcc.gc.ca/eng/CCG/College/welcome', 'http://www.gaeliccollege.edu/', 'http://www.kbca.ca/page.aspx?site=kbca', 'http://www.nscc.ca/', 'http://www.arcticcollege.ca/', 'http://www.hollandcollege.com/', 'http://www.mccpei.com/', 'http://www.collegeacadieipe.ca/greenest/index.php/fr/', 'http://www.cegepat.qc.ca/accueil', 'http://www.collegeahuntsic.qc.ca/', 'http://www.claurendeau.qc.ca/accueil', 'http://www.cegep-baie-comeau.qc.ca/accueil', 'http://www.cegepba.qc.ca/', 'http://bdeb.qc.ca/', 'http://admin.crc-sher.qc.ca/', 'http://www.cegep-chicoutimi.qc.ca/', 'http://www.dawsoncollege.qc.ca/', 'http://www.cdrummond.qc.ca/', 'http://www.college-em.qc.ca/college-cegep-edouard-montpetit-longueuil-ecole-nationale-daerotechnique', 'http://www.cegepgarneau.ca/en/', 'http://www.cegepgim.ca/', 'http://www.cgodin.qc.ca/accueil', 'http://www.cegepgranby.qc.ca/accueil', 'http://www.cegep-heritage.qc.ca/', 'http://www.johnabbott.qc.ca/', 'http://www.cegepjonquiere.ca/cegep/', 'http://www.cegeplapocatiere.qc.ca/MyScriptorWeb/scripto.asp?resultat=533169', 'http://www.cegep-lanaudiere.qc.ca/', 'http://cll.qc.ca/', 'http://www.cegeplimoilou.ca/', 'http://www.clg.qc.ca/', 'http://www.cmaisonneuve.qc.ca/cegep-montreal-dec-preuniversitaire-technique-accueil', 'http://www.collegemv.qc.ca/', 'http://www.cegep-matane.qc.ca/', 'http://www.cmontmorency.qc.ca/', 'http://www.cegepoutaouais.qc.ca/', 'http://www.cegep-rimouski.qc.ca/', 'http://www.crosemont.qc.ca/accueil', 'http://www.cegepstfe.ca/', 'http://www.cegepsth.qc.ca/', 'http://www.cstjean.qc.ca/accueil', 'http://www.cstj.qc.ca/', 'http://www.cegepsl.qc.ca/', 'http://www.cegep-ste-foy.qc.ca/csf4/index.php', 'http://www.cegep-sept-iles.qc.ca/', 'http://www.collegeshawinigan.ca/', 'http://cegepsherbrooke.qc.ca/', 'http://www.cegepst.qc.ca/', 'http://www.cegepth.qc.ca/accueil', 'http://www.cegeptr.qc.ca/', 'https://www.colval.qc.ca/', 'http://www.vaniercollege.qc.ca/', 'http://www.cgpvicto.qc.ca/formation-collegiale/index.aspx', 'http://www.cvm.qc.ca/Pages/index.aspx', 'http://bart.ca/', 'http://www.brebeuf.qc.ca/', 'http://www.clafleche.qc.ca/', 'http://www.collegelasalle.com/', 'http://www.marianopolis.edu/', 'http://www.cimf.ca/', 'https://www.merici.ca/', 'http://www.osullivan.edu/en/', 'http://www.osullivan-Québec.qc.ca/', 'http://www.stanislas.qc.ca/', 'http://www.emvi.qc.ca/', 'http://www.nationalcircusschool.ca/en/home', 'http://www.seminaire-sherbrooke.qc.ca/', 'http://www.trebas.com/', 'http://bethany.sk.ca/', 'http://www.briercrest.ca/', 'http://www.ctrc.sk.ca/', 'http://www.horizon.edu/home', 'http://www.collegemathieu.sk.ca/', 'https://www.cumberlandcollege.sk.ca/', 'http://www.estoncollege.ca/', 'http://www.greatplainscollege.ca/', 'http://nipawin.org/', 'http://trainnorth.ca/', 'http://www.nwrc.sk.ca/', 'http://www.parklandcollege.sk.ca/', 'http://www.siit.sk.ca/', 'http://saskpolytech.ca/', 'http://www.southeastcollege.org/', 'http://www.stpeterscollege.ca/', 'http://www.wabcwesternacademy.com/', 'http://www.yukoncollege.yk.ca/']\n"
     ]
    }
   ],
   "source": [
    "colleges = []\n",
    "for link in links:\n",
    "    colleges.append(link.get('href'))\n",
    "    \n",
    "print(colleges)"
   ]
  },
  {
   "cell_type": "code",
   "execution_count": 73,
   "metadata": {},
   "outputs": [
    {
     "data": {
      "text/html": [
       "<div>\n",
       "<style scoped>\n",
       "    .dataframe tbody tr th:only-of-type {\n",
       "        vertical-align: middle;\n",
       "    }\n",
       "\n",
       "    .dataframe tbody tr th {\n",
       "        vertical-align: top;\n",
       "    }\n",
       "\n",
       "    .dataframe thead th {\n",
       "        text-align: right;\n",
       "    }\n",
       "</style>\n",
       "<table border=\"1\" class=\"dataframe\">\n",
       "  <thead>\n",
       "    <tr style=\"text-align: right;\">\n",
       "      <th></th>\n",
       "      <th>University</th>\n",
       "    </tr>\n",
       "  </thead>\n",
       "  <tbody>\n",
       "    <tr>\n",
       "      <th>0</th>\n",
       "      <td>http://www.viu.ca/</td>\n",
       "    </tr>\n",
       "    <tr>\n",
       "      <th>1</th>\n",
       "      <td>http://www.royalroads.ca/</td>\n",
       "    </tr>\n",
       "    <tr>\n",
       "      <th>2</th>\n",
       "      <td>http://www.sfu.ca/</td>\n",
       "    </tr>\n",
       "    <tr>\n",
       "      <th>3</th>\n",
       "      <td>https://www.twu.ca/</td>\n",
       "    </tr>\n",
       "    <tr>\n",
       "      <th>4</th>\n",
       "      <td>http://www.tru.ca/</td>\n",
       "    </tr>\n",
       "  </tbody>\n",
       "</table>\n",
       "</div>"
      ],
      "text/plain": [
       "                  University\n",
       "0         http://www.viu.ca/\n",
       "1  http://www.royalroads.ca/\n",
       "2         http://www.sfu.ca/\n",
       "3        https://www.twu.ca/\n",
       "4         http://www.tru.ca/"
      ]
     },
     "execution_count": 73,
     "metadata": {},
     "output_type": "execute_result"
    }
   ],
   "source": [
    "df = pd.DataFrame()\n",
    "df['University'] = colleges\n",
    "df.head()"
   ]
  },
  {
   "cell_type": "markdown",
   "metadata": {},
   "source": [
    "### [Example](https://towardsdatascience.com/web-scraping-101-in-python-35f8653b1c97) with parameters\n",
    "\n",
    "Check this [IMDB](https://www.imdb.com/search/title/?count=100&groups=top_1000&sort=user_rating) webpage:"
   ]
  },
  {
   "cell_type": "markdown",
   "metadata": {},
   "source": [
    "After taking a look at the IMDB webpage, we’ll set out to extract (all highlighted in the above screenshot of the page):\n",
    "\n",
    "+ Movie title\n",
    "+ Release year\n",
    "+ Runtime\n",
    "+ Audience rating\n",
    "+ Genre\n",
    "+ IMDB rating\n",
    "+ Number of votes\n",
    "+ Box office earnings\n",
    "+ Director\n",
    "+ Primary actors"
   ]
  },
  {
   "cell_type": "code",
   "execution_count": 75,
   "metadata": {},
   "outputs": [],
   "source": [
    "url = 'https://www.imdb.com/search/title/?count=100&groups=top_1000&sort=user_rating'\n",
    "\n",
    "def get_page_contents(url):\n",
    "    page = requests.get(url, headers={\"Accept-Language\": \"en-US\"})\n",
    "    return bs(page.text, \"html.parser\")\n",
    "\n",
    "soup = get_page_contents(url)"
   ]
  },
  {
   "cell_type": "markdown",
   "metadata": {},
   "source": [
    "Extracting text: Movie titles and release year\n",
    "\n",
    "Since we’ve already located the HTML tag containing each movie card, we can get a list of all distinct movies and their corresponding HTML by:"
   ]
  },
  {
   "cell_type": "code",
   "execution_count": 85,
   "metadata": {},
   "outputs": [
    {
     "data": {
      "text/plain": [
       "[<h3 class=\"lister-item-header\">\n",
       " <span class=\"lister-item-index unbold text-primary\">1.</span>\n",
       " <a href=\"/title/tt0111161/\">The Shawshank Redemption</a>\n",
       " <span class=\"lister-item-year text-muted unbold\">(1994)</span>\n",
       " </h3>, <h3 class=\"lister-item-header\">\n",
       " <span class=\"lister-item-index unbold text-primary\">2.</span>\n",
       " <a href=\"/title/tt0068646/\">The Godfather</a>\n",
       " <span class=\"lister-item-year text-muted unbold\">(1972)</span>\n",
       " </h3>, <h3 class=\"lister-item-header\">\n",
       " <span class=\"lister-item-index unbold text-primary\">3.</span>\n",
       " <a href=\"/title/tt10189514/\">Soorarai Pottru</a>\n",
       " <span class=\"lister-item-year text-muted unbold\">(2020)</span>\n",
       " </h3>, <h3 class=\"lister-item-header\">\n",
       " <span class=\"lister-item-index unbold text-primary\">4.</span>\n",
       " <a href=\"/title/tt0468569/\">The Dark Knight</a>\n",
       " <span class=\"lister-item-year text-muted unbold\">(2008)</span>\n",
       " </h3>, <h3 class=\"lister-item-header\">\n",
       " <span class=\"lister-item-index unbold text-primary\">5.</span>\n",
       " <a href=\"/title/tt0071562/\">The Godfather: Part II</a>\n",
       " <span class=\"lister-item-year text-muted unbold\">(1974)</span>\n",
       " </h3>]"
      ]
     },
     "execution_count": 85,
     "metadata": {},
     "output_type": "execute_result"
    }
   ],
   "source": [
    "movies = soup.findAll('h3', class_='lister-item-header')\n",
    "movies[0:5]"
   ]
  },
  {
   "cell_type": "markdown",
   "metadata": {},
   "source": [
    "The findAll method creates a list where each entry contains the HTML that’s captured within the h3 tag and list-item-header class.  \n",
    "By taking a deeper look at the first movies HTML and see that the movie title can be found under the first a tag.\n",
    "\n",
    "To capture this attribute we can loop through all movies and either call findAll and grab the first element of the list, or we can use the find method which automatically grabs the first tag it finds. Thus, we can construct a list of all movie titles (with a little help from list comprehensions for efficiency) through:"
   ]
  },
  {
   "cell_type": "code",
   "execution_count": 86,
   "metadata": {},
   "outputs": [
    {
     "data": {
      "text/plain": [
       "['The Shawshank Redemption',\n",
       " 'The Godfather',\n",
       " 'Soorarai Pottru',\n",
       " 'The Dark Knight',\n",
       " 'The Godfather: Part II',\n",
       " '12 Angry Men',\n",
       " 'The Lord of the Rings: The Return of the King',\n",
       " 'Pulp Fiction',\n",
       " \"Schindler's List\",\n",
       " 'Inception']"
      ]
     },
     "execution_count": 86,
     "metadata": {},
     "output_type": "execute_result"
    }
   ],
   "source": [
    "titles = [movie.find('a').text for movie in movies]\n",
    "titles[0:10]"
   ]
  },
  {
   "cell_type": "markdown",
   "metadata": {},
   "source": [
    "Release years can be found under the tag span and class lister-item-year text-muted unbold. To grab these, we can follow a similar approach as before:"
   ]
  },
  {
   "cell_type": "code",
   "execution_count": 97,
   "metadata": {},
   "outputs": [
    {
     "data": {
      "text/plain": [
       "['(1994)',\n",
       " '(1972)',\n",
       " '(2020)',\n",
       " '(2008)',\n",
       " '(1974)',\n",
       " '(1957)',\n",
       " '(2003)',\n",
       " '(1994)',\n",
       " '(1993)',\n",
       " '(2010)']"
      ]
     },
     "execution_count": 97,
     "metadata": {},
     "output_type": "execute_result"
    }
   ],
   "source": [
    "release = [movie.find('span', class_='lister-item-year text-muted unbold').text for movie in movies]\n",
    "release[0:10]"
   ]
  },
  {
   "cell_type": "markdown",
   "metadata": {},
   "source": [
    "Extracting Numerical Values:\n",
    "\n",
    "In the case of IMDB ratings, number of votes and box office earnings we can see that while these may be available as string values, can also grab the actual numerical values from the data-value attribute within each respective tag.\n",
    "\n",
    "Here’s the IMDB rating of The Godfather:  \n",
    "\\<div class=\"inline-block ratings-imdb-rating\" name=\"ir\" data-value=\"9.2\">"
   ]
  },
  {
   "cell_type": "code",
   "execution_count": 99,
   "metadata": {},
   "outputs": [
    {
     "data": {
      "text/plain": [
       "'9.3'"
      ]
     },
     "execution_count": 99,
     "metadata": {},
     "output_type": "execute_result"
    }
   ],
   "source": [
    "soup.find('div', class_='inline-block ratings-imdb-rating')['data-value']"
   ]
  },
  {
   "cell_type": "markdown",
   "metadata": {},
   "source": [
    "In the case of number of votes and earnings we don’t have a class attribute to filter for. Here are the number of votes and estimated box office earnings:"
   ]
  },
  {
   "cell_type": "code",
   "execution_count": 113,
   "metadata": {},
   "outputs": [
    {
     "name": "stdout",
     "output_type": "stream",
     "text": [
      "['2403919', '28,341,469', '1664112', '134,966,411', '82292', '2364010', '534,858,444', '1156430', '57,300,000', '708614', '4,360,000', '1676983', '377,845,905', '1868052', '107,928,762', '1239802', '96,898,818', '2121524', '292,576,195', '1898124', '37,030,102', '1697811', '315,544,750', '1857841', '330,252,182', '702202', '6,100,000', '26513', '1516335', '342,551,365', '1715786', '171,479,930', '1045983', '46,836,394', '1181860', '290,475,067', '935635', '112,000,000', '616481', '53,367,844', '1566319', '188,020,017', '710829', '7,563,397', '673616', '10,055,859', '1266360', '216,540,909', '1177173', '136,801,374', '638510', '57,598,247', '1481817', '100,125,643', '1302523', '130,742,922', '1253884', '322,740,140', '45494', '25595', '536,364', '322199', '269,061', '413436', '30729', '742195', '13,092,000', '780714', '13,182,281', '1219482', '53,089,891', '1216495', '132,384,315', '751462', '32,572,577', '1370604', '187,705,427', '1051481', '6,719,864', '1010012', '23,341,568', '1059273', '19,501,238', '964145', '422,783,777', '1013508', '204,843,350', '237484', '11,990,401', '244182', '1085676', '210,609,762', '308453', '5,321,508', '617236', '32,000,000', '453372', '36,764,313', '531566', '1,024,560', '223352', '163,245', '171627', '19,181', '65612', '69842', '1,661,096', '1008195', '335,451,311', '35816', '31198', '211057', '5,017,246', '164683', '12,391,761', '403731', '190,241,310', '884343', '858,373,000', '883898', '678,815,482', '409145', '209,726,015', '1393701', '162,805,434', '1549457', '448,139,099', '357257', '6,532,908', '175515', '1,223,869', '1022138', '223,808,164', '366258', '11,286,112', '528717', '707,481', '1147833', '25,544,867', '353901', '2,375,308', '319205', '5,321,508', '899642', '248,159,971', '920484', '44,017,374', '618691', '83,471,511', '805384', '78,900,000', '36900', '458423', '275,902', '112354', '8,175,000', '182569', '205891', '207430', '288,475', '38246', '898,575', '465149', '159,227,644', '32583', '36134', '293872', '687,185', '225809', '7,098,492', '156166', '6,857,096', '34729', '67170', '81181', '1302284', '120,540,719', '930052', '34,400,301', '714890', '33,225,499', '796576', '30,328,156']\n"
     ]
    }
   ],
   "source": [
    "votes_earnings = soup.findAll('span', {'name':'nv'})\n",
    "print([ve['data-value'] for ve in votes_earnings])"
   ]
  },
  {
   "cell_type": "code",
   "execution_count": 122,
   "metadata": {},
   "outputs": [
    {
     "name": "stdout",
     "output_type": "stream",
     "text": [
      "['2403919', '1664112', '82292', '534,858,444', '57,300,000']\n",
      "['28,341,469', '134,966,411', '2364010', '1156430', '708614']\n"
     ]
    }
   ],
   "source": [
    "votes = []\n",
    "earnings = []\n",
    "idx = 0\n",
    "while idx < len(votes_earnings)-1:\n",
    "    votes.append(votes_earnings[idx]['data-value'])\n",
    "    earnings.append(votes_earnings[idx+1]['data-value'])\n",
    "    idx+=2\n",
    "print(votes[0:5])\n",
    "print(earnings[0:5])"
   ]
  },
  {
   "cell_type": "markdown",
   "metadata": {},
   "source": [
    "Nested Values\n",
    "\n",
    "In the case where the data we need is located within multiple levels of generic tags, we’ll need to dig into this nested structure to extract what we need.\n",
    "\n",
    "In the case of the movie directors and actors we’ll need to do just that. From inspecting the HTML we see that the director information is located within an initial p tag and thereafter an a tag — both without class attributes making it necessary to unnest the data. We’ll do this by calling find and findAll repeatedly.\n",
    "\n",
    "Since the director is the 1st a tag, we can extract this information through:"
   ]
  },
  {
   "cell_type": "code",
   "execution_count": 148,
   "metadata": {},
   "outputs": [
    {
     "name": "stdout",
     "output_type": "stream",
     "text": [
      "---\n",
      "<a href=\"/name/nm0001104/\">Frank Darabont</a>\n",
      "Frank Darabont\n",
      "<a href=\"/name/nm0000209/\">Tim Robbins</a>\n",
      "Tim Robbins\n",
      "<a href=\"/name/nm0000151/\">Morgan Freeman</a>\n",
      "Morgan Freeman\n",
      "<a href=\"/name/nm0348409/\">Bob Gunton</a>\n",
      "Bob Gunton\n",
      "<a href=\"/name/nm0006669/\">William Sadler</a>\n",
      "William Sadler\n",
      "---\n",
      "<a href=\"/name/nm0000338/\">Francis Ford Coppola</a>\n",
      "Francis Ford Coppola\n",
      "<a href=\"/name/nm0000008/\">Marlon Brando</a>\n",
      "Marlon Brando\n",
      "<a href=\"/name/nm0000199/\">Al Pacino</a>\n",
      "Al Pacino\n",
      "<a href=\"/name/nm0001001/\">James Caan</a>\n",
      "James Caan\n",
      "<a href=\"/name/nm0000473/\">Diane Keaton</a>\n",
      "Diane Keaton\n"
     ]
    }
   ],
   "source": [
    "for l1 in soup.findAll('p')[0:10]:\n",
    "    if l1.find('a'):\n",
    "        print('---')\n",
    "        for l2 in l1.findAll('a'):\n",
    "            print(l2)\n",
    "            print(l2.text)"
   ]
  },
  {
   "cell_type": "code",
   "execution_count": 143,
   "metadata": {},
   "outputs": [
    {
     "data": {
      "text/plain": [
       "['Frank Darabont',\n",
       " 'Tim Robbins',\n",
       " 'Morgan Freeman',\n",
       " 'Bob Gunton',\n",
       " 'William Sadler']"
      ]
     },
     "execution_count": 143,
     "metadata": {},
     "output_type": "execute_result"
    }
   ],
   "source": [
    "actors = [actor.text for actor in soup.findAll('p')[2].findAll('a')]\n",
    "actors"
   ]
  },
  {
   "cell_type": "markdown",
   "metadata": {},
   "source": [
    "#### Creating functions to automate information scraping:"
   ]
  },
  {
   "cell_type": "code",
   "execution_count": 149,
   "metadata": {},
   "outputs": [
    {
     "data": {
      "text/html": [
       "<div>\n",
       "<style scoped>\n",
       "    .dataframe tbody tr th:only-of-type {\n",
       "        vertical-align: middle;\n",
       "    }\n",
       "\n",
       "    .dataframe tbody tr th {\n",
       "        vertical-align: top;\n",
       "    }\n",
       "\n",
       "    .dataframe thead th {\n",
       "        text-align: right;\n",
       "    }\n",
       "</style>\n",
       "<table border=\"1\" class=\"dataframe\">\n",
       "  <thead>\n",
       "    <tr style=\"text-align: right;\">\n",
       "      <th></th>\n",
       "      <th>Title</th>\n",
       "      <th>Relase</th>\n",
       "      <th>Audience Rating</th>\n",
       "      <th>Runtime</th>\n",
       "      <th>Genre</th>\n",
       "      <th>IMDB Rating</th>\n",
       "      <th>Votes</th>\n",
       "      <th>Box Office Earnings</th>\n",
       "      <th>Director</th>\n",
       "      <th>Actors</th>\n",
       "    </tr>\n",
       "  </thead>\n",
       "  <tbody>\n",
       "    <tr>\n",
       "      <th>0</th>\n",
       "      <td>The Shawshank Redemption</td>\n",
       "      <td>(1994)</td>\n",
       "      <td>R</td>\n",
       "      <td>142 min</td>\n",
       "      <td>\\nDrama</td>\n",
       "      <td>\\n\\n9.3\\n</td>\n",
       "      <td>2,403,919</td>\n",
       "      <td>2,403,919</td>\n",
       "      <td>Frank Darabont</td>\n",
       "      <td>[Tim Robbins, Morgan Freeman, Bob Gunton, Will...</td>\n",
       "    </tr>\n",
       "    <tr>\n",
       "      <th>1</th>\n",
       "      <td>The Godfather</td>\n",
       "      <td>(1972)</td>\n",
       "      <td>R</td>\n",
       "      <td>175 min</td>\n",
       "      <td>\\nCrime, Drama</td>\n",
       "      <td>\\n\\n9.2\\n</td>\n",
       "      <td>1,664,112</td>\n",
       "      <td>1,664,112</td>\n",
       "      <td>Francis Ford Coppola</td>\n",
       "      <td>[Marlon Brando, Al Pacino, James Caan, Diane K...</td>\n",
       "    </tr>\n",
       "    <tr>\n",
       "      <th>2</th>\n",
       "      <td>Soorarai Pottru</td>\n",
       "      <td>(2020)</td>\n",
       "      <td>TV-MA</td>\n",
       "      <td>153 min</td>\n",
       "      <td>\\nDrama</td>\n",
       "      <td>\\n\\n9.1\\n</td>\n",
       "      <td>82,292</td>\n",
       "      <td>82,292</td>\n",
       "      <td>Sudha Kongara</td>\n",
       "      <td>[Madhavan, Suriya, Paresh Rawal, Aparna Balamu...</td>\n",
       "    </tr>\n",
       "    <tr>\n",
       "      <th>3</th>\n",
       "      <td>The Dark Knight</td>\n",
       "      <td>(2008)</td>\n",
       "      <td>PG-13</td>\n",
       "      <td>152 min</td>\n",
       "      <td>\\nAction, Crime, Drama</td>\n",
       "      <td>\\n\\n9.0\\n</td>\n",
       "      <td>2,364,010</td>\n",
       "      <td>2,364,010</td>\n",
       "      <td>Christopher Nolan</td>\n",
       "      <td>[Christian Bale, Heath Ledger, Aaron Eckhart, ...</td>\n",
       "    </tr>\n",
       "    <tr>\n",
       "      <th>4</th>\n",
       "      <td>The Godfather: Part II</td>\n",
       "      <td>(1974)</td>\n",
       "      <td>R</td>\n",
       "      <td>202 min</td>\n",
       "      <td>\\nCrime, Drama</td>\n",
       "      <td>\\n\\n9.0\\n</td>\n",
       "      <td>1,156,430</td>\n",
       "      <td>1,156,430</td>\n",
       "      <td>Francis Ford Coppola</td>\n",
       "      <td>[Al Pacino, Robert De Niro, Robert Duvall, Dia...</td>\n",
       "    </tr>\n",
       "    <tr>\n",
       "      <th>...</th>\n",
       "      <td>...</td>\n",
       "      <td>...</td>\n",
       "      <td>...</td>\n",
       "      <td>...</td>\n",
       "      <td>...</td>\n",
       "      <td>...</td>\n",
       "      <td>...</td>\n",
       "      <td>...</td>\n",
       "      <td>...</td>\n",
       "      <td>...</td>\n",
       "    </tr>\n",
       "    <tr>\n",
       "      <th>95</th>\n",
       "      <td>My Father and My Son</td>\n",
       "      <td>(2005)</td>\n",
       "      <td>None</td>\n",
       "      <td>112 min</td>\n",
       "      <td>\\nDrama, Family</td>\n",
       "      <td>\\n\\n8.3\\n</td>\n",
       "      <td>81,181</td>\n",
       "      <td>81,181</td>\n",
       "      <td>Cagan Irmak</td>\n",
       "      <td>[Eser Sariyar, Çetin Tekindor, Fikret Kuskan, ...</td>\n",
       "    </tr>\n",
       "    <tr>\n",
       "      <th>96</th>\n",
       "      <td>Inglourious Basterds</td>\n",
       "      <td>(2009)</td>\n",
       "      <td>R</td>\n",
       "      <td>153 min</td>\n",
       "      <td>\\nAdventure, Drama, War</td>\n",
       "      <td>\\n\\n8.3\\n</td>\n",
       "      <td>1,302,284</td>\n",
       "      <td>1,302,284</td>\n",
       "      <td>Quentin Tarantino</td>\n",
       "      <td>[Brad Pitt, Diane Kruger, Eli Roth, Mélanie La...</td>\n",
       "    </tr>\n",
       "    <tr>\n",
       "      <th>97</th>\n",
       "      <td>Eternal Sunshine of the Spotless Mind</td>\n",
       "      <td>(2004)</td>\n",
       "      <td>R</td>\n",
       "      <td>108 min</td>\n",
       "      <td>\\nDrama, Romance, Sci-Fi</td>\n",
       "      <td>\\n\\n8.3\\n</td>\n",
       "      <td>930,052</td>\n",
       "      <td>930,052</td>\n",
       "      <td>Michel Gondry</td>\n",
       "      <td>[Jim Carrey, Kate Winslet, Tom Wilkinson, Gerr...</td>\n",
       "    </tr>\n",
       "    <tr>\n",
       "      <th>98</th>\n",
       "      <td>Amélie</td>\n",
       "      <td>(2001)</td>\n",
       "      <td>R</td>\n",
       "      <td>122 min</td>\n",
       "      <td>\\nComedy, Romance</td>\n",
       "      <td>\\n\\n8.3\\n</td>\n",
       "      <td>714,890</td>\n",
       "      <td>714,890</td>\n",
       "      <td>Jean-Pierre Jeunet</td>\n",
       "      <td>[Audrey Tautou, Mathieu Kassovitz, Rufus, Lore...</td>\n",
       "    </tr>\n",
       "    <tr>\n",
       "      <th>99</th>\n",
       "      <td>Snatch</td>\n",
       "      <td>(2000)</td>\n",
       "      <td>R</td>\n",
       "      <td>102 min</td>\n",
       "      <td>\\nComedy, Crime</td>\n",
       "      <td>\\n\\n8.3\\n</td>\n",
       "      <td>796,576</td>\n",
       "      <td>796,576</td>\n",
       "      <td>Guy Ritchie</td>\n",
       "      <td>[Jason Statham, Brad Pitt, Stephen Graham, Vin...</td>\n",
       "    </tr>\n",
       "  </tbody>\n",
       "</table>\n",
       "<p>100 rows × 10 columns</p>\n",
       "</div>"
      ],
      "text/plain": [
       "                                    Title  Relase Audience Rating  Runtime  \\\n",
       "0                The Shawshank Redemption  (1994)               R  142 min   \n",
       "1                           The Godfather  (1972)               R  175 min   \n",
       "2                         Soorarai Pottru  (2020)           TV-MA  153 min   \n",
       "3                         The Dark Knight  (2008)           PG-13  152 min   \n",
       "4                  The Godfather: Part II  (1974)               R  202 min   \n",
       "..                                    ...     ...             ...      ...   \n",
       "95                   My Father and My Son  (2005)            None  112 min   \n",
       "96                   Inglourious Basterds  (2009)               R  153 min   \n",
       "97  Eternal Sunshine of the Spotless Mind  (2004)               R  108 min   \n",
       "98                                 Amélie  (2001)               R  122 min   \n",
       "99                                 Snatch  (2000)               R  102 min   \n",
       "\n",
       "                                   Genre IMDB Rating      Votes  \\\n",
       "0                    \\nDrama               \\n\\n9.3\\n  2,403,919   \n",
       "1             \\nCrime, Drama               \\n\\n9.2\\n  1,664,112   \n",
       "2                    \\nDrama               \\n\\n9.1\\n     82,292   \n",
       "3     \\nAction, Crime, Drama               \\n\\n9.0\\n  2,364,010   \n",
       "4             \\nCrime, Drama               \\n\\n9.0\\n  1,156,430   \n",
       "..                                   ...         ...        ...   \n",
       "95           \\nDrama, Family               \\n\\n8.3\\n     81,181   \n",
       "96   \\nAdventure, Drama, War               \\n\\n8.3\\n  1,302,284   \n",
       "97  \\nDrama, Romance, Sci-Fi               \\n\\n8.3\\n    930,052   \n",
       "98         \\nComedy, Romance               \\n\\n8.3\\n    714,890   \n",
       "99           \\nComedy, Crime               \\n\\n8.3\\n    796,576   \n",
       "\n",
       "   Box Office Earnings              Director  \\\n",
       "0            2,403,919        Frank Darabont   \n",
       "1            1,664,112  Francis Ford Coppola   \n",
       "2               82,292         Sudha Kongara   \n",
       "3            2,364,010     Christopher Nolan   \n",
       "4            1,156,430  Francis Ford Coppola   \n",
       "..                 ...                   ...   \n",
       "95              81,181           Cagan Irmak   \n",
       "96           1,302,284     Quentin Tarantino   \n",
       "97             930,052         Michel Gondry   \n",
       "98             714,890    Jean-Pierre Jeunet   \n",
       "99             796,576           Guy Ritchie   \n",
       "\n",
       "                                               Actors  \n",
       "0   [Tim Robbins, Morgan Freeman, Bob Gunton, Will...  \n",
       "1   [Marlon Brando, Al Pacino, James Caan, Diane K...  \n",
       "2   [Madhavan, Suriya, Paresh Rawal, Aparna Balamu...  \n",
       "3   [Christian Bale, Heath Ledger, Aaron Eckhart, ...  \n",
       "4   [Al Pacino, Robert De Niro, Robert Duvall, Dia...  \n",
       "..                                                ...  \n",
       "95  [Eser Sariyar, Çetin Tekindor, Fikret Kuskan, ...  \n",
       "96  [Brad Pitt, Diane Kruger, Eli Roth, Mélanie La...  \n",
       "97  [Jim Carrey, Kate Winslet, Tom Wilkinson, Gerr...  \n",
       "98  [Audrey Tautou, Mathieu Kassovitz, Rufus, Lore...  \n",
       "99  [Jason Statham, Brad Pitt, Stephen Graham, Vin...  \n",
       "\n",
       "[100 rows x 10 columns]"
      ]
     },
     "execution_count": 149,
     "metadata": {},
     "output_type": "execute_result"
    }
   ],
   "source": [
    "def numeric_value(movie, tag, class_=None, order=None):\n",
    "    if order:\n",
    "        if len(movie.findAll(tag, class_)) > 1:\n",
    "            to_extract = movie.findAll(tag, class_)[order]['data-value']\n",
    "        else:\n",
    "            to_extract = None\n",
    "    else:\n",
    "        to_extract = movie.find(tag, class_)['data-value']\n",
    "\n",
    "    return to_extract\n",
    "\n",
    "\n",
    "def text_value(movie, tag, class_=None):\n",
    "    if movie.find(tag, class_):\n",
    "        return movie.find(tag, class_).text\n",
    "    else:\n",
    "        return\n",
    "\n",
    "\n",
    "def nested_text_value(movie, tag_1, class_1, tag_2, class_2, order=None):\n",
    "    if not order:\n",
    "        return movie.find(tag_1, class_1).find(tag_2, class_2).text\n",
    "    else:\n",
    "        return [val.text for val in movie.find(tag_1, class_1).findAll(tag_2, class_2)[order]]\n",
    "\n",
    "\n",
    "def extract_attribute(soup, tag_1, class_1='', tag_2='', class_2='',\n",
    "                      text_attribute=True, order=None, nested=False):\n",
    "    movies = soup.findAll('div', class_='lister-item-content')\n",
    "    data_list = []\n",
    "    for movie in movies:\n",
    "        if text_attribute:\n",
    "            if nested:\n",
    "                data_list.append(nested_text_value(movie, tag_1, class_1, tag_2, class_2, order))\n",
    "            else:\n",
    "                data_list.append(text_value(movie, tag_1, class_1))\n",
    "        else:\n",
    "            data_list.append(numeric_value(movie, tag_1, class_1, order))\n",
    "\n",
    "    return data_list\n",
    "\n",
    "\n",
    "titles = extract_attribute(soup, 'a')\n",
    "release = extract_attribute(soup, 'span', 'lister-item-year text-muted unbold')\n",
    "audience_rating = extract_attribute(soup, 'span', 'certificate')\n",
    "runtime = extract_attribute(soup, 'span', 'runtime')\n",
    "genre = extract_attribute(soup, 'span', 'genre')\n",
    "imdb_rating = extract_attribute(soup, 'div', 'inline-block ratings-imdb-rating', False)\n",
    "votes = extract_attribute(soup, 'span' , {'name' : 'nv'}, False, 0)\n",
    "earnings = extract_attribute(soup, 'span' , {'name' : 'nv'}, False, 1)\n",
    "directors = extract_attribute(soup, 'p', '', 'a', '', True, 0, True)\n",
    "actors = extract_attribute(soup, 'p', '', 'a', '', True, slice(1, 5, None), True)\n",
    "\n",
    "\n",
    "df_dict = {'Title': titles, 'Relase': release, 'Audience Rating': audience_rating,\n",
    "           'Runtime': runtime, 'Genre': genre, 'IMDB Rating': imdb_rating,\n",
    "           'Votes': votes, 'Box Office Earnings': earnings, 'Director': directors,\n",
    "           'Actors': actors}\n",
    "\n",
    "df = pd.DataFrame(df_dict)\n",
    "df"
   ]
  },
  {
   "cell_type": "markdown",
   "metadata": {},
   "source": [
    "### Third [example](https://medium.com/the-andela-way/learn-how-to-scrape-the-web-2a7cc488e017)"
   ]
  },
  {
   "cell_type": "markdown",
   "metadata": {},
   "source": [
    "Getting the website topics\n",
    "\n",
    "The Daily Nation website has a number of topics such as news, counties, sports, photos, videos and business among others. We need to extract them from the html plus their accompanying urls.\n",
    "\n",
    "Before we start writing the code, we need to first examine the html so that we understand where the data we need is located and how we can get it."
   ]
  },
  {
   "cell_type": "code",
   "execution_count": 154,
   "metadata": {},
   "outputs": [],
   "source": [
    "from bs4 import BeautifulSoup\n",
    "\n",
    "class DailyNation:\n",
    "    BASE_URL = 'https://www.nation.co.ke'\n",
    "\n",
    "    @staticmethod\n",
    "    def get_html(url):\n",
    "        \"\"\"\n",
    "        Get the Daily Nation html\n",
    "        :return:\n",
    "        \"\"\"\n",
    "        daily_nation = requests.get(url)\n",
    "        html = BeautifulSoup(daily_nation.text, 'html.parser')\n",
    "        return html\n",
    "\n",
    "    @staticmethod\n",
    "    def get_topics_lis():\n",
    "        \"\"\"\n",
    "        Get all the lis in the nav bar\n",
    "        :return:\n",
    "        \"\"\"\n",
    "        html = DailyNation.get_html(DailyNation.BASE_URL)\n",
    "        if html:\n",
    "            nav = html.find('nav', class_='container')\n",
    "            topics_ul = nav.find_all('ul')[1]\n",
    "            return topics_ul.find_all('li')\n",
    "        return None\n",
    "\n",
    "    @staticmethod\n",
    "    def get_topics():\n",
    "        \"\"\"\n",
    "        Get all topics in the nav bar\n",
    "        :return: list\n",
    "        \"\"\"\n",
    "        lis = DailyNation.get_topics_lis()\n",
    "        topics = []\n",
    "        for li in lis:\n",
    "            topics.append(li.find('a').text.lower())\n",
    "        return topics\n",
    "    \n",
    "    @staticmethod\n",
    "    def get_topic_info(topic):\n",
    "        \"\"\"\n",
    "        Get content for a given topic\n",
    "        :param topic:\n",
    "        :return:\n",
    "        \"\"\"\n",
    "        topic_url = DailyNation.BASE_URL + DailyNation.get_topics_url()[topic.lower()]\n",
    "        html = DailyNation.get_html(topic_url)\n",
    "        if html:\n",
    "            stories = []\n",
    "            div_content = html.find('div', class_='five-eight column')\n",
    "            stories_div = div_content.find_all('div', class_='story-teaser')\n",
    "            for div in stories_div:\n",
    "                story = {\n",
    "                    'title': div.find('a').text, 'summary': div.find('p').text,\n",
    "                    'story_url': div.find('a').get('href'),\n",
    "                    'published_at': div.find('h6').text\n",
    "                }\n",
    "                if div.find('img'):\n",
    "                    story['image_url'] = DailyNation.BASE_URL + div.find('img').get('src')\n",
    "                story['image_url'] = ''\n",
    "                stories.append(story)\n",
    "            return stories\n",
    "        \n",
    "    @staticmethod\n",
    "    def get_topics_url():\n",
    "        \"\"\"\n",
    "        Get all topics in the nav bar with their corresponding urls\n",
    "        :return:\n",
    "        \"\"\"\n",
    "        lis = DailyNation.get_topics_lis()\n",
    "        topics_with_url = {}\n",
    "        for li in lis:\n",
    "            topics_with_url[li.find('a').text.lower()] = li.find('a').get('href')\n",
    "        return topics_with_url\n",
    "    \n",
    "    @staticmethod\n",
    "    def get_photos(topic):\n",
    "        \"\"\"\n",
    "        Get all the images in the photos section\n",
    "        :param topic:\n",
    "        :return:\n",
    "        \"\"\"\n",
    "        if topic != 'photos':\n",
    "            raise ValueError('Topic should be photos')\n",
    "        topic_url = DailyNation.BASE_URL + DailyNation.get_topics_url()[topic.lower()]\n",
    "        html = DailyNation.get_html(topic_url)\n",
    "        if html:\n",
    "            images = {}\n",
    "            images_list_div = html.find('div', class_='cb-content videolist')\n",
    "            images_topics = images_list_div.find_all('div', class_='vh-caption')\n",
    "            images_caption_headings = []\n",
    "            for caption_div in images_topics:\n",
    "                images_caption_headings.append(DailyNation.clean_string(caption_div.find('h3').text))\n",
    "            image_rows_divs = images_list_div.find_all('div', class_='row')\n",
    "            images_caption_headings_count = 0\n",
    "            for images_item_div in image_rows_divs:\n",
    "                trs = images_item_div.find('table').find_all('tr')\n",
    "                items = []\n",
    "                for tr in trs:\n",
    "                    tds = tr.find_all('td')\n",
    "                    for td in tds:\n",
    "                        items.append({\n",
    "                            'caption': td.find('div', class_='v-desc').find('a').text,\n",
    "                            'image_url': DailyNation.BASE_URL + td.find('div', class_='v-img').find('img').get('src'),\n",
    "                            'story_url': DailyNation.BASE_URL + td.find('div', class_='v-img').find('a').get('href')\n",
    "                        })\n",
    "                images[images_caption_headings[images_caption_headings_count]] = items\n",
    "                images_caption_headings_count += 1\n",
    "            return images\n",
    "        \n",
    "    @staticmethod\n",
    "    def clean_string(string):\n",
    "        new_string = string.replace('&nbsp', '')\n",
    "        return new_string.replace(';', '')\n",
    "    \n",
    "    @staticmethod\n",
    "    def get_videos(topic):\n",
    "        \"\"\"\n",
    "        Get all the videos in the photos section\n",
    "        :param topic:\n",
    "        :return:\n",
    "        \"\"\"\n",
    "        if topic != 'videos':\n",
    "            raise ValueError('Topic should be videos')\n",
    "        topic_url = DailyNation.BASE_URL + DailyNation.get_topics_url()[topic.lower()]\n",
    "        html = DailyNation.get_html(topic_url)\n",
    "        if html:\n",
    "            videos = {}\n",
    "            videos_list_div = html.find('div', class_='cb-content videolist')\n",
    "            videos_topics = videos_list_div.find_all('div', class_='vh-caption')\n",
    "            videos_caption_headings = []\n",
    "            for caption_div in videos_topics:\n",
    "                videos_caption_headings.append(DailyNation.clean_string(caption_div.find('h3').text))\n",
    "            video_rows_divs = videos_list_div.find_all('div', class_='row')\n",
    "            videos_caption_headings_count = 0\n",
    "            for videos_item_div in video_rows_divs:\n",
    "                trs = videos_item_div.find('table').find_all('tr')\n",
    "                items = []\n",
    "                for tr in trs:\n",
    "                    tds = tr.find_all('td')\n",
    "                    for td in tds:\n",
    "                        items.append({\n",
    "                            'caption': td.find('div', class_='v-desc').text,\n",
    "                            'image_url': td.find('div', class_='v-img').find('img').get('src'),\n",
    "                            'story_url': DailyNation.BASE_URL + td.find(\n",
    "                                'div',\n",
    "                                class_='col-lg-3 col-xs-12 col-sm-6 videoitem'\n",
    "                            ).find('a').get('href')\n",
    "                        })\n",
    "                videos[vi]\n",
    "                videos_caption_headings_count += 1\n",
    "            return videos\n",
    "                       \n",
    "    @staticmethod\n",
    "    def get_data(topic):\n",
    "        \"\"\"\n",
    "        Get topic information based on the topic provided.\n",
    "        :param topic:\n",
    "        :return:\n",
    "        \"\"\"\n",
    "        _topic = topic.lower()\n",
    "        if _topic not in DailyNation.get_topics():\n",
    "            raise ValueError('Topic does not exist')\n",
    "\n",
    "        if _topic == 'photos':\n",
    "            return DailyNation.get_photos(_topic)\n",
    "\n",
    "        if _topic == 'videos':\n",
    "            return DailyNation.get_videos(_topic)\n",
    "\n",
    "        return DailyNation.get_topic_info(_topic)"
   ]
  },
  {
   "cell_type": "code",
   "execution_count": 155,
   "metadata": {},
   "outputs": [],
   "source": [
    "crawler = DailyNation()"
   ]
  },
  {
   "cell_type": "code",
   "execution_count": 159,
   "metadata": {},
   "outputs": [
    {
     "name": "stdout",
     "output_type": "stream",
     "text": [
      "\n",
      "\n",
      "\n",
      "\n",
      "(function(w,d,s,l,i){w[l]=w[l]||[];w[l].push({'gtm.start':\n",
      "new Date().getTime(),event:'gtm.js'});var f=d.getElementsByTagName(s)[0],\n",
      "j=d.createElement(s),dl=l!='dataLayer'?'&l='+l:'';j.async=true;\n"
     ]
    }
   ],
   "source": [
    "html = crawler.get_html('https://www.nation.co.ke')\n",
    "print(html.text[0:200])"
   ]
  },
  {
   "cell_type": "markdown",
   "metadata": {},
   "source": [
    "## Now it is your turn:"
   ]
  },
  {
   "cell_type": "code",
   "execution_count": null,
   "metadata": {},
   "outputs": [],
   "source": [
    "url = 'https://www.4icu.org/at/vienna/'"
   ]
  }
 ],
 "metadata": {
  "kernelspec": {
   "display_name": "Python 3",
   "language": "python",
   "name": "python3"
  },
  "language_info": {
   "codemirror_mode": {
    "name": "ipython",
    "version": 3
   },
   "file_extension": ".py",
   "mimetype": "text/x-python",
   "name": "python",
   "nbconvert_exporter": "python",
   "pygments_lexer": "ipython3",
   "version": "3.7.6"
  }
 },
 "nbformat": 4,
 "nbformat_minor": 4
}

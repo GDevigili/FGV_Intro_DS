{
 "cells": [
  {
   "cell_type": "markdown",
   "metadata": {},
   "source": [
    "## Introduction to Data Science\n",
    "\n",
    "### Introduction to Scraping"
   ]
  },
  {
   "cell_type": "code",
   "execution_count": 21,
   "metadata": {},
   "outputs": [],
   "source": [
    "#import pylab\n",
    "import pandas as pd\n",
    "import numpy as np\n",
    "import matplotlib.pyplot as plt\n",
    "\n",
    "import requests\n",
    "from bs4 import BeautifulSoup as bs\n",
    "\n",
    "%matplotlib inline\n",
    "#%matplotlib notebook"
   ]
  },
  {
   "cell_type": "markdown",
   "metadata": {},
   "source": [
    "### First and easiest [example](https://towardsdatascience.com/the-easiest-tutorial-of-web-scraping-on-the-internet-2439334dc243)"
   ]
  },
  {
   "cell_type": "code",
   "execution_count": 23,
   "metadata": {},
   "outputs": [
    {
     "ename": "ConnectionError",
     "evalue": "HTTPSConnectionPool(host='thegreenestworkforce.ca', port=443): Max retries exceeded with url: /index.php/en/schools/ (Caused by NewConnectionError('<urllib3.connection.VerifiedHTTPSConnection object at 0x7fedc5d3b4e0>: Failed to establish a new connection: [Errno 113] No route to host',))",
     "output_type": "error",
     "traceback": [
      "\u001b[0;31m---------------------------------------------------------------------------\u001b[0m",
      "\u001b[0;31mOSError\u001b[0m                                   Traceback (most recent call last)",
      "\u001b[0;32m/usr/local/lib/python3.6/dist-packages/urllib3/connection.py\u001b[0m in \u001b[0;36m_new_conn\u001b[0;34m(self)\u001b[0m\n\u001b[1;32m    140\u001b[0m             conn = connection.create_connection(\n\u001b[0;32m--> 141\u001b[0;31m                 (self.host, self.port), self.timeout, **extra_kw)\n\u001b[0m\u001b[1;32m    142\u001b[0m \u001b[0;34m\u001b[0m\u001b[0m\n",
      "\u001b[0;32m/usr/local/lib/python3.6/dist-packages/urllib3/util/connection.py\u001b[0m in \u001b[0;36mcreate_connection\u001b[0;34m(address, timeout, source_address, socket_options)\u001b[0m\n\u001b[1;32m     82\u001b[0m     \u001b[0;32mif\u001b[0m \u001b[0merr\u001b[0m \u001b[0;32mis\u001b[0m \u001b[0;32mnot\u001b[0m \u001b[0;32mNone\u001b[0m\u001b[0;34m:\u001b[0m\u001b[0;34m\u001b[0m\u001b[0;34m\u001b[0m\u001b[0m\n\u001b[0;32m---> 83\u001b[0;31m         \u001b[0;32mraise\u001b[0m \u001b[0merr\u001b[0m\u001b[0;34m\u001b[0m\u001b[0;34m\u001b[0m\u001b[0m\n\u001b[0m\u001b[1;32m     84\u001b[0m \u001b[0;34m\u001b[0m\u001b[0m\n",
      "\u001b[0;32m/usr/local/lib/python3.6/dist-packages/urllib3/util/connection.py\u001b[0m in \u001b[0;36mcreate_connection\u001b[0;34m(address, timeout, source_address, socket_options)\u001b[0m\n\u001b[1;32m     72\u001b[0m                 \u001b[0msock\u001b[0m\u001b[0;34m.\u001b[0m\u001b[0mbind\u001b[0m\u001b[0;34m(\u001b[0m\u001b[0msource_address\u001b[0m\u001b[0;34m)\u001b[0m\u001b[0;34m\u001b[0m\u001b[0;34m\u001b[0m\u001b[0m\n\u001b[0;32m---> 73\u001b[0;31m             \u001b[0msock\u001b[0m\u001b[0;34m.\u001b[0m\u001b[0mconnect\u001b[0m\u001b[0;34m(\u001b[0m\u001b[0msa\u001b[0m\u001b[0;34m)\u001b[0m\u001b[0;34m\u001b[0m\u001b[0;34m\u001b[0m\u001b[0m\n\u001b[0m\u001b[1;32m     74\u001b[0m             \u001b[0;32mreturn\u001b[0m \u001b[0msock\u001b[0m\u001b[0;34m\u001b[0m\u001b[0;34m\u001b[0m\u001b[0m\n",
      "\u001b[0;31mOSError\u001b[0m: [Errno 113] No route to host",
      "\nDuring handling of the above exception, another exception occurred:\n",
      "\u001b[0;31mNewConnectionError\u001b[0m                        Traceback (most recent call last)",
      "\u001b[0;32m/usr/local/lib/python3.6/dist-packages/urllib3/connectionpool.py\u001b[0m in \u001b[0;36murlopen\u001b[0;34m(self, method, url, body, headers, retries, redirect, assert_same_host, timeout, pool_timeout, release_conn, chunked, body_pos, **response_kw)\u001b[0m\n\u001b[1;32m    600\u001b[0m                                                   \u001b[0mbody\u001b[0m\u001b[0;34m=\u001b[0m\u001b[0mbody\u001b[0m\u001b[0;34m,\u001b[0m \u001b[0mheaders\u001b[0m\u001b[0;34m=\u001b[0m\u001b[0mheaders\u001b[0m\u001b[0;34m,\u001b[0m\u001b[0;34m\u001b[0m\u001b[0;34m\u001b[0m\u001b[0m\n\u001b[0;32m--> 601\u001b[0;31m                                                   chunked=chunked)\n\u001b[0m\u001b[1;32m    602\u001b[0m \u001b[0;34m\u001b[0m\u001b[0m\n",
      "\u001b[0;32m/usr/local/lib/python3.6/dist-packages/urllib3/connectionpool.py\u001b[0m in \u001b[0;36m_make_request\u001b[0;34m(self, conn, method, url, timeout, chunked, **httplib_request_kw)\u001b[0m\n\u001b[1;32m    345\u001b[0m         \u001b[0;32mtry\u001b[0m\u001b[0;34m:\u001b[0m\u001b[0;34m\u001b[0m\u001b[0;34m\u001b[0m\u001b[0m\n\u001b[0;32m--> 346\u001b[0;31m             \u001b[0mself\u001b[0m\u001b[0;34m.\u001b[0m\u001b[0m_validate_conn\u001b[0m\u001b[0;34m(\u001b[0m\u001b[0mconn\u001b[0m\u001b[0;34m)\u001b[0m\u001b[0;34m\u001b[0m\u001b[0;34m\u001b[0m\u001b[0m\n\u001b[0m\u001b[1;32m    347\u001b[0m         \u001b[0;32mexcept\u001b[0m \u001b[0;34m(\u001b[0m\u001b[0mSocketTimeout\u001b[0m\u001b[0;34m,\u001b[0m \u001b[0mBaseSSLError\u001b[0m\u001b[0;34m)\u001b[0m \u001b[0;32mas\u001b[0m \u001b[0me\u001b[0m\u001b[0;34m:\u001b[0m\u001b[0;34m\u001b[0m\u001b[0;34m\u001b[0m\u001b[0m\n",
      "\u001b[0;32m/usr/local/lib/python3.6/dist-packages/urllib3/connectionpool.py\u001b[0m in \u001b[0;36m_validate_conn\u001b[0;34m(self, conn)\u001b[0m\n\u001b[1;32m    849\u001b[0m         \u001b[0;32mif\u001b[0m \u001b[0;32mnot\u001b[0m \u001b[0mgetattr\u001b[0m\u001b[0;34m(\u001b[0m\u001b[0mconn\u001b[0m\u001b[0;34m,\u001b[0m \u001b[0;34m'sock'\u001b[0m\u001b[0;34m,\u001b[0m \u001b[0;32mNone\u001b[0m\u001b[0;34m)\u001b[0m\u001b[0;34m:\u001b[0m  \u001b[0;31m# AppEngine might not have  `.sock`\u001b[0m\u001b[0;34m\u001b[0m\u001b[0;34m\u001b[0m\u001b[0m\n\u001b[0;32m--> 850\u001b[0;31m             \u001b[0mconn\u001b[0m\u001b[0;34m.\u001b[0m\u001b[0mconnect\u001b[0m\u001b[0;34m(\u001b[0m\u001b[0;34m)\u001b[0m\u001b[0;34m\u001b[0m\u001b[0;34m\u001b[0m\u001b[0m\n\u001b[0m\u001b[1;32m    851\u001b[0m \u001b[0;34m\u001b[0m\u001b[0m\n",
      "\u001b[0;32m/usr/local/lib/python3.6/dist-packages/urllib3/connection.py\u001b[0m in \u001b[0;36mconnect\u001b[0;34m(self)\u001b[0m\n\u001b[1;32m    283\u001b[0m         \u001b[0;31m# Add certificate verification\u001b[0m\u001b[0;34m\u001b[0m\u001b[0;34m\u001b[0m\u001b[0;34m\u001b[0m\u001b[0m\n\u001b[0;32m--> 284\u001b[0;31m         \u001b[0mconn\u001b[0m \u001b[0;34m=\u001b[0m \u001b[0mself\u001b[0m\u001b[0;34m.\u001b[0m\u001b[0m_new_conn\u001b[0m\u001b[0;34m(\u001b[0m\u001b[0;34m)\u001b[0m\u001b[0;34m\u001b[0m\u001b[0;34m\u001b[0m\u001b[0m\n\u001b[0m\u001b[1;32m    285\u001b[0m \u001b[0;34m\u001b[0m\u001b[0m\n",
      "\u001b[0;32m/usr/local/lib/python3.6/dist-packages/urllib3/connection.py\u001b[0m in \u001b[0;36m_new_conn\u001b[0;34m(self)\u001b[0m\n\u001b[1;32m    149\u001b[0m             raise NewConnectionError(\n\u001b[0;32m--> 150\u001b[0;31m                 self, \"Failed to establish a new connection: %s\" % e)\n\u001b[0m\u001b[1;32m    151\u001b[0m \u001b[0;34m\u001b[0m\u001b[0m\n",
      "\u001b[0;31mNewConnectionError\u001b[0m: <urllib3.connection.VerifiedHTTPSConnection object at 0x7fedc5d3b4e0>: Failed to establish a new connection: [Errno 113] No route to host",
      "\nDuring handling of the above exception, another exception occurred:\n",
      "\u001b[0;31mMaxRetryError\u001b[0m                             Traceback (most recent call last)",
      "\u001b[0;32m/usr/local/lib/python3.6/dist-packages/requests/adapters.py\u001b[0m in \u001b[0;36msend\u001b[0;34m(self, request, stream, timeout, verify, cert, proxies)\u001b[0m\n\u001b[1;32m    448\u001b[0m                     \u001b[0mretries\u001b[0m\u001b[0;34m=\u001b[0m\u001b[0mself\u001b[0m\u001b[0;34m.\u001b[0m\u001b[0mmax_retries\u001b[0m\u001b[0;34m,\u001b[0m\u001b[0;34m\u001b[0m\u001b[0;34m\u001b[0m\u001b[0m\n\u001b[0;32m--> 449\u001b[0;31m                     \u001b[0mtimeout\u001b[0m\u001b[0;34m=\u001b[0m\u001b[0mtimeout\u001b[0m\u001b[0;34m\u001b[0m\u001b[0;34m\u001b[0m\u001b[0m\n\u001b[0m\u001b[1;32m    450\u001b[0m                 )\n",
      "\u001b[0;32m/usr/local/lib/python3.6/dist-packages/urllib3/connectionpool.py\u001b[0m in \u001b[0;36murlopen\u001b[0;34m(self, method, url, body, headers, retries, redirect, assert_same_host, timeout, pool_timeout, release_conn, chunked, body_pos, **response_kw)\u001b[0m\n\u001b[1;32m    638\u001b[0m             retries = retries.increment(method, url, error=e, _pool=self,\n\u001b[0;32m--> 639\u001b[0;31m                                         _stacktrace=sys.exc_info()[2])\n\u001b[0m\u001b[1;32m    640\u001b[0m             \u001b[0mretries\u001b[0m\u001b[0;34m.\u001b[0m\u001b[0msleep\u001b[0m\u001b[0;34m(\u001b[0m\u001b[0;34m)\u001b[0m\u001b[0;34m\u001b[0m\u001b[0;34m\u001b[0m\u001b[0m\n",
      "\u001b[0;32m/usr/local/lib/python3.6/dist-packages/urllib3/util/retry.py\u001b[0m in \u001b[0;36mincrement\u001b[0;34m(self, method, url, response, error, _pool, _stacktrace)\u001b[0m\n\u001b[1;32m    387\u001b[0m         \u001b[0;32mif\u001b[0m \u001b[0mnew_retry\u001b[0m\u001b[0;34m.\u001b[0m\u001b[0mis_exhausted\u001b[0m\u001b[0;34m(\u001b[0m\u001b[0;34m)\u001b[0m\u001b[0;34m:\u001b[0m\u001b[0;34m\u001b[0m\u001b[0;34m\u001b[0m\u001b[0m\n\u001b[0;32m--> 388\u001b[0;31m             \u001b[0;32mraise\u001b[0m \u001b[0mMaxRetryError\u001b[0m\u001b[0;34m(\u001b[0m\u001b[0m_pool\u001b[0m\u001b[0;34m,\u001b[0m \u001b[0murl\u001b[0m\u001b[0;34m,\u001b[0m \u001b[0merror\u001b[0m \u001b[0;32mor\u001b[0m \u001b[0mResponseError\u001b[0m\u001b[0;34m(\u001b[0m\u001b[0mcause\u001b[0m\u001b[0;34m)\u001b[0m\u001b[0;34m)\u001b[0m\u001b[0;34m\u001b[0m\u001b[0;34m\u001b[0m\u001b[0m\n\u001b[0m\u001b[1;32m    389\u001b[0m \u001b[0;34m\u001b[0m\u001b[0m\n",
      "\u001b[0;31mMaxRetryError\u001b[0m: HTTPSConnectionPool(host='thegreenestworkforce.ca', port=443): Max retries exceeded with url: /index.php/en/schools/ (Caused by NewConnectionError('<urllib3.connection.VerifiedHTTPSConnection object at 0x7fedc5d3b4e0>: Failed to establish a new connection: [Errno 113] No route to host',))",
      "\nDuring handling of the above exception, another exception occurred:\n",
      "\u001b[0;31mConnectionError\u001b[0m                           Traceback (most recent call last)",
      "\u001b[0;32m<ipython-input-23-d8444f337260>\u001b[0m in \u001b[0;36m<module>\u001b[0;34m()\u001b[0m\n\u001b[1;32m      1\u001b[0m \u001b[0mwebsite_url\u001b[0m \u001b[0;34m=\u001b[0m \u001b[0;34m'https://thegreenestworkforce.ca/index.php/en/schools/'\u001b[0m\u001b[0;34m\u001b[0m\u001b[0;34m\u001b[0m\u001b[0m\n\u001b[0;32m----> 2\u001b[0;31m \u001b[0mcontent\u001b[0m \u001b[0;34m=\u001b[0m \u001b[0mrequests\u001b[0m\u001b[0;34m.\u001b[0m\u001b[0mget\u001b[0m\u001b[0;34m(\u001b[0m\u001b[0mwebsite_url\u001b[0m\u001b[0;34m)\u001b[0m\u001b[0;34m.\u001b[0m\u001b[0mtext\u001b[0m\u001b[0;34m\u001b[0m\u001b[0;34m\u001b[0m\u001b[0m\n\u001b[0m\u001b[1;32m      3\u001b[0m \u001b[0msoup\u001b[0m \u001b[0;34m=\u001b[0m \u001b[0mbs\u001b[0m\u001b[0;34m(\u001b[0m\u001b[0mcontent\u001b[0m\u001b[0;34m,\u001b[0m\u001b[0;34m'lxml'\u001b[0m\u001b[0;34m)\u001b[0m\u001b[0;34m\u001b[0m\u001b[0;34m\u001b[0m\u001b[0m\n",
      "\u001b[0;32m/usr/local/lib/python3.6/dist-packages/requests/api.py\u001b[0m in \u001b[0;36mget\u001b[0;34m(url, params, **kwargs)\u001b[0m\n\u001b[1;32m     73\u001b[0m \u001b[0;34m\u001b[0m\u001b[0m\n\u001b[1;32m     74\u001b[0m     \u001b[0mkwargs\u001b[0m\u001b[0;34m.\u001b[0m\u001b[0msetdefault\u001b[0m\u001b[0;34m(\u001b[0m\u001b[0;34m'allow_redirects'\u001b[0m\u001b[0;34m,\u001b[0m \u001b[0;32mTrue\u001b[0m\u001b[0;34m)\u001b[0m\u001b[0;34m\u001b[0m\u001b[0;34m\u001b[0m\u001b[0m\n\u001b[0;32m---> 75\u001b[0;31m     \u001b[0;32mreturn\u001b[0m \u001b[0mrequest\u001b[0m\u001b[0;34m(\u001b[0m\u001b[0;34m'get'\u001b[0m\u001b[0;34m,\u001b[0m \u001b[0murl\u001b[0m\u001b[0;34m,\u001b[0m \u001b[0mparams\u001b[0m\u001b[0;34m=\u001b[0m\u001b[0mparams\u001b[0m\u001b[0;34m,\u001b[0m \u001b[0;34m**\u001b[0m\u001b[0mkwargs\u001b[0m\u001b[0;34m)\u001b[0m\u001b[0;34m\u001b[0m\u001b[0;34m\u001b[0m\u001b[0m\n\u001b[0m\u001b[1;32m     76\u001b[0m \u001b[0;34m\u001b[0m\u001b[0m\n\u001b[1;32m     77\u001b[0m \u001b[0;34m\u001b[0m\u001b[0m\n",
      "\u001b[0;32m/usr/local/lib/python3.6/dist-packages/requests/api.py\u001b[0m in \u001b[0;36mrequest\u001b[0;34m(method, url, **kwargs)\u001b[0m\n\u001b[1;32m     58\u001b[0m     \u001b[0;31m# cases, and look like a memory leak in others.\u001b[0m\u001b[0;34m\u001b[0m\u001b[0;34m\u001b[0m\u001b[0;34m\u001b[0m\u001b[0m\n\u001b[1;32m     59\u001b[0m     \u001b[0;32mwith\u001b[0m \u001b[0msessions\u001b[0m\u001b[0;34m.\u001b[0m\u001b[0mSession\u001b[0m\u001b[0;34m(\u001b[0m\u001b[0;34m)\u001b[0m \u001b[0;32mas\u001b[0m \u001b[0msession\u001b[0m\u001b[0;34m:\u001b[0m\u001b[0;34m\u001b[0m\u001b[0;34m\u001b[0m\u001b[0m\n\u001b[0;32m---> 60\u001b[0;31m         \u001b[0;32mreturn\u001b[0m \u001b[0msession\u001b[0m\u001b[0;34m.\u001b[0m\u001b[0mrequest\u001b[0m\u001b[0;34m(\u001b[0m\u001b[0mmethod\u001b[0m\u001b[0;34m=\u001b[0m\u001b[0mmethod\u001b[0m\u001b[0;34m,\u001b[0m \u001b[0murl\u001b[0m\u001b[0;34m=\u001b[0m\u001b[0murl\u001b[0m\u001b[0;34m,\u001b[0m \u001b[0;34m**\u001b[0m\u001b[0mkwargs\u001b[0m\u001b[0;34m)\u001b[0m\u001b[0;34m\u001b[0m\u001b[0;34m\u001b[0m\u001b[0m\n\u001b[0m\u001b[1;32m     61\u001b[0m \u001b[0;34m\u001b[0m\u001b[0m\n\u001b[1;32m     62\u001b[0m \u001b[0;34m\u001b[0m\u001b[0m\n",
      "\u001b[0;32m/usr/local/lib/python3.6/dist-packages/requests/sessions.py\u001b[0m in \u001b[0;36mrequest\u001b[0;34m(self, method, url, params, data, headers, cookies, files, auth, timeout, allow_redirects, proxies, hooks, stream, verify, cert, json)\u001b[0m\n\u001b[1;32m    531\u001b[0m         }\n\u001b[1;32m    532\u001b[0m         \u001b[0msend_kwargs\u001b[0m\u001b[0;34m.\u001b[0m\u001b[0mupdate\u001b[0m\u001b[0;34m(\u001b[0m\u001b[0msettings\u001b[0m\u001b[0;34m)\u001b[0m\u001b[0;34m\u001b[0m\u001b[0;34m\u001b[0m\u001b[0m\n\u001b[0;32m--> 533\u001b[0;31m         \u001b[0mresp\u001b[0m \u001b[0;34m=\u001b[0m \u001b[0mself\u001b[0m\u001b[0;34m.\u001b[0m\u001b[0msend\u001b[0m\u001b[0;34m(\u001b[0m\u001b[0mprep\u001b[0m\u001b[0;34m,\u001b[0m \u001b[0;34m**\u001b[0m\u001b[0msend_kwargs\u001b[0m\u001b[0;34m)\u001b[0m\u001b[0;34m\u001b[0m\u001b[0;34m\u001b[0m\u001b[0m\n\u001b[0m\u001b[1;32m    534\u001b[0m \u001b[0;34m\u001b[0m\u001b[0m\n\u001b[1;32m    535\u001b[0m         \u001b[0;32mreturn\u001b[0m \u001b[0mresp\u001b[0m\u001b[0;34m\u001b[0m\u001b[0;34m\u001b[0m\u001b[0m\n",
      "\u001b[0;32m/usr/local/lib/python3.6/dist-packages/requests/sessions.py\u001b[0m in \u001b[0;36msend\u001b[0;34m(self, request, **kwargs)\u001b[0m\n\u001b[1;32m    644\u001b[0m \u001b[0;34m\u001b[0m\u001b[0m\n\u001b[1;32m    645\u001b[0m         \u001b[0;31m# Send the request\u001b[0m\u001b[0;34m\u001b[0m\u001b[0;34m\u001b[0m\u001b[0;34m\u001b[0m\u001b[0m\n\u001b[0;32m--> 646\u001b[0;31m         \u001b[0mr\u001b[0m \u001b[0;34m=\u001b[0m \u001b[0madapter\u001b[0m\u001b[0;34m.\u001b[0m\u001b[0msend\u001b[0m\u001b[0;34m(\u001b[0m\u001b[0mrequest\u001b[0m\u001b[0;34m,\u001b[0m \u001b[0;34m**\u001b[0m\u001b[0mkwargs\u001b[0m\u001b[0;34m)\u001b[0m\u001b[0;34m\u001b[0m\u001b[0;34m\u001b[0m\u001b[0m\n\u001b[0m\u001b[1;32m    647\u001b[0m \u001b[0;34m\u001b[0m\u001b[0m\n\u001b[1;32m    648\u001b[0m         \u001b[0;31m# Total elapsed time of the request (approximately)\u001b[0m\u001b[0;34m\u001b[0m\u001b[0;34m\u001b[0m\u001b[0;34m\u001b[0m\u001b[0m\n",
      "\u001b[0;32m/usr/local/lib/python3.6/dist-packages/requests/adapters.py\u001b[0m in \u001b[0;36msend\u001b[0;34m(self, request, stream, timeout, verify, cert, proxies)\u001b[0m\n\u001b[1;32m    514\u001b[0m                 \u001b[0;32mraise\u001b[0m \u001b[0mSSLError\u001b[0m\u001b[0;34m(\u001b[0m\u001b[0me\u001b[0m\u001b[0;34m,\u001b[0m \u001b[0mrequest\u001b[0m\u001b[0;34m=\u001b[0m\u001b[0mrequest\u001b[0m\u001b[0;34m)\u001b[0m\u001b[0;34m\u001b[0m\u001b[0;34m\u001b[0m\u001b[0m\n\u001b[1;32m    515\u001b[0m \u001b[0;34m\u001b[0m\u001b[0m\n\u001b[0;32m--> 516\u001b[0;31m             \u001b[0;32mraise\u001b[0m \u001b[0mConnectionError\u001b[0m\u001b[0;34m(\u001b[0m\u001b[0me\u001b[0m\u001b[0;34m,\u001b[0m \u001b[0mrequest\u001b[0m\u001b[0;34m=\u001b[0m\u001b[0mrequest\u001b[0m\u001b[0;34m)\u001b[0m\u001b[0;34m\u001b[0m\u001b[0;34m\u001b[0m\u001b[0m\n\u001b[0m\u001b[1;32m    517\u001b[0m \u001b[0;34m\u001b[0m\u001b[0m\n\u001b[1;32m    518\u001b[0m         \u001b[0;32mexcept\u001b[0m \u001b[0mClosedPoolError\u001b[0m \u001b[0;32mas\u001b[0m \u001b[0me\u001b[0m\u001b[0;34m:\u001b[0m\u001b[0;34m\u001b[0m\u001b[0;34m\u001b[0m\u001b[0m\n",
      "\u001b[0;31mConnectionError\u001b[0m: HTTPSConnectionPool(host='thegreenestworkforce.ca', port=443): Max retries exceeded with url: /index.php/en/schools/ (Caused by NewConnectionError('<urllib3.connection.VerifiedHTTPSConnection object at 0x7fedc5d3b4e0>: Failed to establish a new connection: [Errno 113] No route to host',))"
     ]
    }
   ],
   "source": [
    "website_url = 'https://thegreenestworkforce.ca/index.php/en/schools/' \n",
    "content = requests.get(website_url).text\n",
    "soup = bs(content,'lxml')"
   ]
  },
  {
   "cell_type": "code",
   "execution_count": null,
   "metadata": {},
   "outputs": [],
   "source": [
    "print(soup.prettify()[0:1000])\n",
    "#print(soup.prettify())"
   ]
  },
  {
   "cell_type": "code",
   "execution_count": null,
   "metadata": {},
   "outputs": [],
   "source": [
    "My_table = soup.find('article',{'id':'post-17896'})"
   ]
  },
  {
   "cell_type": "code",
   "execution_count": 10,
   "metadata": {},
   "outputs": [
    {
     "data": {
      "text/plain": [
       "['\\n',\n",
       " <h2>Universities</h2>,\n",
       " '\\n',\n",
       " <h3>British Columbia</h3>,\n",
       " '\\n',\n",
       " <p><a href=\"http://www.viu.ca/\" target=\"_blank\" title=\"Vancouver Island University\">Vancouver Island University</a><br/>\n",
       " <a href=\"http://www.royalroads.ca/\" target=\"_blank\" title=\"Royal Roads University\">Royal Roads University</a><br/>\n",
       " <a href=\"http://www.sfu.ca/\" target=\"_blank\" title=\"Simon Fraser University\">Simon Fraser University</a><br/>\n",
       " <a href=\"https://www.twu.ca/\" target=\"_blank\" title=\"Trinity Western University\">Trinity Western University</a><br/>\n",
       " <a href=\"http://www.tru.ca/\" target=\"_blank\" title=\"Thompson River University\">Thompson River University</a><br/>\n",
       " <a href=\"http://www.ufv.ca/\" target=\"_blank\" title=\"University of the Fraser Valley\">University of the Fraser Valley</a><br/>\n",
       " <a href=\"http://www.ubc.ca/\" target=\"_blank\" title=\"University of British Columbia\">University of British Columbia</a><br/>\n",
       " <a href=\"http://www.unbc.ca/\" target=\"_blank\" title=\"University of Northern British Columbia\">University of Northern British Columbia</a><br/>\n",
       " <a href=\"http://www.uvic.ca/\" target=\"_blank\" title=\"University of Victoria\">University of Victoria</a></p>,\n",
       " '\\n',\n",
       " <h3>Saskatchewan</h3>,\n",
       " '\\n',\n",
       " <p><a href=\"http://www.fnuniv.ca/\" target=\"_blank\" title=\"First Nations University of Canada\">First Nations University of Canada</a><br/>\n",
       " <a href=\"http://www.uregina.ca/\" target=\"_blank\" title=\"University of Regina\">University of Regina</a><br/>\n",
       " <a href=\"http://www.usask.ca/\" target=\"_blank\" title=\"University of Saskatchewan\">University of Saskatchewan</a></p>]"
      ]
     },
     "execution_count": 10,
     "metadata": {},
     "output_type": "execute_result"
    }
   ],
   "source": [
    "My_table.contents[0:10]"
   ]
  },
  {
   "cell_type": "code",
   "execution_count": 11,
   "metadata": {},
   "outputs": [
    {
     "data": {
      "text/plain": [
       "[<a href=\"http://www.viu.ca/\" target=\"_blank\" title=\"Vancouver Island University\">Vancouver Island University</a>,\n",
       " <a href=\"http://www.royalroads.ca/\" target=\"_blank\" title=\"Royal Roads University\">Royal Roads University</a>,\n",
       " <a href=\"http://www.sfu.ca/\" target=\"_blank\" title=\"Simon Fraser University\">Simon Fraser University</a>,\n",
       " <a href=\"https://www.twu.ca/\" target=\"_blank\" title=\"Trinity Western University\">Trinity Western University</a>,\n",
       " <a href=\"http://www.tru.ca/\" target=\"_blank\" title=\"Thompson River University\">Thompson River University</a>,\n",
       " <a href=\"http://www.ufv.ca/\" target=\"_blank\" title=\"University of the Fraser Valley\">University of the Fraser Valley</a>,\n",
       " <a href=\"http://www.ubc.ca/\" target=\"_blank\" title=\"University of British Columbia\">University of British Columbia</a>,\n",
       " <a href=\"http://www.unbc.ca/\" target=\"_blank\" title=\"University of Northern British Columbia\">University of Northern British Columbia</a>,\n",
       " <a href=\"http://www.uvic.ca/\" target=\"_blank\" title=\"University of Victoria\">University of Victoria</a>,\n",
       " <a href=\"http://www.fnuniv.ca/\" target=\"_blank\" title=\"First Nations University of Canada\">First Nations University of Canada</a>]"
      ]
     },
     "execution_count": 11,
     "metadata": {},
     "output_type": "execute_result"
    }
   ],
   "source": [
    "links = My_table.findAll('a')\n",
    "links[0:10]"
   ]
  },
  {
   "cell_type": "code",
   "execution_count": 12,
   "metadata": {},
   "outputs": [
    {
     "name": "stdout",
     "output_type": "stream",
     "text": [
      "['http://www.viu.ca/', 'http://www.royalroads.ca/', 'http://www.sfu.ca/', 'https://www.twu.ca/', 'http://www.tru.ca/', 'http://www.ufv.ca/', 'http://www.ubc.ca/', 'http://www.unbc.ca/', 'http://www.uvic.ca/', 'http://www.fnuniv.ca/', 'http://www.uregina.ca/', 'http://www.usask.ca/', 'http://www.athabascau.ca/', 'http://www.augustana.ualberta.ca/', 'http://concordia.ab.ca/', 'http://www.kingsu.ca/', 'http://www.ualberta.ca/', 'http://www.ucalgary.ca/', 'http://www.uleth.ca/', 'http://www.macewan.ca/wcm/index.htm', 'http://www.mtroyal.ca/', 'http://www.brandonu.ca/', 'http://umanitoba.ca/', 'http://www.uwinnipeg.ca/', 'http://www.cmu.ca/', 'http://umanitoba.ca/stpauls/', 'http://ustboniface.ca/', 'http://www.algomau.ca/', 'http://brescia.uwo.ca/', 'http://www.brocku.ca/', 'http://carleton.ca/', 'http://www.dominicanu.ca/', 'http://www.huronuc.on.ca/Home', 'http://www.kings.uwo.ca/', 'https://www.lakeheadu.ca/', 'http://laurentian.ca/', 'http://www.mcmaster.ca/', 'http://www.nipissingu.ca/', 'http://www.ocadu.ca/', 'http://www.queensu.ca/', 'http://www.redeemer.ca/', 'http://www.rmc.ca/', 'http://www.ryerson.ca/index.html', 'http://ustpaul.ca/', 'http://www.sju.ca/', 'http://www.trentu.ca/', 'http://www.uoguelph.ca/', 'http://www.uoit.ca/', 'http://www.uottawa.ca/en', 'http://stmikes.utoronto.ca/', 'http://www.usudbury.ca/', 'http://www.utoronto.ca/', 'http://www.trinity.utoronto.ca/', 'https://uwaterloo.ca/', 'http://www.uwo.ca/', 'http://www.uwindsor.ca/', 'http://www.vicu.utoronto.ca/home', 'https://www.wlu.ca/', 'http://futurestudents.yorku.ca/', 'http://www.ubishops.ca/index.html', 'https://www.concordia.ca/', 'http://www.etsmtl.ca/', 'http://www.etsmtl.ca/', 'http://www.polymtl.ca/', 'http://www.hec.ca/en/', 'http://www.inrs.ca/english/homepage', 'http://www.mcgill.ca/', 'http://www.teluq.ca/', 'http://www.umontreal.ca/english/', 'http://www.usherbrooke.ca/', 'http://www.uQuébec.ca/reseau/', 'http://www.uqac.ca/', 'http://www.uqam.ca/', 'http://www.uqar.ca/english/', 'http://www.uqtr.ca/', 'http://www.uqat.ca/en/', 'http://uqo.ca/', 'http://www2.ulaval.ca/en/home.html', 'http://home.upei.ca/', 'http://www2.acadiau.ca/', 'http://www.cbu.ca/', 'http://www.dal.ca/', 'http://www.msvu.ca/en/home/default.aspx', 'http://nscad.ca/en/home/default.aspx', 'http://www.smu.ca/', 'http://www.stfx.ca/', 'https://www.usainteanne.ca/english', 'http://www.ukings.ca/', 'http://www.mta.ca/Prospective/Default.aspx', 'http://w3.stu.ca/stu/default.aspx', 'http://www.umoncton.ca/', 'http://www.unb.ca/', 'http://www.mun.ca/', 'http://www.bcit.ca/', 'http://www.okanagan.bc.ca/', 'http://www.ashtoncollege.com/', 'https://www.brightoncollege.org.uk/', 'http://www.columbiacollege.ca/', 'http://camosun.ca/', 'http://ccbst.ca/', 'http://www.capilanou.ca/', 'http://www.educacentre.com/en/', 'http://www.cnc.bc.ca/', 'http://www.cotr.bc.ca/', 'https://www.douglascollege.ca/', 'http://www.etoncollege.com/', 'http://www.jibc.ca/', 'http://www.kpu.ca/', 'http://www.langara.bc.ca/', 'http://www.necvancouver.org/', 'http://www.nvit.ca/', 'http://www.nic.bc.ca/', 'http://www.nlc.bc.ca/', 'http://www.nwcc.bc.ca/', 'http://www.okanagan.bc.ca/', 'http://selkirk.ca/', 'http://sprottshaw.com/', 'http://www.vcc.ca/', 'http://www.vanarts.com/', 'http://eal.wtc.mb.ca/', 'http://public.assiniboine.net/default.aspx', 'https://www.ucn.ca/default.aspx', 'http://www.rrc.mb.ca/', 'http://ustboniface.ca/etp', 'http://www.mitt.ca/wp/', 'http://www.nbccd.ca/en/home/default.aspx', 'http://www.nbcc.ca/', 'http://mcft.ca/en', 'http://nbbi.ca/', 'http://www.cna.nl.ca/', 'http://www.mi.mun.ca/', 'http://www.cns.nf.ca/', 'https://www.uoguelph.ca/alfred/fr/bienvenue', 'http://www.algonquincollege.com/', 'http://www.collegeboreal.ca/accueil', 'http://www.cambriancollege.ca/Pages/Home.aspx', 'http://www.canadorecollege.ca/', 'http://www.centennialcollege.ca/', 'https://www.collegelacite.ca/', 'http://www.conestogac.on.ca/', 'http://www.confederationc.on.ca/programs', 'http://www.durhamcollege.ca/', 'http://www.fanshawec.ca/', 'http://flemingcollege.ca/', 'http://www.georgebrown.ca/', 'http://www.georgiancollege.ca/', 'http://www.uoguelph.ca/campus/regional/', 'https://www.lambton.on.ca/', 'http://www.loyalistcollege.com/', 'http://michener.ca/', 'http://www.mohawkcollege.ca/', 'http://www.niagaracollege.ca/content/', 'http://www.northernc.on.ca/', 'http://www.stclaircollege.ca/', 'http://www.stlawrencecollege.ca/', 'http://www.saultcollege.ca/', 'http://www.senecacollege.ca/', 'https://www.sheridancollege.ca/', 'http://www.auroracollege.nt.ca/_live/pages/wpPages/home.aspx', 'http://www.academyoflearning.com/', 'http://www.ccg-gcc.gc.ca/eng/CCG/College/welcome', 'http://www.gaeliccollege.edu/', 'http://www.kbca.ca/page.aspx?site=kbca', 'http://www.nscc.ca/', 'http://www.arcticcollege.ca/', 'http://www.hollandcollege.com/', 'http://www.mccpei.com/', 'http://www.collegeacadieipe.ca/greenest/index.php/fr/', 'http://www.cegepat.qc.ca/accueil', 'http://www.collegeahuntsic.qc.ca/', 'http://www.claurendeau.qc.ca/accueil', 'http://www.cegep-baie-comeau.qc.ca/accueil', 'http://www.cegepba.qc.ca/', 'http://bdeb.qc.ca/', 'http://admin.crc-sher.qc.ca/', 'http://www.cegep-chicoutimi.qc.ca/', 'http://www.dawsoncollege.qc.ca/', 'http://www.cdrummond.qc.ca/', 'http://www.college-em.qc.ca/college-cegep-edouard-montpetit-longueuil-ecole-nationale-daerotechnique', 'http://www.cegepgarneau.ca/en/', 'http://www.cegepgim.ca/', 'http://www.cgodin.qc.ca/accueil', 'http://www.cegepgranby.qc.ca/accueil', 'http://www.cegep-heritage.qc.ca/', 'http://www.johnabbott.qc.ca/', 'http://www.cegepjonquiere.ca/cegep/', 'http://www.cegeplapocatiere.qc.ca/MyScriptorWeb/scripto.asp?resultat=533169', 'http://www.cegep-lanaudiere.qc.ca/', 'http://cll.qc.ca/', 'http://www.cegeplimoilou.ca/', 'http://www.clg.qc.ca/', 'http://www.cmaisonneuve.qc.ca/cegep-montreal-dec-preuniversitaire-technique-accueil', 'http://www.collegemv.qc.ca/', 'http://www.cegep-matane.qc.ca/', 'http://www.cmontmorency.qc.ca/', 'http://www.cegepoutaouais.qc.ca/', 'http://www.cegep-rimouski.qc.ca/', 'http://www.crosemont.qc.ca/accueil', 'http://www.cegepstfe.ca/', 'http://www.cegepsth.qc.ca/', 'http://www.cstjean.qc.ca/accueil', 'http://www.cstj.qc.ca/', 'http://www.cegepsl.qc.ca/', 'http://www.cegep-ste-foy.qc.ca/csf4/index.php', 'http://www.cegep-sept-iles.qc.ca/', 'http://www.collegeshawinigan.ca/', 'http://cegepsherbrooke.qc.ca/', 'http://www.cegepst.qc.ca/', 'http://www.cegepth.qc.ca/accueil', 'http://www.cegeptr.qc.ca/', 'https://www.colval.qc.ca/', 'http://www.vaniercollege.qc.ca/', 'http://www.cgpvicto.qc.ca/formation-collegiale/index.aspx', 'http://www.cvm.qc.ca/Pages/index.aspx', 'http://bart.ca/', 'http://www.brebeuf.qc.ca/', 'http://www.clafleche.qc.ca/', 'http://www.collegelasalle.com/', 'http://www.marianopolis.edu/', 'http://www.cimf.ca/', 'https://www.merici.ca/', 'http://www.osullivan.edu/en/', 'http://www.osullivan-Québec.qc.ca/', 'http://www.stanislas.qc.ca/', 'http://www.emvi.qc.ca/', 'http://www.nationalcircusschool.ca/en/home', 'http://www.seminaire-sherbrooke.qc.ca/', 'http://www.trebas.com/', 'http://bethany.sk.ca/', 'http://www.briercrest.ca/', 'http://www.ctrc.sk.ca/', 'http://www.horizon.edu/home', 'http://www.collegemathieu.sk.ca/', 'https://www.cumberlandcollege.sk.ca/', 'http://www.estoncollege.ca/', 'http://www.greatplainscollege.ca/', 'http://nipawin.org/', 'http://trainnorth.ca/', 'http://www.nwrc.sk.ca/', 'http://www.parklandcollege.sk.ca/', 'http://www.siit.sk.ca/', 'http://saskpolytech.ca/', 'http://www.southeastcollege.org/', 'http://www.stpeterscollege.ca/', 'http://www.wabcwesternacademy.com/', 'http://www.yukoncollege.yk.ca/']\n"
     ]
    }
   ],
   "source": [
    "colleges = []\n",
    "for link in links:\n",
    "    colleges.append(link.get('href'))\n",
    "    \n",
    "print(colleges)"
   ]
  },
  {
   "cell_type": "code",
   "execution_count": 13,
   "metadata": {},
   "outputs": [
    {
     "data": {
      "text/html": [
       "<div>\n",
       "<style scoped>\n",
       "    .dataframe tbody tr th:only-of-type {\n",
       "        vertical-align: middle;\n",
       "    }\n",
       "\n",
       "    .dataframe tbody tr th {\n",
       "        vertical-align: top;\n",
       "    }\n",
       "\n",
       "    .dataframe thead th {\n",
       "        text-align: right;\n",
       "    }\n",
       "</style>\n",
       "<table border=\"1\" class=\"dataframe\">\n",
       "  <thead>\n",
       "    <tr style=\"text-align: right;\">\n",
       "      <th></th>\n",
       "      <th>University</th>\n",
       "    </tr>\n",
       "  </thead>\n",
       "  <tbody>\n",
       "    <tr>\n",
       "      <th>0</th>\n",
       "      <td>http://www.viu.ca/</td>\n",
       "    </tr>\n",
       "    <tr>\n",
       "      <th>1</th>\n",
       "      <td>http://www.royalroads.ca/</td>\n",
       "    </tr>\n",
       "    <tr>\n",
       "      <th>2</th>\n",
       "      <td>http://www.sfu.ca/</td>\n",
       "    </tr>\n",
       "    <tr>\n",
       "      <th>3</th>\n",
       "      <td>https://www.twu.ca/</td>\n",
       "    </tr>\n",
       "    <tr>\n",
       "      <th>4</th>\n",
       "      <td>http://www.tru.ca/</td>\n",
       "    </tr>\n",
       "  </tbody>\n",
       "</table>\n",
       "</div>"
      ],
      "text/plain": [
       "                  University\n",
       "0         http://www.viu.ca/\n",
       "1  http://www.royalroads.ca/\n",
       "2         http://www.sfu.ca/\n",
       "3        https://www.twu.ca/\n",
       "4         http://www.tru.ca/"
      ]
     },
     "execution_count": 13,
     "metadata": {},
     "output_type": "execute_result"
    }
   ],
   "source": [
    "df = pd.DataFrame()\n",
    "df['University'] = colleges\n",
    "df.head()"
   ]
  },
  {
   "cell_type": "markdown",
   "metadata": {},
   "source": [
    "### Second [example](https://towardsdatascience.com/web-scraping-101-in-python-35f8653b1c97)"
   ]
  },
  {
   "cell_type": "code",
   "execution_count": 24,
   "metadata": {},
   "outputs": [
    {
     "ename": "ConnectionError",
     "evalue": "HTTPSConnectionPool(host='www.imdb.com', port=443): Max retries exceeded with url: /search/title/?count=100&groups=top_1000&sort=user_rating (Caused by NewConnectionError('<urllib3.connection.VerifiedHTTPSConnection object at 0x7fedc5d45550>: Failed to establish a new connection: [Errno 113] No route to host',))",
     "output_type": "error",
     "traceback": [
      "\u001b[0;31m---------------------------------------------------------------------------\u001b[0m",
      "\u001b[0;31mOSError\u001b[0m                                   Traceback (most recent call last)",
      "\u001b[0;32m/usr/local/lib/python3.6/dist-packages/urllib3/connection.py\u001b[0m in \u001b[0;36m_new_conn\u001b[0;34m(self)\u001b[0m\n\u001b[1;32m    140\u001b[0m             conn = connection.create_connection(\n\u001b[0;32m--> 141\u001b[0;31m                 (self.host, self.port), self.timeout, **extra_kw)\n\u001b[0m\u001b[1;32m    142\u001b[0m \u001b[0;34m\u001b[0m\u001b[0m\n",
      "\u001b[0;32m/usr/local/lib/python3.6/dist-packages/urllib3/util/connection.py\u001b[0m in \u001b[0;36mcreate_connection\u001b[0;34m(address, timeout, source_address, socket_options)\u001b[0m\n\u001b[1;32m     82\u001b[0m     \u001b[0;32mif\u001b[0m \u001b[0merr\u001b[0m \u001b[0;32mis\u001b[0m \u001b[0;32mnot\u001b[0m \u001b[0;32mNone\u001b[0m\u001b[0;34m:\u001b[0m\u001b[0;34m\u001b[0m\u001b[0;34m\u001b[0m\u001b[0m\n\u001b[0;32m---> 83\u001b[0;31m         \u001b[0;32mraise\u001b[0m \u001b[0merr\u001b[0m\u001b[0;34m\u001b[0m\u001b[0;34m\u001b[0m\u001b[0m\n\u001b[0m\u001b[1;32m     84\u001b[0m \u001b[0;34m\u001b[0m\u001b[0m\n",
      "\u001b[0;32m/usr/local/lib/python3.6/dist-packages/urllib3/util/connection.py\u001b[0m in \u001b[0;36mcreate_connection\u001b[0;34m(address, timeout, source_address, socket_options)\u001b[0m\n\u001b[1;32m     72\u001b[0m                 \u001b[0msock\u001b[0m\u001b[0;34m.\u001b[0m\u001b[0mbind\u001b[0m\u001b[0;34m(\u001b[0m\u001b[0msource_address\u001b[0m\u001b[0;34m)\u001b[0m\u001b[0;34m\u001b[0m\u001b[0;34m\u001b[0m\u001b[0m\n\u001b[0;32m---> 73\u001b[0;31m             \u001b[0msock\u001b[0m\u001b[0;34m.\u001b[0m\u001b[0mconnect\u001b[0m\u001b[0;34m(\u001b[0m\u001b[0msa\u001b[0m\u001b[0;34m)\u001b[0m\u001b[0;34m\u001b[0m\u001b[0;34m\u001b[0m\u001b[0m\n\u001b[0m\u001b[1;32m     74\u001b[0m             \u001b[0;32mreturn\u001b[0m \u001b[0msock\u001b[0m\u001b[0;34m\u001b[0m\u001b[0;34m\u001b[0m\u001b[0m\n",
      "\u001b[0;31mOSError\u001b[0m: [Errno 113] No route to host",
      "\nDuring handling of the above exception, another exception occurred:\n",
      "\u001b[0;31mNewConnectionError\u001b[0m                        Traceback (most recent call last)",
      "\u001b[0;32m/usr/local/lib/python3.6/dist-packages/urllib3/connectionpool.py\u001b[0m in \u001b[0;36murlopen\u001b[0;34m(self, method, url, body, headers, retries, redirect, assert_same_host, timeout, pool_timeout, release_conn, chunked, body_pos, **response_kw)\u001b[0m\n\u001b[1;32m    600\u001b[0m                                                   \u001b[0mbody\u001b[0m\u001b[0;34m=\u001b[0m\u001b[0mbody\u001b[0m\u001b[0;34m,\u001b[0m \u001b[0mheaders\u001b[0m\u001b[0;34m=\u001b[0m\u001b[0mheaders\u001b[0m\u001b[0;34m,\u001b[0m\u001b[0;34m\u001b[0m\u001b[0;34m\u001b[0m\u001b[0m\n\u001b[0;32m--> 601\u001b[0;31m                                                   chunked=chunked)\n\u001b[0m\u001b[1;32m    602\u001b[0m \u001b[0;34m\u001b[0m\u001b[0m\n",
      "\u001b[0;32m/usr/local/lib/python3.6/dist-packages/urllib3/connectionpool.py\u001b[0m in \u001b[0;36m_make_request\u001b[0;34m(self, conn, method, url, timeout, chunked, **httplib_request_kw)\u001b[0m\n\u001b[1;32m    345\u001b[0m         \u001b[0;32mtry\u001b[0m\u001b[0;34m:\u001b[0m\u001b[0;34m\u001b[0m\u001b[0;34m\u001b[0m\u001b[0m\n\u001b[0;32m--> 346\u001b[0;31m             \u001b[0mself\u001b[0m\u001b[0;34m.\u001b[0m\u001b[0m_validate_conn\u001b[0m\u001b[0;34m(\u001b[0m\u001b[0mconn\u001b[0m\u001b[0;34m)\u001b[0m\u001b[0;34m\u001b[0m\u001b[0;34m\u001b[0m\u001b[0m\n\u001b[0m\u001b[1;32m    347\u001b[0m         \u001b[0;32mexcept\u001b[0m \u001b[0;34m(\u001b[0m\u001b[0mSocketTimeout\u001b[0m\u001b[0;34m,\u001b[0m \u001b[0mBaseSSLError\u001b[0m\u001b[0;34m)\u001b[0m \u001b[0;32mas\u001b[0m \u001b[0me\u001b[0m\u001b[0;34m:\u001b[0m\u001b[0;34m\u001b[0m\u001b[0;34m\u001b[0m\u001b[0m\n",
      "\u001b[0;32m/usr/local/lib/python3.6/dist-packages/urllib3/connectionpool.py\u001b[0m in \u001b[0;36m_validate_conn\u001b[0;34m(self, conn)\u001b[0m\n\u001b[1;32m    849\u001b[0m         \u001b[0;32mif\u001b[0m \u001b[0;32mnot\u001b[0m \u001b[0mgetattr\u001b[0m\u001b[0;34m(\u001b[0m\u001b[0mconn\u001b[0m\u001b[0;34m,\u001b[0m \u001b[0;34m'sock'\u001b[0m\u001b[0;34m,\u001b[0m \u001b[0;32mNone\u001b[0m\u001b[0;34m)\u001b[0m\u001b[0;34m:\u001b[0m  \u001b[0;31m# AppEngine might not have  `.sock`\u001b[0m\u001b[0;34m\u001b[0m\u001b[0;34m\u001b[0m\u001b[0m\n\u001b[0;32m--> 850\u001b[0;31m             \u001b[0mconn\u001b[0m\u001b[0;34m.\u001b[0m\u001b[0mconnect\u001b[0m\u001b[0;34m(\u001b[0m\u001b[0;34m)\u001b[0m\u001b[0;34m\u001b[0m\u001b[0;34m\u001b[0m\u001b[0m\n\u001b[0m\u001b[1;32m    851\u001b[0m \u001b[0;34m\u001b[0m\u001b[0m\n",
      "\u001b[0;32m/usr/local/lib/python3.6/dist-packages/urllib3/connection.py\u001b[0m in \u001b[0;36mconnect\u001b[0;34m(self)\u001b[0m\n\u001b[1;32m    283\u001b[0m         \u001b[0;31m# Add certificate verification\u001b[0m\u001b[0;34m\u001b[0m\u001b[0;34m\u001b[0m\u001b[0;34m\u001b[0m\u001b[0m\n\u001b[0;32m--> 284\u001b[0;31m         \u001b[0mconn\u001b[0m \u001b[0;34m=\u001b[0m \u001b[0mself\u001b[0m\u001b[0;34m.\u001b[0m\u001b[0m_new_conn\u001b[0m\u001b[0;34m(\u001b[0m\u001b[0;34m)\u001b[0m\u001b[0;34m\u001b[0m\u001b[0;34m\u001b[0m\u001b[0m\n\u001b[0m\u001b[1;32m    285\u001b[0m \u001b[0;34m\u001b[0m\u001b[0m\n",
      "\u001b[0;32m/usr/local/lib/python3.6/dist-packages/urllib3/connection.py\u001b[0m in \u001b[0;36m_new_conn\u001b[0;34m(self)\u001b[0m\n\u001b[1;32m    149\u001b[0m             raise NewConnectionError(\n\u001b[0;32m--> 150\u001b[0;31m                 self, \"Failed to establish a new connection: %s\" % e)\n\u001b[0m\u001b[1;32m    151\u001b[0m \u001b[0;34m\u001b[0m\u001b[0m\n",
      "\u001b[0;31mNewConnectionError\u001b[0m: <urllib3.connection.VerifiedHTTPSConnection object at 0x7fedc5d45550>: Failed to establish a new connection: [Errno 113] No route to host",
      "\nDuring handling of the above exception, another exception occurred:\n",
      "\u001b[0;31mMaxRetryError\u001b[0m                             Traceback (most recent call last)",
      "\u001b[0;32m/usr/local/lib/python3.6/dist-packages/requests/adapters.py\u001b[0m in \u001b[0;36msend\u001b[0;34m(self, request, stream, timeout, verify, cert, proxies)\u001b[0m\n\u001b[1;32m    448\u001b[0m                     \u001b[0mretries\u001b[0m\u001b[0;34m=\u001b[0m\u001b[0mself\u001b[0m\u001b[0;34m.\u001b[0m\u001b[0mmax_retries\u001b[0m\u001b[0;34m,\u001b[0m\u001b[0;34m\u001b[0m\u001b[0;34m\u001b[0m\u001b[0m\n\u001b[0;32m--> 449\u001b[0;31m                     \u001b[0mtimeout\u001b[0m\u001b[0;34m=\u001b[0m\u001b[0mtimeout\u001b[0m\u001b[0;34m\u001b[0m\u001b[0;34m\u001b[0m\u001b[0m\n\u001b[0m\u001b[1;32m    450\u001b[0m                 )\n",
      "\u001b[0;32m/usr/local/lib/python3.6/dist-packages/urllib3/connectionpool.py\u001b[0m in \u001b[0;36murlopen\u001b[0;34m(self, method, url, body, headers, retries, redirect, assert_same_host, timeout, pool_timeout, release_conn, chunked, body_pos, **response_kw)\u001b[0m\n\u001b[1;32m    638\u001b[0m             retries = retries.increment(method, url, error=e, _pool=self,\n\u001b[0;32m--> 639\u001b[0;31m                                         _stacktrace=sys.exc_info()[2])\n\u001b[0m\u001b[1;32m    640\u001b[0m             \u001b[0mretries\u001b[0m\u001b[0;34m.\u001b[0m\u001b[0msleep\u001b[0m\u001b[0;34m(\u001b[0m\u001b[0;34m)\u001b[0m\u001b[0;34m\u001b[0m\u001b[0;34m\u001b[0m\u001b[0m\n",
      "\u001b[0;32m/usr/local/lib/python3.6/dist-packages/urllib3/util/retry.py\u001b[0m in \u001b[0;36mincrement\u001b[0;34m(self, method, url, response, error, _pool, _stacktrace)\u001b[0m\n\u001b[1;32m    387\u001b[0m         \u001b[0;32mif\u001b[0m \u001b[0mnew_retry\u001b[0m\u001b[0;34m.\u001b[0m\u001b[0mis_exhausted\u001b[0m\u001b[0;34m(\u001b[0m\u001b[0;34m)\u001b[0m\u001b[0;34m:\u001b[0m\u001b[0;34m\u001b[0m\u001b[0;34m\u001b[0m\u001b[0m\n\u001b[0;32m--> 388\u001b[0;31m             \u001b[0;32mraise\u001b[0m \u001b[0mMaxRetryError\u001b[0m\u001b[0;34m(\u001b[0m\u001b[0m_pool\u001b[0m\u001b[0;34m,\u001b[0m \u001b[0murl\u001b[0m\u001b[0;34m,\u001b[0m \u001b[0merror\u001b[0m \u001b[0;32mor\u001b[0m \u001b[0mResponseError\u001b[0m\u001b[0;34m(\u001b[0m\u001b[0mcause\u001b[0m\u001b[0;34m)\u001b[0m\u001b[0;34m)\u001b[0m\u001b[0;34m\u001b[0m\u001b[0;34m\u001b[0m\u001b[0m\n\u001b[0m\u001b[1;32m    389\u001b[0m \u001b[0;34m\u001b[0m\u001b[0m\n",
      "\u001b[0;31mMaxRetryError\u001b[0m: HTTPSConnectionPool(host='www.imdb.com', port=443): Max retries exceeded with url: /search/title/?count=100&groups=top_1000&sort=user_rating (Caused by NewConnectionError('<urllib3.connection.VerifiedHTTPSConnection object at 0x7fedc5d45550>: Failed to establish a new connection: [Errno 113] No route to host',))",
      "\nDuring handling of the above exception, another exception occurred:\n",
      "\u001b[0;31mConnectionError\u001b[0m                           Traceback (most recent call last)",
      "\u001b[0;32m<ipython-input-24-e15618af36b4>\u001b[0m in \u001b[0;36m<module>\u001b[0;34m()\u001b[0m\n\u001b[1;32m      5\u001b[0m     \u001b[0;32mreturn\u001b[0m \u001b[0mbs\u001b[0m\u001b[0;34m(\u001b[0m\u001b[0mpage\u001b[0m\u001b[0;34m.\u001b[0m\u001b[0mtext\u001b[0m\u001b[0;34m,\u001b[0m \u001b[0;34m\"html.parser\"\u001b[0m\u001b[0;34m)\u001b[0m\u001b[0;34m\u001b[0m\u001b[0;34m\u001b[0m\u001b[0m\n\u001b[1;32m      6\u001b[0m \u001b[0;34m\u001b[0m\u001b[0m\n\u001b[0;32m----> 7\u001b[0;31m \u001b[0msoup\u001b[0m \u001b[0;34m=\u001b[0m \u001b[0mget_page_contents\u001b[0m\u001b[0;34m(\u001b[0m\u001b[0murl\u001b[0m\u001b[0;34m)\u001b[0m\u001b[0;34m\u001b[0m\u001b[0;34m\u001b[0m\u001b[0m\n\u001b[0m",
      "\u001b[0;32m<ipython-input-24-e15618af36b4>\u001b[0m in \u001b[0;36mget_page_contents\u001b[0;34m(url)\u001b[0m\n\u001b[1;32m      2\u001b[0m \u001b[0;34m\u001b[0m\u001b[0m\n\u001b[1;32m      3\u001b[0m \u001b[0;32mdef\u001b[0m \u001b[0mget_page_contents\u001b[0m\u001b[0;34m(\u001b[0m\u001b[0murl\u001b[0m\u001b[0;34m)\u001b[0m\u001b[0;34m:\u001b[0m\u001b[0;34m\u001b[0m\u001b[0;34m\u001b[0m\u001b[0m\n\u001b[0;32m----> 4\u001b[0;31m     \u001b[0mpage\u001b[0m \u001b[0;34m=\u001b[0m \u001b[0mrequests\u001b[0m\u001b[0;34m.\u001b[0m\u001b[0mget\u001b[0m\u001b[0;34m(\u001b[0m\u001b[0murl\u001b[0m\u001b[0;34m,\u001b[0m \u001b[0mheaders\u001b[0m\u001b[0;34m=\u001b[0m\u001b[0;34m{\u001b[0m\u001b[0;34m\"Accept-Language\"\u001b[0m\u001b[0;34m:\u001b[0m \u001b[0;34m\"en-US\"\u001b[0m\u001b[0;34m}\u001b[0m\u001b[0;34m)\u001b[0m\u001b[0;34m\u001b[0m\u001b[0;34m\u001b[0m\u001b[0m\n\u001b[0m\u001b[1;32m      5\u001b[0m     \u001b[0;32mreturn\u001b[0m \u001b[0mbs\u001b[0m\u001b[0;34m(\u001b[0m\u001b[0mpage\u001b[0m\u001b[0;34m.\u001b[0m\u001b[0mtext\u001b[0m\u001b[0;34m,\u001b[0m \u001b[0;34m\"html.parser\"\u001b[0m\u001b[0;34m)\u001b[0m\u001b[0;34m\u001b[0m\u001b[0;34m\u001b[0m\u001b[0m\n\u001b[1;32m      6\u001b[0m \u001b[0;34m\u001b[0m\u001b[0m\n",
      "\u001b[0;32m/usr/local/lib/python3.6/dist-packages/requests/api.py\u001b[0m in \u001b[0;36mget\u001b[0;34m(url, params, **kwargs)\u001b[0m\n\u001b[1;32m     73\u001b[0m \u001b[0;34m\u001b[0m\u001b[0m\n\u001b[1;32m     74\u001b[0m     \u001b[0mkwargs\u001b[0m\u001b[0;34m.\u001b[0m\u001b[0msetdefault\u001b[0m\u001b[0;34m(\u001b[0m\u001b[0;34m'allow_redirects'\u001b[0m\u001b[0;34m,\u001b[0m \u001b[0;32mTrue\u001b[0m\u001b[0;34m)\u001b[0m\u001b[0;34m\u001b[0m\u001b[0;34m\u001b[0m\u001b[0m\n\u001b[0;32m---> 75\u001b[0;31m     \u001b[0;32mreturn\u001b[0m \u001b[0mrequest\u001b[0m\u001b[0;34m(\u001b[0m\u001b[0;34m'get'\u001b[0m\u001b[0;34m,\u001b[0m \u001b[0murl\u001b[0m\u001b[0;34m,\u001b[0m \u001b[0mparams\u001b[0m\u001b[0;34m=\u001b[0m\u001b[0mparams\u001b[0m\u001b[0;34m,\u001b[0m \u001b[0;34m**\u001b[0m\u001b[0mkwargs\u001b[0m\u001b[0;34m)\u001b[0m\u001b[0;34m\u001b[0m\u001b[0;34m\u001b[0m\u001b[0m\n\u001b[0m\u001b[1;32m     76\u001b[0m \u001b[0;34m\u001b[0m\u001b[0m\n\u001b[1;32m     77\u001b[0m \u001b[0;34m\u001b[0m\u001b[0m\n",
      "\u001b[0;32m/usr/local/lib/python3.6/dist-packages/requests/api.py\u001b[0m in \u001b[0;36mrequest\u001b[0;34m(method, url, **kwargs)\u001b[0m\n\u001b[1;32m     58\u001b[0m     \u001b[0;31m# cases, and look like a memory leak in others.\u001b[0m\u001b[0;34m\u001b[0m\u001b[0;34m\u001b[0m\u001b[0;34m\u001b[0m\u001b[0m\n\u001b[1;32m     59\u001b[0m     \u001b[0;32mwith\u001b[0m \u001b[0msessions\u001b[0m\u001b[0;34m.\u001b[0m\u001b[0mSession\u001b[0m\u001b[0;34m(\u001b[0m\u001b[0;34m)\u001b[0m \u001b[0;32mas\u001b[0m \u001b[0msession\u001b[0m\u001b[0;34m:\u001b[0m\u001b[0;34m\u001b[0m\u001b[0;34m\u001b[0m\u001b[0m\n\u001b[0;32m---> 60\u001b[0;31m         \u001b[0;32mreturn\u001b[0m \u001b[0msession\u001b[0m\u001b[0;34m.\u001b[0m\u001b[0mrequest\u001b[0m\u001b[0;34m(\u001b[0m\u001b[0mmethod\u001b[0m\u001b[0;34m=\u001b[0m\u001b[0mmethod\u001b[0m\u001b[0;34m,\u001b[0m \u001b[0murl\u001b[0m\u001b[0;34m=\u001b[0m\u001b[0murl\u001b[0m\u001b[0;34m,\u001b[0m \u001b[0;34m**\u001b[0m\u001b[0mkwargs\u001b[0m\u001b[0;34m)\u001b[0m\u001b[0;34m\u001b[0m\u001b[0;34m\u001b[0m\u001b[0m\n\u001b[0m\u001b[1;32m     61\u001b[0m \u001b[0;34m\u001b[0m\u001b[0m\n\u001b[1;32m     62\u001b[0m \u001b[0;34m\u001b[0m\u001b[0m\n",
      "\u001b[0;32m/usr/local/lib/python3.6/dist-packages/requests/sessions.py\u001b[0m in \u001b[0;36mrequest\u001b[0;34m(self, method, url, params, data, headers, cookies, files, auth, timeout, allow_redirects, proxies, hooks, stream, verify, cert, json)\u001b[0m\n\u001b[1;32m    531\u001b[0m         }\n\u001b[1;32m    532\u001b[0m         \u001b[0msend_kwargs\u001b[0m\u001b[0;34m.\u001b[0m\u001b[0mupdate\u001b[0m\u001b[0;34m(\u001b[0m\u001b[0msettings\u001b[0m\u001b[0;34m)\u001b[0m\u001b[0;34m\u001b[0m\u001b[0;34m\u001b[0m\u001b[0m\n\u001b[0;32m--> 533\u001b[0;31m         \u001b[0mresp\u001b[0m \u001b[0;34m=\u001b[0m \u001b[0mself\u001b[0m\u001b[0;34m.\u001b[0m\u001b[0msend\u001b[0m\u001b[0;34m(\u001b[0m\u001b[0mprep\u001b[0m\u001b[0;34m,\u001b[0m \u001b[0;34m**\u001b[0m\u001b[0msend_kwargs\u001b[0m\u001b[0;34m)\u001b[0m\u001b[0;34m\u001b[0m\u001b[0;34m\u001b[0m\u001b[0m\n\u001b[0m\u001b[1;32m    534\u001b[0m \u001b[0;34m\u001b[0m\u001b[0m\n\u001b[1;32m    535\u001b[0m         \u001b[0;32mreturn\u001b[0m \u001b[0mresp\u001b[0m\u001b[0;34m\u001b[0m\u001b[0;34m\u001b[0m\u001b[0m\n",
      "\u001b[0;32m/usr/local/lib/python3.6/dist-packages/requests/sessions.py\u001b[0m in \u001b[0;36msend\u001b[0;34m(self, request, **kwargs)\u001b[0m\n\u001b[1;32m    644\u001b[0m \u001b[0;34m\u001b[0m\u001b[0m\n\u001b[1;32m    645\u001b[0m         \u001b[0;31m# Send the request\u001b[0m\u001b[0;34m\u001b[0m\u001b[0;34m\u001b[0m\u001b[0;34m\u001b[0m\u001b[0m\n\u001b[0;32m--> 646\u001b[0;31m         \u001b[0mr\u001b[0m \u001b[0;34m=\u001b[0m \u001b[0madapter\u001b[0m\u001b[0;34m.\u001b[0m\u001b[0msend\u001b[0m\u001b[0;34m(\u001b[0m\u001b[0mrequest\u001b[0m\u001b[0;34m,\u001b[0m \u001b[0;34m**\u001b[0m\u001b[0mkwargs\u001b[0m\u001b[0;34m)\u001b[0m\u001b[0;34m\u001b[0m\u001b[0;34m\u001b[0m\u001b[0m\n\u001b[0m\u001b[1;32m    647\u001b[0m \u001b[0;34m\u001b[0m\u001b[0m\n\u001b[1;32m    648\u001b[0m         \u001b[0;31m# Total elapsed time of the request (approximately)\u001b[0m\u001b[0;34m\u001b[0m\u001b[0;34m\u001b[0m\u001b[0;34m\u001b[0m\u001b[0m\n",
      "\u001b[0;32m/usr/local/lib/python3.6/dist-packages/requests/adapters.py\u001b[0m in \u001b[0;36msend\u001b[0;34m(self, request, stream, timeout, verify, cert, proxies)\u001b[0m\n\u001b[1;32m    514\u001b[0m                 \u001b[0;32mraise\u001b[0m \u001b[0mSSLError\u001b[0m\u001b[0;34m(\u001b[0m\u001b[0me\u001b[0m\u001b[0;34m,\u001b[0m \u001b[0mrequest\u001b[0m\u001b[0;34m=\u001b[0m\u001b[0mrequest\u001b[0m\u001b[0;34m)\u001b[0m\u001b[0;34m\u001b[0m\u001b[0;34m\u001b[0m\u001b[0m\n\u001b[1;32m    515\u001b[0m \u001b[0;34m\u001b[0m\u001b[0m\n\u001b[0;32m--> 516\u001b[0;31m             \u001b[0;32mraise\u001b[0m \u001b[0mConnectionError\u001b[0m\u001b[0;34m(\u001b[0m\u001b[0me\u001b[0m\u001b[0;34m,\u001b[0m \u001b[0mrequest\u001b[0m\u001b[0;34m=\u001b[0m\u001b[0mrequest\u001b[0m\u001b[0;34m)\u001b[0m\u001b[0;34m\u001b[0m\u001b[0;34m\u001b[0m\u001b[0m\n\u001b[0m\u001b[1;32m    517\u001b[0m \u001b[0;34m\u001b[0m\u001b[0m\n\u001b[1;32m    518\u001b[0m         \u001b[0;32mexcept\u001b[0m \u001b[0mClosedPoolError\u001b[0m \u001b[0;32mas\u001b[0m \u001b[0me\u001b[0m\u001b[0;34m:\u001b[0m\u001b[0;34m\u001b[0m\u001b[0;34m\u001b[0m\u001b[0m\n",
      "\u001b[0;31mConnectionError\u001b[0m: HTTPSConnectionPool(host='www.imdb.com', port=443): Max retries exceeded with url: /search/title/?count=100&groups=top_1000&sort=user_rating (Caused by NewConnectionError('<urllib3.connection.VerifiedHTTPSConnection object at 0x7fedc5d45550>: Failed to establish a new connection: [Errno 113] No route to host',))"
     ]
    }
   ],
   "source": [
    "url = 'https://www.imdb.com/search/title/?count=100&groups=top_1000&sort=user_rating'\n",
    "\n",
    "def get_page_contents(url):\n",
    "    page = requests.get(url, headers={\"Accept-Language\": \"en-US\"})\n",
    "    return bs(page.text, \"html.parser\")\n",
    "\n",
    "soup = get_page_contents(url)"
   ]
  },
  {
   "cell_type": "code",
   "execution_count": null,
   "metadata": {},
   "outputs": [],
   "source": [
    "movies = soup.findAll('h3', class_='lister-item-header')"
   ]
  },
  {
   "cell_type": "code",
   "execution_count": null,
   "metadata": {},
   "outputs": [],
   "source": [
    "titles = [movie.find('a').text for movie in movies]"
   ]
  },
  {
   "cell_type": "code",
   "execution_count": null,
   "metadata": {},
   "outputs": [],
   "source": [
    "release = [movie.find('span', class_='lister-item-year text-muted unbold').text for movie in movies]"
   ]
  },
  {
   "cell_type": "code",
   "execution_count": null,
   "metadata": {},
   "outputs": [],
   "source": [
    "movie.find('div', 'inline-block ratings-imdb-rating')['data-value']"
   ]
  },
  {
   "cell_type": "code",
   "execution_count": null,
   "metadata": {},
   "outputs": [],
   "source": [
    "votes = movie.findAll('span' , {'name' : 'nv'})[0]['data-value']\n",
    "earnings = movie.findAll('span' , {'name' : 'nv'})[1]['data-value']"
   ]
  },
  {
   "cell_type": "code",
   "execution_count": null,
   "metadata": {},
   "outputs": [],
   "source": [
    "director = movie.find('p').find('a').text"
   ]
  },
  {
   "cell_type": "code",
   "execution_count": null,
   "metadata": {},
   "outputs": [],
   "source": [
    "actors = [actor.text for actor in movie.find('p').findAll('a')[1:]]"
   ]
  },
  {
   "cell_type": "code",
   "execution_count": 25,
   "metadata": {},
   "outputs": [
    {
     "data": {
      "text/html": [
       "<div>\n",
       "<style scoped>\n",
       "    .dataframe tbody tr th:only-of-type {\n",
       "        vertical-align: middle;\n",
       "    }\n",
       "\n",
       "    .dataframe tbody tr th {\n",
       "        vertical-align: top;\n",
       "    }\n",
       "\n",
       "    .dataframe thead th {\n",
       "        text-align: right;\n",
       "    }\n",
       "</style>\n",
       "<table border=\"1\" class=\"dataframe\">\n",
       "  <thead>\n",
       "    <tr style=\"text-align: right;\">\n",
       "      <th></th>\n",
       "      <th>Title</th>\n",
       "      <th>Relase</th>\n",
       "      <th>Audience Rating</th>\n",
       "      <th>Runtime</th>\n",
       "      <th>Genre</th>\n",
       "      <th>IMDB Rating</th>\n",
       "      <th>Votes</th>\n",
       "      <th>Box Office Earnings</th>\n",
       "      <th>Director</th>\n",
       "      <th>Actors</th>\n",
       "    </tr>\n",
       "  </thead>\n",
       "  <tbody>\n",
       "  </tbody>\n",
       "</table>\n",
       "</div>"
      ],
      "text/plain": [
       "Empty DataFrame\n",
       "Columns: [Title, Relase, Audience Rating, Runtime, Genre, IMDB Rating, Votes, Box Office Earnings, Director, Actors]\n",
       "Index: []"
      ]
     },
     "execution_count": 25,
     "metadata": {},
     "output_type": "execute_result"
    }
   ],
   "source": [
    "def numeric_value(movie, tag, class_=None, order=None):\n",
    "    if order:\n",
    "        if len(movie.findAll(tag, class_)) > 1:\n",
    "            to_extract = movie.findAll(tag, class_)[order]['data-value']\n",
    "        else:\n",
    "            to_extract = None\n",
    "    else:\n",
    "        to_extract = movie.find(tag, class_)['data-value']\n",
    "\n",
    "    return to_extract\n",
    "\n",
    "\n",
    "def text_value(movie, tag, class_=None):\n",
    "    if movie.find(tag, class_):\n",
    "        return movie.find(tag, class_).text\n",
    "    else:\n",
    "        return\n",
    "\n",
    "\n",
    "def nested_text_value(movie, tag_1, class_1, tag_2, class_2, order=None):\n",
    "    if not order:\n",
    "        return movie.find(tag_1, class_1).find(tag_2, class_2).text\n",
    "    else:\n",
    "        return [val.text for val in movie.find(tag_1, class_1).findAll(tag_2, class_2)[order]]\n",
    "\n",
    "\n",
    "def extract_attribute(soup, tag_1, class_1='', tag_2='', class_2='',\n",
    "                      text_attribute=True, order=None, nested=False):\n",
    "    movies = soup.findAll('div', class_='lister-item-content')\n",
    "    data_list = []\n",
    "    for movie in movies:\n",
    "        if text_attribute:\n",
    "            if nested:\n",
    "                data_list.append(nested_text_value(movie, tag_1, class_1, tag_2, class_2, order))\n",
    "            else:\n",
    "                data_list.append(text_value(movie, tag_1, class_1))\n",
    "        else:\n",
    "            data_list.append(numeric_value(movie, tag_1, class_1, order))\n",
    "\n",
    "    return data_list\n",
    "\n",
    "\n",
    "titles = extract_attribute(soup, 'a')\n",
    "release = extract_attribute(soup, 'span', 'lister-item-year text-muted unbold')\n",
    "audience_rating = extract_attribute(soup, 'span', 'certificate')\n",
    "runtime = extract_attribute(soup, 'span', 'runtime')\n",
    "genre = extract_attribute(soup, 'span', 'genre')\n",
    "imdb_rating = extract_attribute(soup, 'div', 'inline-block ratings-imdb-rating', False)\n",
    "votes = extract_attribute(soup, 'span' , {'name' : 'nv'}, False, 0)\n",
    "earnings = extract_attribute(soup, 'span' , {'name' : 'nv'}, False, 1)\n",
    "directors = extract_attribute(soup, 'p', '', 'a', '', True, 0, True)\n",
    "actors = extract_attribute(soup, 'p', '', 'a', '', True, slice(1, 5, None), True)\n",
    "\n",
    "\n",
    "df_dict = {'Title': titles, 'Relase': release, 'Audience Rating': audience_rating,\n",
    "           'Runtime': runtime, 'Genre': genre, 'IMDB Rating': imdb_rating,\n",
    "           'Votes': votes, 'Box Office Earnings': earnings, 'Director': directors,\n",
    "           'Actors': actors}\n",
    "df = pd.DataFrame(df_dict)\n",
    "df"
   ]
  },
  {
   "cell_type": "markdown",
   "metadata": {},
   "source": [
    "### Third [example](https://medium.com/the-andela-way/learn-how-to-scrape-the-web-2a7cc488e017)"
   ]
  },
  {
   "cell_type": "markdown",
   "metadata": {},
   "source": [
    "Getting the website topics\n",
    "\n",
    "The Daily Nation website has a number of topics such as news, counties, sports, photos, videos and business among others. We need to extract them from the html plus their accompanying urls.\n",
    "\n",
    "Before we start writing the code, we need to first examine the html so that we understand where the data we need is located and how we can get it. Below is an image snippet of the navbar of the website containing the topics. You can also right click anywhere on the navbar and then click inspect and the html will appear in the developer tools section on Chrome."
   ]
  },
  {
   "cell_type": "code",
   "execution_count": 16,
   "metadata": {},
   "outputs": [],
   "source": [
    "class DailyNation:\n",
    "    BASE_URL = 'https://www.nation.co.ke'\n",
    "\n",
    "    @staticmethod\n",
    "    def get_html(url):\n",
    "        \"\"\"\n",
    "        Get the Daily Nation html\n",
    "        :return:\n",
    "        \"\"\"\n",
    "        daily_nation = requests.get(url)\n",
    "        html = BeautifulSoup(daily_nation.text, 'html.parser')\n",
    "        return html\n",
    "\n",
    "    @staticmethod\n",
    "    def get_topics_lis():\n",
    "        \"\"\"\n",
    "        Get all the lis in the nav bar\n",
    "        :return:\n",
    "        \"\"\"\n",
    "        html = DailyNation.get_html(DailyNation.BASE_URL)\n",
    "        if html:\n",
    "            nav = html.find('nav', class_='container')\n",
    "            topics_ul = nav.find_all('ul')[1]\n",
    "            return topics_ul.find_all('li')\n",
    "        return None\n",
    "\n",
    "    @staticmethod\n",
    "    def get_topics():\n",
    "        \"\"\"\n",
    "        Get all topics in the nav bar\n",
    "        :return: list\n",
    "        \"\"\"\n",
    "        lis = DailyNation.get_topics_lis()\n",
    "        topics = []\n",
    "        for li in lis:\n",
    "            topics.append(li.find('a').text.lower())\n",
    "        return topics\n",
    "    \n",
    "    @staticmethod\n",
    "    def get_topic_info(topic):\n",
    "        \"\"\"\n",
    "        Get content for a given topic\n",
    "        :param topic:\n",
    "        :return:\n",
    "        \"\"\"\n",
    "        topic_url = DailyNation.BASE_URL + DailyNation.get_topics_url()[topic.lower()]\n",
    "        html = DailyNation.get_html(topic_url)\n",
    "        if html:\n",
    "            stories = []\n",
    "            div_content = html.find('div', class_='five-eight column')\n",
    "            stories_div = div_content.find_all('div', class_='story-teaser')\n",
    "            for div in stories_div:\n",
    "                story = {\n",
    "                    'title': div.find('a').text, 'summary': div.find('p').text,\n",
    "                    'story_url': div.find('a').get('href'),\n",
    "                    'published_at': div.find('h6').text\n",
    "                }\n",
    "                if div.find('img'):\n",
    "                    story['image_url'] = DailyNation.BASE_URL + div.find('img').get('src')\n",
    "                story['image_url'] = ''\n",
    "                stories.append(story)\n",
    "            return stories\n",
    "        \n",
    "    @staticmethod\n",
    "    def get_topics_url():\n",
    "        \"\"\"\n",
    "        Get all topics in the nav bar with their corresponding urls\n",
    "        :return:\n",
    "        \"\"\"\n",
    "        lis = DailyNation.get_topics_lis()\n",
    "        topics_with_url = {}\n",
    "        for li in lis:\n",
    "            topics_with_url[li.find('a').text.lower()] = li.find('a').get('href')\n",
    "        return topics_with_url\n",
    "    \n",
    "    @staticmethod\n",
    "    def get_photos(topic):\n",
    "        \"\"\"\n",
    "        Get all the images in the photos section\n",
    "        :param topic:\n",
    "        :return:\n",
    "        \"\"\"\n",
    "        if topic != 'photos':\n",
    "            raise ValueError('Topic should be photos')\n",
    "        topic_url = DailyNation.BASE_URL + DailyNation.get_topics_url()[topic.lower()]\n",
    "        html = DailyNation.get_html(topic_url)\n",
    "        if html:\n",
    "            images = {}\n",
    "            images_list_div = html.find('div', class_='cb-content videolist')\n",
    "            images_topics = images_list_div.find_all('div', class_='vh-caption')\n",
    "            images_caption_headings = []\n",
    "            for caption_div in images_topics:\n",
    "                images_caption_headings.append(DailyNation.clean_string(caption_div.find('h3').text))\n",
    "            image_rows_divs = images_list_div.find_all('div', class_='row')\n",
    "            images_caption_headings_count = 0\n",
    "            for images_item_div in image_rows_divs:\n",
    "                trs = images_item_div.find('table').find_all('tr')\n",
    "                items = []\n",
    "                for tr in trs:\n",
    "                    tds = tr.find_all('td')\n",
    "                    for td in tds:\n",
    "                        items.append({\n",
    "                            'caption': td.find('div', class_='v-desc').find('a').text,\n",
    "                            'image_url': DailyNation.BASE_URL + td.find('div', class_='v-img').find('img').get('src'),\n",
    "                            'story_url': DailyNation.BASE_URL + td.find('div', class_='v-img').find('a').get('href')\n",
    "                        })\n",
    "                images[images_caption_headings[images_caption_headings_count]] = items\n",
    "                images_caption_headings_count += 1\n",
    "            return images\n",
    "        \n",
    "    @staticmethod\n",
    "    def clean_string(string):\n",
    "        new_string = string.replace('&nbsp', '')\n",
    "        return new_string.replace(';', '')\n",
    "    \n",
    "    @staticmethod\n",
    "    def get_videos(topic):\n",
    "        \"\"\"\n",
    "        Get all the videos in the photos section\n",
    "        :param topic:\n",
    "        :return:\n",
    "        \"\"\"\n",
    "        if topic != 'videos':\n",
    "            raise ValueError('Topic should be videos')\n",
    "        topic_url = DailyNation.BASE_URL + DailyNation.get_topics_url()[topic.lower()]\n",
    "        html = DailyNation.get_html(topic_url)\n",
    "        if html:\n",
    "            videos = {}\n",
    "            videos_list_div = html.find('div', class_='cb-content videolist')\n",
    "            videos_topics = videos_list_div.find_all('div', class_='vh-caption')\n",
    "            videos_caption_headings = []\n",
    "            for caption_div in videos_topics:\n",
    "                videos_caption_headings.append(DailyNation.clean_string(caption_div.find('h3').text))\n",
    "            video_rows_divs = videos_list_div.find_all('div', class_='row')\n",
    "            videos_caption_headings_count = 0\n",
    "            for videos_item_div in video_rows_divs:\n",
    "                trs = videos_item_div.find('table').find_all('tr')\n",
    "                items = []\n",
    "                for tr in trs:\n",
    "                    tds = tr.find_all('td')\n",
    "                    for td in tds:\n",
    "                        items.append({\n",
    "                            'caption': td.find('div', class_='v-desc').text,\n",
    "                            'image_url': td.find('div', class_='v-img').find('img').get('src'),\n",
    "                            'story_url': DailyNation.BASE_URL + td.find(\n",
    "                                'div',\n",
    "                                class_='col-lg-3 col-xs-12 col-sm-6 videoitem'\n",
    "                            ).find('a').get('href')\n",
    "                        })\n",
    "                videos[vi\n",
    "                videos_caption_headings_count += 1\n",
    "            return videos\n",
    "                       \n",
    "    @staticmethod\n",
    "    def get_data(topic):\n",
    "        \"\"\"\n",
    "        Get topic information based on the topic provided.\n",
    "        :param topic:\n",
    "        :return:\n",
    "        \"\"\"\n",
    "        _topic = topic.lower()\n",
    "        if _topic not in DailyNation.get_topics():\n",
    "            raise ValueError('Topic does not exist')\n",
    "\n",
    "        if _topic == 'photos':\n",
    "            return DailyNation.get_photos(_topic)\n",
    "\n",
    "        if _topic == 'videos':\n",
    "            return DailyNation.get_videos(_topic)\n",
    "\n",
    "        return DailyNation.get_topic_info(_topic)"
   ]
  },
  {
   "cell_type": "code",
   "execution_count": null,
   "metadata": {},
   "outputs": [],
   "source": []
  }
 ],
 "metadata": {
  "kernelspec": {
   "display_name": "Python 3",
   "language": "python",
   "name": "python3"
  },
  "language_info": {
   "codemirror_mode": {
    "name": "ipython",
    "version": 3
   },
   "file_extension": ".py",
   "mimetype": "text/x-python",
   "name": "python",
   "nbconvert_exporter": "python",
   "pygments_lexer": "ipython3",
   "version": "3.6.8"
  }
 },
 "nbformat": 4,
 "nbformat_minor": 4
}

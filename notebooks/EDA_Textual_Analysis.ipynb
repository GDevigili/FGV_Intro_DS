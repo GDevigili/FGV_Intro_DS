{
 "cells": [
  {
   "cell_type": "markdown",
   "metadata": {},
   "source": [
    "## Introduction to Data Science\n",
    "\n",
    "### Exploratory Data Analysis for Natural Language Processing: \n",
    "#### A Complete Guide to Python Tools "
   ]
  },
  {
   "cell_type": "code",
   "execution_count": 1,
   "metadata": {},
   "outputs": [
    {
     "name": "stderr",
     "output_type": "stream",
     "text": [
      "/usr/local/lib/python3.6/dist-packages/statsmodels/tools/_testing.py:19: FutureWarning: pandas.util.testing is deprecated. Use the functions in the public API at pandas.testing instead.\n",
      "  import pandas.util.testing as tm\n"
     ]
    }
   ],
   "source": [
    "import os\n",
    "import pathlib\n",
    "import time\n",
    "import codecs\n",
    "import string\n",
    "import re\n",
    "from collections import Counter\n",
    "from collections import defaultdict\n",
    "\n",
    "import urllib\n",
    "import requests\n",
    "from bs4 import BeautifulSoup\n",
    "\n",
    "import pandas as pd\n",
    "import numpy as np\n",
    "import matplotlib.pyplot as plt\n",
    "import seaborn as sns\n",
    "\n",
    "import nltk\n",
    "import networkx as nx\n",
    "import gensim\n",
    "from wordcloud import WordCloud\n",
    "import textract\n",
    "import pyLDAvis\n",
    "import spacy\n",
    "import textstat\n",
    "import textblob\n",
    "\n",
    "from IPython.core.display import Image\n",
    "%matplotlib inline"
   ]
  },
  {
   "cell_type": "markdown",
   "metadata": {},
   "source": [
    "Specifying the path to the files"
   ]
  },
  {
   "cell_type": "code",
   "execution_count": 2,
   "metadata": {},
   "outputs": [],
   "source": [
    "datapath = pathlib.Path(\"../datasets/\")\n",
    "outputs = pathlib.Path(\"../outputs/\")\n",
    "\n",
    "oplexicon = 'Oplexicon_v3.0/lexico_v3.0.txt'"
   ]
  },
  {
   "cell_type": "markdown",
   "metadata": {},
   "source": [
    "Examinando os arquivos e pastas:"
   ]
  },
  {
   "cell_type": "code",
   "execution_count": 3,
   "metadata": {},
   "outputs": [
    {
     "data": {
      "text/plain": [
       "['Names',\n",
       " 'Figs',\n",
       " 'Oplexicon_v3.0',\n",
       " 'CSVs',\n",
       " 'Word2vec',\n",
       " 'Kaggle',\n",
       " 'Miscellaneous',\n",
       " 'AVidhya',\n",
       " 'Texts']"
      ]
     },
     "execution_count": 3,
     "metadata": {},
     "output_type": "execute_result"
    }
   ],
   "source": [
    "onlydirs = [f for f in os.listdir(datapath) if os.path.isdir(os.path.join(datapath,f)) and not f.startswith('.')]\n",
    "onlydirs"
   ]
  },
  {
   "cell_type": "code",
   "execution_count": 4,
   "metadata": {},
   "outputs": [
    {
     "name": "stdout",
     "output_type": "stream",
     "text": [
      "Files in the folder:\n",
      "1 -- RobertFrost_Poetry.pdf\n",
      "2 -- AldousHuxley_bravenewworld.pdf\n",
      "3 -- MarcelProust_EmBuscadoTempoPerdido.pdf\n",
      "4 -- ARTIGOS-RBE-COM-RESUMO.xlsx\n"
     ]
    }
   ],
   "source": [
    "corpuspath = datapath / 'Texts'\n",
    "onlyfiles = [f for f in os.listdir(corpuspath) if os.path.isfile(os.path.join(corpuspath,f)) and not f.startswith('.')]\n",
    "onlydirs.sort()\n",
    "\n",
    "print('Files in the folder:')\n",
    "for i, w in enumerate(onlyfiles[0:]):\n",
    "    print(i+1, '--' ,w)"
   ]
  },
  {
   "cell_type": "markdown",
   "metadata": {},
   "source": [
    "## Example 1"
   ]
  },
  {
   "cell_type": "markdown",
   "metadata": {},
   "source": [
    "Loading first corpus:"
   ]
  },
  {
   "cell_type": "code",
   "execution_count": 5,
   "metadata": {},
   "outputs": [
    {
     "data": {
      "text/html": [
       "<div>\n",
       "<style scoped>\n",
       "    .dataframe tbody tr th:only-of-type {\n",
       "        vertical-align: middle;\n",
       "    }\n",
       "\n",
       "    .dataframe tbody tr th {\n",
       "        vertical-align: top;\n",
       "    }\n",
       "\n",
       "    .dataframe thead th {\n",
       "        text-align: right;\n",
       "    }\n",
       "</style>\n",
       "<table border=\"1\" class=\"dataframe\">\n",
       "  <thead>\n",
       "    <tr style=\"text-align: right;\">\n",
       "      <th></th>\n",
       "      <th>N</th>\n",
       "      <th>Revista</th>\n",
       "      <th>Título do artigo</th>\n",
       "      <th>Resumo</th>\n",
       "      <th>Volume</th>\n",
       "      <th>Número</th>\n",
       "      <th>Ano</th>\n",
       "      <th>Autores</th>\n",
       "      <th>Nº de Autores</th>\n",
       "      <th>URL</th>\n",
       "    </tr>\n",
       "  </thead>\n",
       "  <tbody>\n",
       "    <tr>\n",
       "      <th>0</th>\n",
       "      <td>1</td>\n",
       "      <td>Revista Brasileira de Economia</td>\n",
       "      <td>Miséria ou Abundância: Alguns Modelos de Cresc...</td>\n",
       "      <td>NaN</td>\n",
       "      <td>20</td>\n",
       "      <td>1</td>\n",
       "      <td>1966</td>\n",
       "      <td>Kingston, Lúcia Silva</td>\n",
       "      <td>1</td>\n",
       "      <td>http://bibliotecadigital.fgv.br/ojs/index.php/...</td>\n",
       "    </tr>\n",
       "    <tr>\n",
       "      <th>1</th>\n",
       "      <td>2</td>\n",
       "      <td>Revista Brasileira de Economia</td>\n",
       "      <td>Comentário sobre o Modelo Econométrico de Tint...</td>\n",
       "      <td>NaN</td>\n",
       "      <td>25</td>\n",
       "      <td>1</td>\n",
       "      <td>1971</td>\n",
       "      <td>Fioravante, Moacyr;Naylor, Thomas H.;Monteiro,...</td>\n",
       "      <td>3</td>\n",
       "      <td>http://bibliotecadigital.fgv.br/ojs/index.php/...</td>\n",
       "    </tr>\n",
       "    <tr>\n",
       "      <th>2</th>\n",
       "      <td>3</td>\n",
       "      <td>Revista Brasileira de Economia</td>\n",
       "      <td>Modernização e desigualdade na agricultura bra...</td>\n",
       "      <td>NaN</td>\n",
       "      <td>43</td>\n",
       "      <td>2</td>\n",
       "      <td>1989</td>\n",
       "      <td>Hoffmann, Rodolfo;Kassouf, Ana Lúcia</td>\n",
       "      <td>2</td>\n",
       "      <td>http://bibliotecadigital.fgv.br/ojs/index.php/...</td>\n",
       "    </tr>\n",
       "    <tr>\n",
       "      <th>3</th>\n",
       "      <td>4</td>\n",
       "      <td>Revista Brasileira de Economia</td>\n",
       "      <td>Optimal Insider Strategy with Law Penalties</td>\n",
       "      <td>We study the optimal continuous trading strate...</td>\n",
       "      <td>70</td>\n",
       "      <td>1</td>\n",
       "      <td>2016</td>\n",
       "      <td>Fajardo, Jose</td>\n",
       "      <td>1</td>\n",
       "      <td>http://bibliotecadigital.fgv.br/ojs/index.php/...</td>\n",
       "    </tr>\n",
       "    <tr>\n",
       "      <th>4</th>\n",
       "      <td>5</td>\n",
       "      <td>Revista Brasileira de Economia</td>\n",
       "      <td>Demands for Short-Run Assets and Liabilities i...</td>\n",
       "      <td>NaN</td>\n",
       "      <td>60</td>\n",
       "      <td>1</td>\n",
       "      <td>2006</td>\n",
       "      <td>Silva, Evandro;Resende, Marcelo</td>\n",
       "      <td>2</td>\n",
       "      <td>http://bibliotecadigital.fgv.br/ojs/index.php/...</td>\n",
       "    </tr>\n",
       "  </tbody>\n",
       "</table>\n",
       "</div>"
      ],
      "text/plain": [
       "   N                         Revista  \\\n",
       "0  1  Revista Brasileira de Economia   \n",
       "1  2  Revista Brasileira de Economia   \n",
       "2  3  Revista Brasileira de Economia   \n",
       "3  4  Revista Brasileira de Economia   \n",
       "4  5  Revista Brasileira de Economia   \n",
       "\n",
       "                                    Título do artigo  \\\n",
       "0  Miséria ou Abundância: Alguns Modelos de Cresc...   \n",
       "1  Comentário sobre o Modelo Econométrico de Tint...   \n",
       "2  Modernização e desigualdade na agricultura bra...   \n",
       "3        Optimal Insider Strategy with Law Penalties   \n",
       "4  Demands for Short-Run Assets and Liabilities i...   \n",
       "\n",
       "                                              Resumo  Volume Número   Ano  \\\n",
       "0                                                NaN      20      1  1966   \n",
       "1                                                NaN      25      1  1971   \n",
       "2                                                NaN      43      2  1989   \n",
       "3  We study the optimal continuous trading strate...      70      1  2016   \n",
       "4                                                NaN      60      1  2006   \n",
       "\n",
       "                                             Autores  Nº de Autores  \\\n",
       "0                              Kingston, Lúcia Silva              1   \n",
       "1  Fioravante, Moacyr;Naylor, Thomas H.;Monteiro,...              3   \n",
       "2               Hoffmann, Rodolfo;Kassouf, Ana Lúcia              2   \n",
       "3                                      Fajardo, Jose              1   \n",
       "4                    Silva, Evandro;Resende, Marcelo              2   \n",
       "\n",
       "                                                 URL  \n",
       "0  http://bibliotecadigital.fgv.br/ojs/index.php/...  \n",
       "1  http://bibliotecadigital.fgv.br/ojs/index.php/...  \n",
       "2  http://bibliotecadigital.fgv.br/ojs/index.php/...  \n",
       "3  http://bibliotecadigital.fgv.br/ojs/index.php/...  \n",
       "4  http://bibliotecadigital.fgv.br/ojs/index.php/...  "
      ]
     },
     "execution_count": 5,
     "metadata": {},
     "output_type": "execute_result"
    }
   ],
   "source": [
    "df = pd.read_excel(os.path.join(corpuspath, 'ARTIGOS-RBE-COM-RESUMO.xlsx'))\n",
    "df.head()"
   ]
  },
  {
   "cell_type": "code",
   "execution_count": 6,
   "metadata": {},
   "outputs": [
    {
     "data": {
      "text/plain": [
       "Index(['N', 'Revista', 'Título do artigo', 'Resumo', 'Volume', 'Número', 'Ano',\n",
       "       'Autores', 'Nº de Autores', 'URL'],\n",
       "      dtype='object')"
      ]
     },
     "execution_count": 6,
     "metadata": {},
     "output_type": "execute_result"
    }
   ],
   "source": [
    "df.columns"
   ]
  },
  {
   "cell_type": "code",
   "execution_count": 7,
   "metadata": {},
   "outputs": [
    {
     "name": "stdout",
     "output_type": "stream",
     "text": [
      "<class 'pandas.core.frame.DataFrame'>\n",
      "RangeIndex: 1556 entries, 0 to 1555\n",
      "Data columns (total 10 columns):\n",
      " #   Column            Non-Null Count  Dtype \n",
      "---  ------            --------------  ----- \n",
      " 0   N                 1556 non-null   int64 \n",
      " 1   Revista           1556 non-null   object\n",
      " 2   Título do artigo  1556 non-null   object\n",
      " 3   Resumo            330 non-null    object\n",
      " 4   Volume            1556 non-null   int64 \n",
      " 5   Número            1556 non-null   object\n",
      " 6   Ano               1556 non-null   int64 \n",
      " 7   Autores           1556 non-null   object\n",
      " 8   Nº de Autores     1556 non-null   int64 \n",
      " 9   URL               1556 non-null   object\n",
      "dtypes: int64(4), object(6)\n",
      "memory usage: 121.7+ KB\n"
     ]
    }
   ],
   "source": [
    "df.info()"
   ]
  },
  {
   "cell_type": "code",
   "execution_count": 8,
   "metadata": {},
   "outputs": [
    {
     "data": {
      "text/plain": [
       "'Miséria ou Abundância: Alguns Modelos de Crescimento para Economias Subdesenvolvidas Comentário sobre o Modelo Econométrico de Tinther, para o Brasil Modernização e desigualdade na agricultura brasileira Optimal Insider Strategy with Law Penalties Demands for Short-Run Assets and Liabilities in Brazil: a Portfolio Approach Alguns Reparos sobre a Teoria do Multiplicador INTRODUÇÃO: ORIGENS HISTÓRICAS DO SUBDESENVOLVIMENTO CONTEMPORÂNEO Princípios para a reformulação da política comercial brasileira A reforma da economia socialista: lições dos primeiros três anos Intensidades fatoriais na economia brasileira: novo teste empírico do teorema de Heckscher-Ohlin Algumas Considerações sobre as Fases do Desenvolvimento Econõmico Poupança e crescimento econômico Padrões de Convergência e Divergência do Crescimento Econômico Regional e das Migrações no Brasil - 1940-1960 Octavio Gouveia de Bulhões - Orientação e Controle da Economia The Economic Theory of Regulation: the Case of Agrarian Reform '"
      ]
     },
     "execution_count": 8,
     "metadata": {},
     "output_type": "execute_result"
    }
   ],
   "source": [
    "df['text'] = df['Título do artigo'] + \" \"\n",
    "texts = df['text'].sum()\n",
    "texts[0:1000]"
   ]
  },
  {
   "cell_type": "code",
   "execution_count": 9,
   "metadata": {},
   "outputs": [],
   "source": [
    "stop_pt = nltk.corpus.stopwords.words('portuguese')\n",
    "stop_en = nltk.corpus.stopwords.words('english')\n",
    "stopwords = stop_en + stop_pt\n",
    "stopwords.extend(['-',''])"
   ]
  },
  {
   "cell_type": "code",
   "execution_count": 10,
   "metadata": {},
   "outputs": [
    {
     "data": {
      "text/plain": [
       "[('brasil', 271),\n",
       " ('sobre', 141),\n",
       " ('brasileira', 96),\n",
       " ('desenvolvimento', 96),\n",
       " ('política', 87),\n",
       " ('economia', 87),\n",
       " ('econômico', 85),\n",
       " ('análise', 82),\n",
       " ('inflação', 74),\n",
       " ('brazil', 66),\n",
       " ('econômica', 59),\n",
       " ('modelo', 53),\n",
       " ('renda', 50),\n",
       " ('preços', 50),\n",
       " ('monetária', 50),\n",
       " ('crescimento', 49),\n",
       " ('teoria', 48),\n",
       " ('brasileiro', 48),\n",
       " ('brazilian', 46),\n",
       " ('mercado', 44)]"
      ]
     },
     "execution_count": 10,
     "metadata": {},
     "output_type": "execute_result"
    }
   ],
   "source": [
    "list_words = texts.split()\n",
    "list_words = [l.strip().lower() for l in list_words]\n",
    "list_words = [l.strip(string.punctuation) for l in list_words]\n",
    "list_words = [l for l in list_words if l not in stopwords]\n",
    "\n",
    "freqdist = Counter(list_words)\n",
    "freqdist.most_common(20)"
   ]
  },
  {
   "cell_type": "code",
   "execution_count": 11,
   "metadata": {},
   "outputs": [],
   "source": [
    "cleaned = ' '.join(list_words)\n",
    "wordcloud = WordCloud().generate(cleaned)"
   ]
  },
  {
   "cell_type": "code",
   "execution_count": 12,
   "metadata": {},
   "outputs": [
    {
     "data": {
      "image/png": "[encoded data removed]",
      "text/plain": [
       "<Figure size 720x720 with 1 Axes>"
      ]
     },
     "metadata": {},
     "output_type": "display_data"
    }
   ],
   "source": [
    "fig, ax = plt.subplots(figsize=(10, 10))\n",
    "ax.imshow(wordcloud, interpolation='nearest')\n",
    "plt.tight_layout()"
   ]
  },
  {
   "cell_type": "code",
   "execution_count": 13,
   "metadata": {},
   "outputs": [
    {
     "data": {
      "image/png": "[encoded data removed]",
      "text/plain": [
       "<Figure size 720x720 with 1 Axes>"
      ]
     },
     "metadata": {},
     "output_type": "display_data"
    }
   ],
   "source": [
    "# lower max_font_size\n",
    "wordcloud = WordCloud(max_font_size=40).generate(cleaned)\n",
    "plt.figure(figsize=(10, 10))\n",
    "plt.imshow(wordcloud, interpolation=\"bilinear\")\n",
    "plt.axis(\"off\")\n",
    "plt.show()"
   ]
  },
  {
   "cell_type": "code",
   "execution_count": 14,
   "metadata": {},
   "outputs": [],
   "source": [
    "# The pil way (if you don't have matplotlib)\n",
    "image = wordcloud.to_image()\n",
    "image.show()"
   ]
  },
  {
   "cell_type": "markdown",
   "metadata": {},
   "source": [
    "## Example 2"
   ]
  },
  {
   "cell_type": "code",
   "execution_count": 15,
   "metadata": {},
   "outputs": [
    {
     "name": "stdout",
     "output_type": "stream",
     "text": [
      "Files in the folder:\n",
      "1 -- RobertFrost_Poetry.pdf\n",
      "2 -- AldousHuxley_bravenewworld.pdf\n",
      "3 -- MarcelProust_EmBuscadoTempoPerdido.pdf\n",
      "4 -- ARTIGOS-RBE-COM-RESUMO.xlsx\n"
     ]
    }
   ],
   "source": [
    "print('Files in the folder:')\n",
    "for i, w in enumerate(onlyfiles[0:]):\n",
    "    print(i+1, '--' ,w)"
   ]
  },
  {
   "cell_type": "code",
   "execution_count": 16,
   "metadata": {},
   "outputs": [
    {
     "name": "stdout",
     "output_type": "stream",
     "text": [
      "\n",
      "Texto:\n",
      " Classic Poetry Series\n",
      "\n",
      "Robert Frost\n",
      "- poems -\n",
      "\n",
      "Pub\n",
      "\n",
      "Texto:\n",
      " Brave New World\n",
      "Aldous Leonard Huxley\n",
      "February 6, \n",
      "\n",
      "Texto:\n",
      " MARCEL PROUST\n",
      "EM BUSCA DO TEMPO PERDIDO\n",
      "\n",
      "EM BUSCA \n"
     ]
    }
   ],
   "source": [
    "raw_texts = ''\n",
    "for filename in [f for f in onlyfiles if f.endswith('pdf')]:\n",
    "    text = textract.process(os.path.join(corpuspath,filename)).decode('utf-8')\n",
    "    print('\\nTexto:\\n', text[0:50])\n",
    "    raw_texts += '\\n'+ text"
   ]
  },
  {
   "cell_type": "code",
   "execution_count": 17,
   "metadata": {},
   "outputs": [
    {
     "name": "stdout",
     "output_type": "stream",
     "text": [
      "7342550\n"
     ]
    }
   ],
   "source": [
    "print(len(raw_texts))"
   ]
  },
  {
   "cell_type": "markdown",
   "metadata": {},
   "source": [
    "Cleaning and homogenizing texts:"
   ]
  },
  {
   "cell_type": "code",
   "execution_count": 18,
   "metadata": {},
   "outputs": [],
   "source": [
    "cleaned_texts = raw_texts.lower()\n",
    "cleaned_texts = re.sub(' +',' ', cleaned_texts) #Remove multiple spaces\n",
    "cleaned_texts = re.sub(r'\\n\\s*\\n', '\\n', cleaned_texts)"
   ]
  },
  {
   "cell_type": "code",
   "execution_count": 19,
   "metadata": {},
   "outputs": [
    {
     "name": "stdout",
     "output_type": "stream",
     "text": [
      "7339946\n"
     ]
    }
   ],
   "source": [
    "print(len(cleaned_texts))"
   ]
  },
  {
   "cell_type": "code",
   "execution_count": 20,
   "metadata": {},
   "outputs": [
    {
     "name": "stdout",
     "output_type": "stream",
     "text": [
      "\n",
      "classic poetry series\n",
      "robert frost\n",
      "- poems -\n",
      "publication date:\n",
      "2004\n",
      "publisher:\n",
      "poemhunter.com - the world's poetry archive\n",
      "\f",
      "\"in white\": frost's early version of design\n",
      "a dented spider like a snow dro\n"
     ]
    }
   ],
   "source": [
    "print(cleaned_texts[0:200])"
   ]
  },
  {
   "cell_type": "code",
   "execution_count": 21,
   "metadata": {},
   "outputs": [
    {
     "data": {
      "text/plain": [
       "[('é', 6892),\n",
       " ('tão', 3050),\n",
       " ('sra', 3014),\n",
       " ('bem', 2740),\n",
       " ('pois', 2667),\n",
       " ('sr', 2536),\n",
       " ('albertine', 2402),\n",
       " ('ainda', 2276),\n",
       " ('ser', 2211),\n",
       " ('tempo', 2209),\n",
       " ('mim', 2148),\n",
       " ('ter', 2045),\n",
       " ('casa', 2018),\n",
       " ('onde', 1960),\n",
       " ('havia', 1871),\n",
       " ('vida', 1771),\n",
       " ('swann', 1766),\n",
       " ('guermantes', 1729),\n",
       " ('assim', 1689),\n",
       " ('menos', 1688)]"
      ]
     },
     "execution_count": 21,
     "metadata": {},
     "output_type": "execute_result"
    }
   ],
   "source": [
    "list_words = cleaned_texts.split()\n",
    "list_words = [l.strip().lower() for l in list_words]\n",
    "list_words = [l.strip(string.punctuation) for l in list_words]\n",
    "list_words = [l for l in list_words if l not in stopwords]\n",
    "\n",
    "freqdist = Counter(list_words)\n",
    "freqdist.most_common(20)"
   ]
  },
  {
   "cell_type": "markdown",
   "metadata": {},
   "source": [
    "Finding ocurrences of an expression:"
   ]
  },
  {
   "cell_type": "code",
   "execution_count": 22,
   "metadata": {},
   "outputs": [
    {
     "name": "stdout",
     "output_type": "stream",
     "text": [
      "The expression is found 64 times\n"
     ]
    }
   ],
   "source": [
    "expression = 'life'\n",
    "pos = 0 \n",
    "positions = []\n",
    "while pos != -1:\n",
    "    position = cleaned_texts.find(expression,pos+1)\n",
    "    pos = position\n",
    "    positions.append(position)\n",
    "positions.pop()\n",
    "print('The expression is found {} times'.format(len(positions)))"
   ]
  },
  {
   "cell_type": "markdown",
   "metadata": {},
   "source": [
    "Understanding contexts in which words occur:"
   ]
  },
  {
   "cell_type": "code",
   "execution_count": 23,
   "metadata": {},
   "outputs": [
    {
     "name": "stdout",
     "output_type": "stream",
     "text": [
      "e piece of lifeless satin\n",
      "her young life to his.\n",
      "th\n",
      "was in my life alone,\n",
      "wor\n",
      "tions,\n",
      "and life is too muc\n",
      "ay back to life\n",
      "and living\n",
      "e piece of lifeless satin\n",
      "l.\n",
      "late in life i have com\n",
      "n with our life,\n",
      "and look\n",
      "o keep\n",
      "the life from spill\n",
      "o keep\n",
      "the life from spill\n"
     ]
    }
   ],
   "source": [
    "# Pure Python\n",
    "window = 11\n",
    "for position in positions[0:10]:\n",
    "    print(cleaned_texts[position - window:position + window + len(expression)].strip())"
   ]
  },
  {
   "cell_type": "code",
   "execution_count": 24,
   "metadata": {},
   "outputs": [
    {
     "name": "stdout",
     "output_type": "stream",
     "text": [
      "Displaying 20 of 50 matches:\n",
      " take care of such a creature , and accommodate her young life to his . that was what marrying father meant to her . she\n",
      " alone somehow must have gotten abroad , word i was in my life alone , word i had no one left but god . robert frost www\n",
      "k to be . it ' s when i ' m weary of considerations , and life is too much like a pathless wood where your face burns an\n",
      "minds are turned and making the best of their way back to life and living people , and things they understand . but the \n",
      "om so small they might as well have none at all . late in life i have come on fern . now lichens are due to have their t\n",
      "no harm is done . we may as well go patiently on with our life , and look elsewhere than to stars and moon and sun for t\n",
      "g up the hand half in appeal , but half as if to keep the life from spilling . then the boy saw all since he was old eno\n",
      "g up the hand half in appeal , but half as if to keep the life from spilling . then the boy saw all - since he was old e\n",
      "to pink between the teeth . i told him this is a pleasant life to set your breast to the bark of trees that all your day\n",
      "nter . com - the world ' s poetry archive 112 the span of life the old dog barks backwards without getting up . i can re\n",
      " brought of you , i might not have the chance i missed in life through some delay , and call you to your face first sold\n",
      " brought of you , i might not have the chance i missed in life through some delay , and call you to your face first sold\n",
      "' why don ' t you make some motion ? or give some sign of life ? because you can ' t . i doubt if you ' re as living as \n",
      "hit fell splinterless as a cloven rock . the blows that a life of self - control spares to strike for the common good , \n",
      " poised aloft , the grip of earth on outspread feet , the life of muscles rocking soft www . poemhunter . com - the worl\n",
      "he child ’ s mind only . the adult ’ s mind too - all his life long . the mind that judges and desires and decides - mad\n",
      "ole , a midden , hot with the frictions of tightly packed life , reeking with emotion . what suffocating intimacies , wh\n",
      " been the first to reveal the appalling dangers of family life . the world was full of fathers - was therefore full of m\n",
      "tured . people said of him that he could have got through life without ever touching soma . the malice and bad tempers f\n",
      "ite suburbs . the green was maggoty with fore - shortened life . forests of centrifugal bumble - puppy towers gleamed be\n"
     ]
    }
   ],
   "source": [
    "# Using NLTK\n",
    "tknzr = nltk.tokenize.WordPunctTokenizer()\n",
    "tokens = tknzr.tokenize(cleaned_texts)\n",
    "nltk_text = nltk.Text(tokens)\n",
    "nltk_text.concordance(expression.lower(), width=120, lines=20)"
   ]
  },
  {
   "cell_type": "markdown",
   "metadata": {},
   "source": [
    "Words that occur in similar contexts than the query expression:"
   ]
  },
  {
   "cell_type": "code",
   "execution_count": 25,
   "metadata": {},
   "outputs": [
    {
     "name": "stdout",
     "output_type": "stream",
     "text": [
      "bed head course voice hand face room feet you say look man her friend\n",
      "eyes tone arms ears death do\n"
     ]
    }
   ],
   "source": [
    "nltk_text.similar(expression)"
   ]
  },
  {
   "cell_type": "markdown",
   "metadata": {},
   "source": [
    "[Collocations](http://en.wikipedia.org/wiki/Collocation) are expressions of multiple words which commonly co-occur.  \n",
    "http://www.nltk.org/howto/collocations.html  "
   ]
  },
  {
   "cell_type": "code",
   "execution_count": 26,
   "metadata": {},
   "outputs": [
    {
     "name": "stdout",
     "output_type": "stream",
     "text": [
      "saint loup; minha avó; muitas vezes; sra verdurin; sem dúvida; além disso; sra villeparisis; sra guermantes; poemhunter archive; poemhunter poetry; poetry archive; www archive; www poemhunter; www poetry; que não; poemhunter world; www world; world archive; world poetry; minha mãe\n"
     ]
    }
   ],
   "source": [
    "#nltk_text.collocations(num=10, window_size=20)\n",
    "print('; '.join(nltk_text.collocation_list(num=20, window_size=20)))  # bug https://github.com/nltk/nltk_book/issues/224"
   ]
  },
  {
   "cell_type": "markdown",
   "metadata": {},
   "source": [
    "Below we are using [Pointwise Mutual Information](http://en.wikipedia.org/wiki/Pointwise_mutual_information)."
   ]
  },
  {
   "cell_type": "code",
   "execution_count": 27,
   "metadata": {},
   "outputs": [
    {
     "name": "stdout",
     "output_type": "stream",
     "text": [
      "sarah bernhardt\n",
      "fernando py\n",
      "1 °\n",
      "george sand\n",
      "mustapha mond\n",
      "vossa senhoria\n",
      "victor hugo\n",
      "lanterna mágica\n",
      "synthetic music\n",
      "jesus cristo\n",
      "brave new\n",
      "du boulbon\n",
      "luís xiv\n",
      "século xix\n",
      "marcel proust\n",
      "helmholtz watson\n",
      "vossa alteza\n",
      "século xviii\n",
      "des laumes\n",
      "século xvii\n",
      "le champi\n",
      "françoís le\n",
      "frost www\n",
      "poetry archive\n",
      "greater being\n",
      "condessa molé\n",
      "henry foster\n",
      "etc .,\n",
      "rei teodósio\n",
      "reunião noturna\n"
     ]
    }
   ],
   "source": [
    "max_items = 30\n",
    "freq_min_b = 10\n",
    "bigram_measures = nltk.collocations.BigramAssocMeasures()\n",
    "finder2 = nltk.collocations.BigramCollocationFinder.from_words(nltk_text)\n",
    "finder2.apply_word_filter(lambda w: w in string.punctuation)\n",
    "finder2.apply_freq_filter(freq_min_b)\n",
    "for a, b in finder2.nbest(bigram_measures.pmi, max_items):\n",
    "    print(a, b)"
   ]
  },
  {
   "cell_type": "code",
   "execution_count": 28,
   "metadata": {},
   "outputs": [
    {
     "name": "stdout",
     "output_type": "stream",
     "text": [
      "que o\n",
      "o que\n",
      "que não\n",
      "que a\n",
      "de um\n",
      "em que\n",
      "de uma\n",
      "e que\n",
      "que eu\n",
      "que se\n",
      "de que\n",
      "a sra\n",
      "que ela\n",
      "o sr\n",
      "que me\n",
      "de guermantes\n",
      "que ele\n",
      "e a\n",
      "do que\n",
      "com a\n",
      "não se\n",
      "de charlus\n",
      "de sua\n",
      "com o\n",
      "o seu\n",
      "e o\n",
      "e de\n",
      "como se\n"
     ]
    }
   ],
   "source": [
    "for a, b in (finder2.above_score(bigram_measures.raw_freq, 1000.0 / len(list(nltk.bigrams(tokens))))):\n",
    "        print(a, b)"
   ]
  },
  {
   "cell_type": "code",
   "execution_count": 29,
   "metadata": {},
   "outputs": [
    {
     "name": "stdout",
     "output_type": "stream",
     "text": [
      "bel et bien\n",
      "des deux mondes\n",
      "revue des deux\n",
      "françoís le champi\n",
      "better than mending\n",
      "brave new world\n",
      "ending is better\n",
      "snarled and rattled\n",
      "shrugged his shoulders\n",
      "doutor du boulbon\n",
      "said mustapha mond\n",
      "half an hour\n",
      "robert frost www\n",
      "the assistant predestinator\n",
      "dia 1 °\n",
      "years ’ war\n",
      "s poetry archive\n",
      "encarregada das duchas\n",
      "três quartas partes\n",
      "trinta mil francos\n",
      "the deputy sub\n",
      "alameda das acácias\n",
      "nine years ’\n",
      "shook his head\n",
      "princesa des laumes\n",
      "príncipe des laumes\n",
      "belongs to every\n",
      "every one else\n",
      "crepe da china\n",
      "shook her head\n"
     ]
    }
   ],
   "source": [
    "max_items = 30\n",
    "freq_min_t = 6\n",
    "trigram_measures = nltk.collocations.TrigramAssocMeasures()\n",
    "finder3 = nltk.collocations.TrigramCollocationFinder.from_words(nltk_text)\n",
    "finder3.apply_word_filter(lambda w: w in string.punctuation)\n",
    "finder3.apply_ngram_filter(lambda w1, w2, w3:  w1 in ['da', 'de', 'das'])\n",
    "finder3.apply_freq_filter(freq_min_t)\n",
    "for a, b, c in finder3.nbest(trigram_measures.pmi, max_items):\n",
    "    print(a, b, c)"
   ]
  },
  {
   "cell_type": "code",
   "execution_count": 30,
   "metadata": {},
   "outputs": [
    {
     "name": "stdout",
     "output_type": "stream",
     "text": [
      "momento em que\n",
      "tudo o que\n",
      "uma espécie de\n",
      "que o sr\n",
      "que a sra\n",
      "ao mesmo tempo\n",
      "dia em que\n",
      "que eu não\n",
      "a impressão de\n",
      "a fim de\n",
      "que não se\n",
      "em vez de\n",
      "no momento em\n",
      "ao passo que\n",
      "em que a\n",
      "que ela não\n",
      "na casa da\n",
      "a idéia de\n",
      "duquesa de guermantes\n",
      "em todo caso\n",
      "todos os dias\n",
      "casa da sra\n",
      "que já não\n",
      "em que o\n",
      "em que eu\n",
      "em que se\n",
      "no dia seguinte\n",
      "o que me\n",
      "que o senhor\n",
      "por um instante\n",
      "idéia de que\n",
      "o que se\n",
      "ponto de vista\n",
      "mais do que\n",
      "mais ou menos\n",
      "o nome de\n",
      "e que não\n",
      "por outro lado\n",
      "o que eu\n",
      "pela primeira vez\n",
      "que ele não\n",
      "s poetry archive\n",
      "a princesa de\n",
      "as pessoas que\n",
      "que a gente\n",
      "cada vez que\n",
      "por um momento\n",
      "don ’ t\n",
      "em que ela\n",
      "que não me\n",
      "um pouco de\n",
      "é verdade que\n",
      "robert frost www\n",
      "a duquesa de\n",
      "a ponto de\n",
      "o que não\n",
      "o que é\n",
      "por muito tempo\n",
      "a não ser\n",
      "princesa de guermantes\n",
      "a um tempo\n",
      "que não é\n",
      "por mais que\n",
      "princesa de parma\n",
      "em sua casa\n",
      "que ela me\n"
     ]
    }
   ],
   "source": [
    "for a, b, c in finder3.above_score(trigram_measures.raw_freq,100.0 / len(list(nltk.trigrams(tokens)))):\n",
    "        print (a, b, c)"
   ]
  },
  {
   "cell_type": "code",
   "execution_count": 31,
   "metadata": {},
   "outputs": [
    {
     "data": {
      "text/plain": [
       "[(('o', 'sr', '.', 'de'), 1317),\n",
       " (('sr', '.', 'de', 'charlus'), 1081),\n",
       " (('a', 'sra', '.', 'de'), 936),\n",
       " (('sra', '.', 'de', 'guermantes'), 508),\n",
       " (('a', 'sra', '.', 'verdurin'), 430),\n",
       " (('da', 'sra', '.', 'de'), 392),\n",
       " (('sra', '.', 'de', 'villeparisis'), 332),\n",
       " (('do', 'sr', '.', 'de'), 307),\n",
       " (('.', 'de', 'charlus', ','), 305),\n",
       " (('que', 'o', 'sr', '.'), 270),\n",
       " (('que', 'a', 'sra', '.'), 266),\n",
       " ((',', 'a', 'sra', '.'), 249),\n",
       " ((',', 'o', 'sr', '.'), 248),\n",
       " (('de', 'saint', '-', 'loup'), 240),\n",
       " (('.', 'de', 'guermantes', ','), 235),\n",
       " (('sr', '.', 'de', 'norpois'), 228),\n",
       " (('no', 'momento', 'em', 'que'), 219),\n",
       " (('saint', '-', 'loup', ','), 217),\n",
       " (('sra', '.', 'verdurin', ','), 191),\n",
       " (('a', 'sra', '.', 'swann'), 188)]"
      ]
     },
     "execution_count": 31,
     "metadata": {},
     "output_type": "execute_result"
    }
   ],
   "source": [
    "from nltk.util import ngrams\n",
    "n = 4\n",
    "xgrams = ngrams(tokens, n)\n",
    "xgrams_counter = Counter(xgrams)\n",
    "xgrams_counter.most_common(20)"
   ]
  },
  {
   "cell_type": "code",
   "execution_count": 32,
   "metadata": {},
   "outputs": [
    {
     "data": {
      "image/png": "[encoded data removed]",
      "text/plain": [
       "<Figure size 1152x432 with 1 Axes>"
      ]
     },
     "metadata": {},
     "output_type": "display_data"
    }
   ],
   "source": [
    "dispersion_words = ['love', 'hate', 'world', 'day']\n",
    "plt.figure(figsize=(16,6))\n",
    "nltk_text.dispersion_plot(dispersion_words)"
   ]
  },
  {
   "cell_type": "markdown",
   "metadata": {},
   "source": [
    "Different ways to visualize frequent words:"
   ]
  },
  {
   "cell_type": "code",
   "execution_count": 33,
   "metadata": {},
   "outputs": [
    {
     "data": {
      "text/plain": [
       "[('é', 6892),\n",
       " ('tão', 3050),\n",
       " ('sra', 3014),\n",
       " ('bem', 2740),\n",
       " ('pois', 2667),\n",
       " ('sr', 2536),\n",
       " ('albertine', 2402),\n",
       " ('ainda', 2276),\n",
       " ('ser', 2211),\n",
       " ('tempo', 2209),\n",
       " ('mim', 2148),\n",
       " ('ter', 2045),\n",
       " ('casa', 2018),\n",
       " ('onde', 1960),\n",
       " ('havia', 1871),\n",
       " ('vida', 1771),\n",
       " ('swann', 1766),\n",
       " ('guermantes', 1729),\n",
       " ('assim', 1689),\n",
       " ('menos', 1688),\n",
       " ('sobre', 1670),\n",
       " ('vezes', 1650),\n",
       " ('dia', 1580),\n",
       " ('vez', 1549),\n",
       " ('talvez', 1479),\n",
       " ('todos', 1420),\n",
       " ('pouco', 1405),\n",
       " ('disse', 1403),\n",
       " ('pessoas', 1392),\n",
       " ('fazer', 1389),\n",
       " ('tanto', 1383),\n",
       " ('sempre', 1377),\n",
       " ('dizer', 1360),\n",
       " ('modo', 1347),\n",
       " ('nada', 1332),\n",
       " ('porque', 1312),\n",
       " ('então', 1307),\n",
       " ('tudo', 1296),\n",
       " ('charlus', 1243),\n",
       " ('momento', 1202),\n",
       " ('antes', 1168),\n",
       " ('outro', 1149),\n",
       " ('mulher', 1147),\n",
       " ('verdurin', 1145),\n",
       " ('apenas', 1139),\n",
       " ('todo', 1138),\n",
       " ('senhor', 1131),\n",
       " ('mesma', 1122),\n",
       " ('ver', 1120),\n",
       " ('quanto', 1078),\n",
       " ('olhos', 1065),\n",
       " ('grande', 1063),\n",
       " ('todas', 1047),\n",
       " ('agora', 994),\n",
       " ('diante', 991),\n",
       " ('outra', 968),\n",
       " ('coisa', 967),\n",
       " ('porém', 964),\n",
       " ('fazia', 951),\n",
       " ('tal', 950),\n",
       " ('podia', 949),\n",
       " ('aliás', 947),\n",
       " ('dizia', 921),\n",
       " ('outros', 907),\n",
       " ('nome', 900),\n",
       " ('poderia', 897),\n",
       " ('noite', 896),\n",
       " ('verdade', 893),\n",
       " ('coisas', 893),\n",
       " ('pessoa', 892),\n",
       " ('dias', 876),\n",
       " ('parte', 860),\n",
       " ('amor', 852),\n",
       " ('fato', 848),\n",
       " ('quase', 847),\n",
       " ('palavras', 838),\n",
       " ('logo', 835),\n",
       " ('caso', 832),\n",
       " ('prazer', 826),\n",
       " ('lado', 823),\n",
       " ('cada', 819),\n",
       " ('nunca', 815),\n",
       " ('quais', 811),\n",
       " ('parecia', 810),\n",
       " ('mal', 808),\n",
       " ('toda', 806),\n",
       " ('forma', 798),\n",
       " ('desde', 790),\n",
       " ('françoise', 788),\n",
       " ('duquesa', 785),\n",
       " ('homem', 773),\n",
       " ('balbec', 770),\n",
       " ('desse', 769),\n",
       " ('odette', 753),\n",
       " ('ir', 753),\n",
       " ('meio', 741),\n",
       " ('pode', 740),\n",
       " ('saint-loup', 725),\n",
       " ('alguma', 706),\n",
       " ('dar', 705)]"
      ]
     },
     "execution_count": 33,
     "metadata": {},
     "output_type": "execute_result"
    }
   ],
   "source": [
    "freqdist.most_common(100)"
   ]
  },
  {
   "cell_type": "code",
   "execution_count": 34,
   "metadata": {},
   "outputs": [
    {
     "data": {
      "image/png": "[encoded data removed]",
      "text/plain": [
       "<Figure size 1332x756 with 1 Axes>"
      ]
     },
     "metadata": {},
     "output_type": "display_data"
    }
   ],
   "source": [
    "labels, values = zip(*freqdist.most_common(30))\n",
    "\n",
    "indexes = np.arange(len(labels))\n",
    "width = 0.5\n",
    "\n",
    "plt.bar(indexes, values, width)\n",
    "fig = plt.gcf()\n",
    "fig.set_size_inches(18.5, 10.5)\n",
    "plt.xticks(indexes + width * 0.5, labels)\n",
    "plt.show()"
   ]
  },
  {
   "cell_type": "code",
   "execution_count": 35,
   "metadata": {},
   "outputs": [
    {
     "data": {
      "image/png": "[encoded data removed]",
      "text/plain": [
       "<Figure size 864x576 with 1 Axes>"
      ]
     },
     "metadata": {},
     "output_type": "display_data"
    }
   ],
   "source": [
    "fd_words = nltk.FreqDist(tokens)\n",
    "fig, axes = plt.subplots(nrows=1, ncols=1, figsize=(12,8)) \n",
    "fd_words.plot(30)"
   ]
  },
  {
   "cell_type": "markdown",
   "metadata": {},
   "source": [
    "Cumulative distribution of frequencies:"
   ]
  },
  {
   "cell_type": "code",
   "execution_count": 36,
   "metadata": {},
   "outputs": [
    {
     "data": {
      "image/png": "[encoded data removed]",
      "text/plain": [
       "<Figure size 864x576 with 1 Axes>"
      ]
     },
     "metadata": {},
     "output_type": "display_data"
    }
   ],
   "source": [
    "fig, axes = plt.subplots(nrows=1, ncols=1, figsize=(12,8)) \n",
    "fd_words.plot(30, cumulative = True)"
   ]
  },
  {
   "cell_type": "markdown",
   "metadata": {},
   "source": [
    "Automated abstracts (not comparable to human made abstracts)"
   ]
  },
  {
   "cell_type": "code",
   "execution_count": 37,
   "metadata": {},
   "outputs": [],
   "source": [
    "def score_sentences(sentences, important_words):\n",
    "    # Approach taken from \"The Automatic Creation of Literature Abstracts\" by H.P. Luhn\n",
    "    CLUSTER_THRESHOLD = 5  # Distance between words to consider\n",
    "    scores = []\n",
    "    sentence_idx = -1\n",
    "    #for s in [nltk.tokenize.word_tokenize(s) for s in sentences]:\n",
    "    punktw2 = nltk.tokenize.WordPunctTokenizer() #trocando pelo punkt (melhor?)\n",
    "    for s in [punktw2.tokenize(s) for s in sentences]:    \n",
    "        sentence_idx += 1\n",
    "        word_idx = []\n",
    "        # For each word in the word list...\n",
    "        for w in important_words:\n",
    "            try:\n",
    "                # Compute an index for where any important words occur in the sentence\n",
    "                word_idx.append(s.index(w))\n",
    "            except ValueError as e: # w not in this particular sentence\n",
    "                pass\n",
    "        word_idx.sort()\n",
    "        # It is possible that some sentences may not contain any important words at all\n",
    "        if len(word_idx)== 0: continue\n",
    "        # Using the word index, compute clusters by using a max distance threshold\n",
    "        # for any two consecutive words\n",
    "        clusters = []\n",
    "        cluster = [word_idx[0]]\n",
    "        i = 1\n",
    "        while i < len(word_idx):\n",
    "            if word_idx[i] - word_idx[i - 1] < CLUSTER_THRESHOLD:\n",
    "                cluster.append(word_idx[i])\n",
    "            else:\n",
    "                clusters.append(cluster[:])\n",
    "                cluster = [word_idx[i]]\n",
    "            i += 1\n",
    "        clusters.append(cluster)\n",
    "        # Score each cluster. The max score for any given cluster is the score \n",
    "        # for the sentence\n",
    "        max_cluster_score = 0\n",
    "        for c in clusters:\n",
    "            significant_words_in_cluster = len(c)\n",
    "            total_words_in_cluster = c[-1] - c[0] + 1\n",
    "            score = 1.0 * significant_words_in_cluster \\\n",
    "                * significant_words_in_cluster / total_words_in_cluster\n",
    "            if score > max_cluster_score:\n",
    "                max_cluster_score = score\n",
    "        scores.append((sentence_idx, score))\n",
    "    return scores"
   ]
  },
  {
   "cell_type": "code",
   "execution_count": 38,
   "metadata": {},
   "outputs": [],
   "source": [
    "def summarize(txt):\n",
    "    N = 100  # Number of words to consider\n",
    "    punkts = nltk.tokenize.PunktSentenceTokenizer() #trocando pelo punkt (melhor?)\n",
    "    punktw = nltk.tokenize.WordPunctTokenizer() #trocando pelo punkt (melhor?)\n",
    "    #sentences = [s for s in nltk.tokenize.sent_tokenize(txt)]\n",
    "    sentences = [s for s in punkts.tokenize(txt)]\n",
    "    normalized_sentences = [s.lower() for s in sentences]\n",
    "    words = [w.lower() for sentence in normalized_sentences for w in punktw.tokenize(sentence)]\n",
    "    fdist = nltk.FreqDist(words)\n",
    "    top_n_words = [w[0] for w in fdist.items() if w[0] not in stopwords][:N]\n",
    "    scored_sentences = score_sentences(normalized_sentences, top_n_words)\n",
    "    return sentences, top_n_words, scored_sentences"
   ]
  },
  {
   "cell_type": "code",
   "execution_count": 39,
   "metadata": {},
   "outputs": [
    {
     "name": "stdout",
     "output_type": "stream",
     "text": [
      "['miséria', 'abundância', ':', 'alguns', 'modelos', 'crescimento', 'economias', 'subdesenvolvidas', 'comentário', 'sobre', 'modelo', 'econométrico', 'tinther', ',', 'brasil', 'modernização', 'desigualdade', 'agricultura', 'brasileira', 'optimal', 'insider', 'strategy', 'law', 'penalties', 'demands', 'short', 'run', 'assets', 'liabilities', 'brazil', 'portfolio', 'approach', 'reparos', 'teoria', 'multiplicador', 'introdução', 'origens', 'históricas', 'subdesenvolvimento', 'contemporâneo', 'princípios', 'reformulação', 'política', 'comercial', 'reforma', 'economia', 'socialista', 'lições', 'primeiros', 'três', 'anos', 'intensidades', 'fatoriais', 'novo', 'teste', 'empírico', 'teorema', 'heckscher', 'ohlin', 'algumas', 'considerações', 'fases', 'desenvolvimento', 'econõmico', 'poupança', 'econômico', 'padrões', 'convergência', 'divergência', 'regional', 'migrações', '1940', '1960', 'octavio', 'gouveia', 'bulhões', 'orientação', 'controle', 'economic', 'theory', 'regulation', 'case', 'agrarian', 'reform', 'legislation', 'escassez', 'dólares', 'nota', 'efeitos', 'inflação', 'nível', 'atividade', 'spread', 'bancário', 'distribuição', 'renda', '70', 'escolhas', 'ambiguidades', 'estudo']\n"
     ]
    }
   ],
   "source": [
    "sentences, top_n_words, scored_sentences = summarize(texts)\n",
    "print(top_n_words)"
   ]
  },
  {
   "cell_type": "code",
   "execution_count": 40,
   "metadata": {},
   "outputs": [
    {
     "name": "stdout",
     "output_type": "stream",
     "text": [
      "Exemplo de um Modelo Regional (ParteI) The Meaning of Development Política monetária e nível de atividade no Nordeste: a evidência recente O Comunicado do Banco Central Desemprego: O Custo da Desinformação Gasto público e crescimento econômico no Brasil: Uma análise comparativa dos gastos das esferas de Governo. \n",
      "\n",
      "Miséria ou Abundância: Alguns Modelos de Crescimento para Economias Subdesenvolvidas Comentário sobre o Modelo Econométrico de Tinther, para o Brasil Modernização e desigualdade na agricultura brasileira Optimal Insider Strategy with Law Penalties Demands for Short-Run Assets and Liabilities in Brazil: a Portfolio Approach Alguns Reparos sobre a Teoria do Multiplicador INTRODUÇÃO: ORIGENS HISTÓRICAS DO SUBDESENVOLVIMENTO CONTEMPORÂNEO Princípios para a reformulação da política comercial brasileira A reforma da economia socialista: lições dos primeiros três anos Intensidades fatoriais na economia brasileira: novo teste empírico do teorema de Heckscher-Ohlin Algumas Considerações sobre as Fases do Desenvolvimento Econõmico Poupança e crescimento econômico Padrões de Convergência e Divergência do Crescimento Econômico Regional e das Migrações no Brasil - 1940-1960 Octavio Gouveia de Bulhões - Orientação e Controle da Economia The Economic Theory of Regulation: the Case of Agrarian Reform legislation in Brazil A Escassez de Dólares Uma nota sobre os efeitos da inflação e do nível de atividade sobre o spread bancário A DISTRIBUIÇÃO DA RENDA NO BRASIL, 1960-70 Escolhas e Ambiguidades: Um Estudo sobre o Conhecimento Comparativo O Núcleo da Inflação como a Tendência Comum dos Preços Da Teoria do Multiplicador à Teoria dos Pontos de Impacto Decisivo A eficiência marginal do capital e as condições de Soper: uma análise crítica Dinâmica das importações de bens de capital no Brasil: um estudo econométrico Influência de Marx no Pensamento Econômico da U.R.S.S. \n",
      "\n",
      "O Diferencial de Salários Formal-Informal no Brasil: Segmentação ou Viés de Seleção? \n",
      "\n",
      "Flexibilidade salarial , equilibrio com desemprego e desemprego de desequilíbrio Renda Social do Nordeste Econometria e verificação de teorias econômicas O Ensino de Economia em Nível de Pós-Graduação no Brasil The Impact of the International Coffee Agreement on the Price of Coffee Shortcomings of the Brazilian Pre-Salt Auction Design Mecanismos de Apoio às Micro e Pequenas Empresas Brasileiras: o caso Patme no Período 1991-98 Inflação Reprimida e Reforma Monetária na Alemanha Ocidental A inflação brasileira e a controvérsia sobre a aceleração inflacionária A unidade salarial e o multiplicador na Teoria Geral de Keynes Bonds, interest and capital accumulation Indexação e realimentação: a hipótese do caminho aleatório O Investimento Acelerado como Força de Desenvolvimento Econômico Distribuição de renda pessoal no Brasil : 1970 e 1980 Análise Técnica: Sorte ou Realidade? \n",
      "\n",
      "Difusão de Tecnologias da Informação em Pequenas e Médias Empresas: um Estudo de Caso A Teoria do Crescimento e do Desenvolvimento Econômico Déficit público: do paradoxo ao déficit nominal Uma Análise da Hipótese da Convergência para os Municípios Brasileiros A dynamic model of education level choice: Application to brazilian states Previdência Social e Bem Estar no Brasil Julius Isaac - Economics of Migration Indicadores de curto prazo para a economia brasileira Seguro Dinâmico de Portfólio Nota sobre o Planejamento Regional na U.R.S.S. \n",
      "\n",
      "As Oportunidades, os Problemas e a Estratégia para Melhorar no Brasil o Treinamento Universitário em Economia Relação de Trocas e Renda Real no Brasil - 1953-1968 Previdência e Taxa de Juros no Brasil Deflação, Desemprego e Recuperação Econômica: um Modelo Keynesiano Ciclos Econômicos na Economia Dirigida Uma Contribuição ao estudo da regressão linear múltipla A ineficiência da política de preços para conter o consumo dos derivados de petróleo Arbitragem de carteira de ações contra futuro de índice Diferenciais de salários entre empresas privadas e estatais no Brasil Sobre a Teoria do Multiplicador Déficit público em percentagem do PIB como indicador enganoso em política de estabilizção. \n",
      "\n",
      "Baldwin Befiex : efeitos internos de um incentivo à exportação Evidências sobre as Estruturas de Propriedade de Capital e de Voto das Empresas de Capital Aberto no Brasil Uma análise econômico-atuarial dos death bonds Contrato Satisfatório Multidimensional e a Teoria do Incentivo A Política de Discriminação no Comércio Internacional A difusão da inovação tecnológica na agricultura: \"mecanismo de autocontrole\" versus modernização induzida Inflação e preços relativos no Plano Collor: avaliação e perspectivas Influência das Dimensões e Relações Jurídicas na Eficiência Produtiva do Estabelecimento Agrícola Problems of Project Evaluation in Relation to Underdeveloped Countries Enfoque monetário do balanço de pagamento: um esquema para apreciação Conquering Credibility for Monetary Policy under Sticky Confidence Uma Estimativa dos Aspectos Distributivos da Previdência Social no Brasil Implicações Econômicas da Reforma Tributária: Análise com um Modelo CGE Expectativa adaptada e ajustamento parcial: identificação e discriminação entre os dois processos Money and growth: from a quasi-neoclassical standpoint A dinâmica dos preços industriais  na Argentina em 1966-82 -um estudo econométrico Política Fiscal e Plano Trienal O Plano Collor Visto sob a Ótica das Relações Industriais O Efeito-Diploma e a Relação Entre Rendimentos e Educação: Uma Análise da Evolução ao Longo do Tempo no Brasil. \n",
      "\n",
      "Mensuração e fontes de eficiência técnica da indústria de transformação: um estudo de caso para o Estado de Minas Gerais. \n",
      "\n",
      "Cyclical Fluctuations in Brazil's Real Exchange Rate: the Role of Domestic and External Factors (1988-95) Estabilização dos Preços Uma nota sobre números-índices Avaliação econômica de concessões na indústria de produção de petróleo O Estrangulamento - Inflação Estrutural e o Crescimento Econômico Inflação, indexação e orçamento do governo Is Inflation Persistence Over? \n",
      "\n",
      "Estrutura e Eficiência da Economia Agrícola Soviética Colloreconomics Produção e Exportação de Algodão: Efeitos de Choques de Oferta e de Demanda Do inflation-linked bonds contain information about future inflation? \n",
      "\n"
     ]
    }
   ],
   "source": [
    "# First approach:\n",
    "# Filter out non-significant sentences by using the average score plus a\n",
    "# fraction of the std dev as a filter\n",
    "avg = np.mean([s[1] for s in scored_sentences])\n",
    "std = np.std([s[1] for s in scored_sentences])\n",
    "mean_scored = [(sent_idx, score) for (sent_idx, score) in scored_sentences if score > avg + 0.5 * std]\n",
    "mean_scored_summary=[sentences[idx] for (idx, score) in mean_scored]\n",
    "mean_scored_summary = list(set(mean_scored_summary))\n",
    "\n",
    "for s in mean_scored_summary[0:10]:\n",
    "    print(s, '\\n')"
   ]
  },
  {
   "cell_type": "code",
   "execution_count": 41,
   "metadata": {},
   "outputs": [
    {
     "name": "stdout",
     "output_type": "stream",
     "text": [
      "Exemplo de um Modelo Regional (ParteI) The Meaning of Development Política monetária e nível de atividade no Nordeste: a evidência recente O Comunicado do Banco Central Desemprego: O Custo da Desinformação Gasto público e crescimento econômico no Brasil: Uma análise comparativa dos gastos das esferas de Governo. \n",
      "\n",
      "Miséria ou Abundância: Alguns Modelos de Crescimento para Economias Subdesenvolvidas Comentário sobre o Modelo Econométrico de Tinther, para o Brasil Modernização e desigualdade na agricultura brasileira Optimal Insider Strategy with Law Penalties Demands for Short-Run Assets and Liabilities in Brazil: a Portfolio Approach Alguns Reparos sobre a Teoria do Multiplicador INTRODUÇÃO: ORIGENS HISTÓRICAS DO SUBDESENVOLVIMENTO CONTEMPORÂNEO Princípios para a reformulação da política comercial brasileira A reforma da economia socialista: lições dos primeiros três anos Intensidades fatoriais na economia brasileira: novo teste empírico do teorema de Heckscher-Ohlin Algumas Considerações sobre as Fases do Desenvolvimento Econõmico Poupança e crescimento econômico Padrões de Convergência e Divergência do Crescimento Econômico Regional e das Migrações no Brasil - 1940-1960 Octavio Gouveia de Bulhões - Orientação e Controle da Economia The Economic Theory of Regulation: the Case of Agrarian Reform legislation in Brazil A Escassez de Dólares Uma nota sobre os efeitos da inflação e do nível de atividade sobre o spread bancário A DISTRIBUIÇÃO DA RENDA NO BRASIL, 1960-70 Escolhas e Ambiguidades: Um Estudo sobre o Conhecimento Comparativo O Núcleo da Inflação como a Tendência Comum dos Preços Da Teoria do Multiplicador à Teoria dos Pontos de Impacto Decisivo A eficiência marginal do capital e as condições de Soper: uma análise crítica Dinâmica das importações de bens de capital no Brasil: um estudo econométrico Influência de Marx no Pensamento Econômico da U.R.S.S. \n",
      "\n",
      "O Diferencial de Salários Formal-Informal no Brasil: Segmentação ou Viés de Seleção? \n",
      "\n",
      "Flexibilidade salarial , equilibrio com desemprego e desemprego de desequilíbrio Renda Social do Nordeste Econometria e verificação de teorias econômicas O Ensino de Economia em Nível de Pós-Graduação no Brasil The Impact of the International Coffee Agreement on the Price of Coffee Shortcomings of the Brazilian Pre-Salt Auction Design Mecanismos de Apoio às Micro e Pequenas Empresas Brasileiras: o caso Patme no Período 1991-98 Inflação Reprimida e Reforma Monetária na Alemanha Ocidental A inflação brasileira e a controvérsia sobre a aceleração inflacionária A unidade salarial e o multiplicador na Teoria Geral de Keynes Bonds, interest and capital accumulation Indexação e realimentação: a hipótese do caminho aleatório O Investimento Acelerado como Força de Desenvolvimento Econômico Distribuição de renda pessoal no Brasil : 1970 e 1980 Análise Técnica: Sorte ou Realidade? \n",
      "\n",
      "Baldwin Befiex : efeitos internos de um incentivo à exportação Evidências sobre as Estruturas de Propriedade de Capital e de Voto das Empresas de Capital Aberto no Brasil Uma análise econômico-atuarial dos death bonds Contrato Satisfatório Multidimensional e a Teoria do Incentivo A Política de Discriminação no Comércio Internacional A difusão da inovação tecnológica na agricultura: \"mecanismo de autocontrole\" versus modernização induzida Inflação e preços relativos no Plano Collor: avaliação e perspectivas Influência das Dimensões e Relações Jurídicas na Eficiência Produtiva do Estabelecimento Agrícola Problems of Project Evaluation in Relation to Underdeveloped Countries Enfoque monetário do balanço de pagamento: um esquema para apreciação Conquering Credibility for Monetary Policy under Sticky Confidence Uma Estimativa dos Aspectos Distributivos da Previdência Social no Brasil Implicações Econômicas da Reforma Tributária: Análise com um Modelo CGE Expectativa adaptada e ajustamento parcial: identificação e discriminação entre os dois processos Money and growth: from a quasi-neoclassical standpoint A dinâmica dos preços industriais  na Argentina em 1966-82 -um estudo econométrico Política Fiscal e Plano Trienal O Plano Collor Visto sob a Ótica das Relações Industriais O Efeito-Diploma e a Relação Entre Rendimentos e Educação: Uma Análise da Evolução ao Longo do Tempo no Brasil. \n",
      "\n",
      "Cyclical Fluctuations in Brazil's Real Exchange Rate: the Role of Domestic and External Factors (1988-95) Estabilização dos Preços Uma nota sobre números-índices Avaliação econômica de concessões na indústria de produção de petróleo O Estrangulamento - Inflação Estrutural e o Crescimento Econômico Inflação, indexação e orçamento do governo Is Inflation Persistence Over? \n",
      "\n",
      "Estrutura e Eficiência da Economia Agrícola Soviética Colloreconomics Produção e Exportação de Algodão: Efeitos de Choques de Oferta e de Demanda Do inflation-linked bonds contain information about future inflation? \n",
      "\n",
      "Presidente Getulio Vargas Distribuição, Mobilidade e Polarização de Renda no Brasil: 1987 a 2003 Crescimento Econômico Municipal em Mato Grosso: uma análise de convergência de renda Redução dos Custos de Quantificação de Benefícios na Avaliação Contingente John Ise - Economics Sobre a unicidade de taxas internas de retorno positivas Determinação dos salários na agricultura Os Impostos e os Problemas Econômicos A Estrura de Proteção Industrial no Brasil Estratégias setoriais ótimas para a economia brasileira: exemplo de um problema de programação dinâmica. \n",
      "\n",
      "Maximização de  lucros e controle de preços Sobre os Usos e Abusos da Teoria Econômica Taxas de Câmbio de Equilíbrio: Formulação Teórica e Exemplificação A expansão das exportações e o crescimento econômico: o caso do Brasil, 1969-84 Uma Análise para o Efeito-Fronteira no Brasil A General-Equilibrium Closed-Form Solution to the Welfare Costs of Inflation Development, technological change and innovation: Schumpeter and the neo-Schumpeterians Análise de custos e benefícios sociais aplicada à indústria carbonífera no vale do Jacuí Teorias econômicas: a meia-verdade temporária Lucratividade na indústria de transformação: empresas multinacionais versus nacionais privadas. \n",
      "\n",
      "Distribuição de renda no Brasil: avaliação das tendências de longo prazo e mudanças na desigualdade desde meados dos anos 70 Uma análise do financiamento e dos investimentos das empresas estatais federais no Brasil, 1980-83 Comentários sobre a Análise de Hirschman dos Problemas Econômicos A note on regional voting power and budget allocation in the Brazilian Congress Jean-Louis Guglielmi - Essai Sur le Developpment de la Théorie du Salaire O Protocolo de Kyoto A Teoria Clássica da Política Comercial Dinâmica econômica e caos: para uma agenda de pesquisas Competição, Colusão e Antitruste: Estimação da Conduta Competitiva de Companhias Aéreas Evolução da Distribuição dos Financiamentos do PRONAF entre as Unidades da Federação, no Período de 1999 a 2009 Business Cycle Fluctuations in Brazil Escassez de Dólares? \n",
      "\n"
     ]
    }
   ],
   "source": [
    "# Second Approach: \n",
    "# Return only the top N ranked sentences\n",
    "TOP_SENTENCES = 10  # Number of sentences to choose on \"top n\"\n",
    "top_n_scored = sorted(scored_sentences, key=lambda s: s[1])[-TOP_SENTENCES:]\n",
    "top_n_scored = sorted(top_n_scored, key=lambda s: s[0])\n",
    "top_n_summary=[sentences[idx] for (idx, score) in top_n_scored]\n",
    "top_n_summary = list(set(top_n_summary))\n",
    "\n",
    "for s in top_n_summary[0:10]:\n",
    "    print(s, '\\n')"
   ]
  },
  {
   "cell_type": "markdown",
   "metadata": {},
   "source": [
    "## [Goose](https://github.com/goose3/goose3)\n",
    "\n",
    "Extracting text from html pages  "
   ]
  },
  {
   "cell_type": "code",
   "execution_count": 42,
   "metadata": {},
   "outputs": [],
   "source": [
    "from goose3 import Goose\n",
    "\n",
    "url = 'https://edition.cnn.com/2020/03/27/europe/europe-pollution-decline-coronavirus-lockdown-intl/index.html'\n",
    "g = Goose(Goose({'use_meta_language': False, 'target_language':'en', 'parser_class':'lxml'}))\n",
    "\n",
    "article = g.extract(url=url)"
   ]
  },
  {
   "cell_type": "code",
   "execution_count": 43,
   "metadata": {},
   "outputs": [
    {
     "data": {
      "text/plain": [
       "'Air pollution drops as Europeans stay at home'"
      ]
     },
     "execution_count": 43,
     "metadata": {},
     "output_type": "execute_result"
    }
   ],
   "source": [
    "article.title"
   ]
  },
  {
   "cell_type": "code",
   "execution_count": 44,
   "metadata": {},
   "outputs": [
    {
     "data": {
      "text/plain": [
       "'Most Europeans are currently living under severe restrictions, stuck at home, desperately hoping for the coronavirus pandemic to pass soon.'"
      ]
     },
     "execution_count": 44,
     "metadata": {},
     "output_type": "execute_result"
    }
   ],
   "source": [
    "article.meta_description"
   ]
  },
  {
   "cell_type": "code",
   "execution_count": 45,
   "metadata": {},
   "outputs": [
    {
     "data": {
      "text/plain": [
       "'(CNN) Most Europeans are currently living under severe restrictions, stuck at home, desperately hoping for the coronavirus pandemic to pass soon.\\n\\nOn the flip side: the air is cleaner than it\\'s been in a long time.\\n\\nThe huge decline in road traffic, air travel and other business activities across Europe has led to sharp reductions in pollution over several major cities, new images published by the European Space Agency show. A similar effect has been recorded across the United States and in China\\n\\nThe impact of the pandemic-related restrictions on air quality is staggering. In some parts of Europe, the levels of toxic pollutants in the air have been slashed by a half.\\n\\nBut while the short-term effect might seems positive, experts are warning that the current situation is no solution.\\n\\n\"Addressing long-term air quality problems requires ambitious policies and forward-looking investments,\" said Hans Bruyninckx, the EEA executive director. \"As such, the current crisis and its multiple impacts on our society work against what we are trying to achieve, which is a just and well-managed transition towards a resilient and sustainable society,\" he added.\\n\\nThe ESA observations by the Copernicus Sentinel-5P satellite show clear declines in pollution. The measurements were taken over 10 days to even out changes in the weather, which affect the concentration of nitrogen dioxide.\\n\\nData from the European Environmental Agency paint a similar picture. The average concentrations of Nitrogen Dioxide (NO2) in the air in the Italian province of Bergamo, which has been completely paralyzed by the outbreak, were 47% lower last week than during the same week last year, the environmental agency said. The NO2 levels in Rome were 26% to 35% lower than in 2019, the environmental agency said.\\n\\nMuch of the NO2 pollution comes from car exhausts, which is why the strict controls on citizens movements led to such dramatic declines.\\n\\nAnother area hit hard by the virus, western Washington state around Seattle, also shows much lower concentrations of the gas in recent weeks.\\n\\nThe pandemic has had similar effects on air pollution in China, which still ranks poorly in global air quality comparisons, despite its government\\'s major efforts to tackle pollution in recent years.\\n\\nAccording to China\\'s Ministry of Ecology and Environment, the average number of \"good quality air days\" increased 21.5% in February, compared to the same period last year in Hubei province, the epicenter of the global coronavirus pandemic.\\n\\n\"Does this mean pandemics are good for health? No,\" Burke said. \"Instead it means that the way our economies operate, absent pandemics, has massive hidden health costs, and it takes a pandemic to help see that.\"\\n\\nThe link between air pollution and premature deaths has been well established. A 30-year analysis of 652 cities in 24 countries and regions across six continents found that increases in air pollution were linked to increases in related deaths: The higher the levels of pollution, the faster people die.\\n\\nThe World Health Organization (WHO) has estimated that around 7 million people die every year from exposure to fine particles in polluted air.'"
      ]
     },
     "execution_count": 45,
     "metadata": {},
     "output_type": "execute_result"
    }
   ],
   "source": [
    "article.cleaned_text[:]"
   ]
  },
  {
   "cell_type": "code",
   "execution_count": 46,
   "metadata": {
    "scrolled": true
   },
   "outputs": [],
   "source": [
    "article.top_image"
   ]
  },
  {
   "cell_type": "markdown",
   "metadata": {},
   "source": [
    "## [Textblob](http://textblob.readthedocs.io/en/dev/)\n",
    "\n",
    "https://www.analyticsvidhya.com/blog/2018/02/natural-language-processing-for-beginners-using-textblob/\n",
    "\n",
    "Installing:  \n",
    "\n",
    "!sudo pip3 install -U textblob  \n",
    "!python -m textblob.download_corpora"
   ]
  },
  {
   "cell_type": "code",
   "execution_count": 47,
   "metadata": {},
   "outputs": [],
   "source": [
    "from textblob import TextBlob\n",
    "from textblob import Word\n",
    "\n",
    "text = '''\n",
    "The titular threat of The Blob has always struck me as the ultimate movie\n",
    "monster: an insatiably hungry, amoeba-like mass able to penetrate\n",
    "virtually any safeguard, capable of--as a doomed doctor chillingly\n",
    "describes it--\"assimilating flesh on contact.\n",
    "Snide comparisons to gelatin be damned, it's a concept with the most\n",
    "devastating of potential consequences, not unlike the grey goo scenario\n",
    "proposed by technological theorists fearful of\n",
    "artificial intelligence run rampant.\n",
    "'''\n",
    "\n",
    "text_pt = '''\n",
    "Com uma abordagem inédita, o curso de Mestrado em Modelagem Matemática \n",
    "integra à Matemática Aplicada o corpo de conhecimentos das Ciências da \n",
    "Computação e da Informação, com contextos de aplicações das ciências \n",
    "sociais, econômicas, biológicas e da saúde. O curso possibilita ao \n",
    "mestrando desenvolver a capacidade de analisar cenários e dar suporte \n",
    "à tomada de decisões em situações de uso intensivo de dados e informações, \n",
    "além de ter o objetivo de formar excelentes pesquisadores na área.\n",
    "'''"
   ]
  },
  {
   "cell_type": "code",
   "execution_count": 48,
   "metadata": {},
   "outputs": [],
   "source": [
    "blob = TextBlob(text)\n",
    "blob_pt = TextBlob(text_pt)"
   ]
  },
  {
   "cell_type": "code",
   "execution_count": 49,
   "metadata": {},
   "outputs": [
    {
     "data": {
      "text/plain": [
       "[Sentence(\"\n",
       " The titular threat of The Blob has always struck me as the ultimate movie\n",
       " monster: an insatiably hungry, amoeba-like mass able to penetrate\n",
       " virtually any safeguard, capable of--as a doomed doctor chillingly\n",
       " describes it--\"assimilating flesh on contact.\"),\n",
       " Sentence(\"Snide comparisons to gelatin be damned, it's a concept with the most\n",
       " devastating of potential consequences, not unlike the grey goo scenario\n",
       " proposed by technological theorists fearful of\n",
       " artificial intelligence run rampant.\")]"
      ]
     },
     "execution_count": 49,
     "metadata": {},
     "output_type": "execute_result"
    }
   ],
   "source": [
    "blob.sentences"
   ]
  },
  {
   "cell_type": "code",
   "execution_count": 50,
   "metadata": {},
   "outputs": [
    {
     "data": {
      "text/plain": [
       "[Sentence(\"\n",
       " Com uma abordagem inédita, o curso de Mestrado em Modelagem Matemática \n",
       " integra à Matemática Aplicada o corpo de conhecimentos das Ciências da \n",
       " Computação e da Informação, com contextos de aplicações das ciências \n",
       " sociais, econômicas, biológicas e da saúde.\"),\n",
       " Sentence(\"O curso possibilita ao \n",
       " mestrando desenvolver a capacidade de analisar cenários e dar suporte \n",
       " à tomada de decisões em situações de uso intensivo de dados e informações, \n",
       " além de ter o objetivo de formar excelentes pesquisadores na área.\")]"
      ]
     },
     "execution_count": 50,
     "metadata": {},
     "output_type": "execute_result"
    }
   ],
   "source": [
    "blob_pt.sentences"
   ]
  },
  {
   "cell_type": "code",
   "execution_count": 51,
   "metadata": {},
   "outputs": [
    {
     "data": {
      "text/plain": [
       "WordList(['Snide', 'comparisons', 'to', 'gelatin', 'be', 'damned', 'it', \"'s\", 'a', 'concept', 'with', 'the', 'most', 'devastating', 'of', 'potential', 'consequences', 'not', 'unlike', 'the', 'grey', 'goo', 'scenario', 'proposed', 'by', 'technological', 'theorists', 'fearful', 'of', 'artificial', 'intelligence', 'run', 'rampant'])"
      ]
     },
     "execution_count": 51,
     "metadata": {},
     "output_type": "execute_result"
    }
   ],
   "source": [
    "blob.sentences[1].words"
   ]
  },
  {
   "cell_type": "markdown",
   "metadata": {},
   "source": [
    "Functions applied to the Word object:  "
   ]
  },
  {
   "cell_type": "code",
   "execution_count": 52,
   "metadata": {},
   "outputs": [
    {
     "data": {
      "text/plain": [
       "WordList(['Snide', 'comparison', 'to', 'gelatin', 'be', 'damned', 'it', \"'\", 'a', 'concept', 'with', 'the', 'most', 'devastating', 'of', 'potential', 'consequence', 'not', 'unlike', 'the', 'grey', 'goo', 'scenario', 'proposed', 'by', 'technological', 'theorist', 'fearful', 'of', 'artificial', 'intelligence', 'run', 'rampant'])"
      ]
     },
     "execution_count": 52,
     "metadata": {},
     "output_type": "execute_result"
    }
   ],
   "source": [
    "blob.sentences[1].words.singularize()"
   ]
  },
  {
   "cell_type": "code",
   "execution_count": 53,
   "metadata": {},
   "outputs": [
    {
     "data": {
      "text/plain": [
       "'Platforms'"
      ]
     },
     "execution_count": 53,
     "metadata": {},
     "output_type": "execute_result"
    }
   ],
   "source": [
    "w = Word('Platform')\n",
    "w.pluralize()"
   ]
  },
  {
   "cell_type": "markdown",
   "metadata": {},
   "source": [
    "Lemmatization  "
   ]
  },
  {
   "cell_type": "code",
   "execution_count": 54,
   "metadata": {},
   "outputs": [
    {
     "data": {
      "text/plain": [
       "'run'"
      ]
     },
     "execution_count": 54,
     "metadata": {},
     "output_type": "execute_result"
    }
   ],
   "source": [
    "w = Word('running')\n",
    "w.lemmatize(\"v\") ## v here represents verb"
   ]
  },
  {
   "cell_type": "markdown",
   "metadata": {},
   "source": [
    "POS tags  "
   ]
  },
  {
   "cell_type": "code",
   "execution_count": 55,
   "metadata": {},
   "outputs": [
    {
     "data": {
      "text/plain": [
       "[('The', 'DT'),\n",
       " ('titular', 'JJ'),\n",
       " ('threat', 'NN'),\n",
       " ('of', 'IN'),\n",
       " ('The', 'DT'),\n",
       " ('Blob', 'NNP'),\n",
       " ('has', 'VBZ'),\n",
       " ('always', 'RB'),\n",
       " ('struck', 'VBN'),\n",
       " ('me', 'PRP')]"
      ]
     },
     "execution_count": 55,
     "metadata": {},
     "output_type": "execute_result"
    }
   ],
   "source": [
    "blob.tags[0:10]"
   ]
  },
  {
   "cell_type": "code",
   "execution_count": 56,
   "metadata": {},
   "outputs": [
    {
     "data": {
      "text/plain": [
       "[('Com', 'NNP'),\n",
       " ('uma', 'JJ'),\n",
       " ('abordagem', 'NN'),\n",
       " ('inédita', 'NN'),\n",
       " ('o', 'JJ'),\n",
       " ('curso', 'NN'),\n",
       " ('de', 'IN'),\n",
       " ('Mestrado', 'NNP'),\n",
       " ('em', 'CC'),\n",
       " ('Modelagem', 'NNP')]"
      ]
     },
     "execution_count": 56,
     "metadata": {},
     "output_type": "execute_result"
    }
   ],
   "source": [
    "blob_pt.tags[0:10]"
   ]
  },
  {
   "cell_type": "markdown",
   "metadata": {},
   "source": [
    "Ngrams  "
   ]
  },
  {
   "cell_type": "code",
   "execution_count": 57,
   "metadata": {},
   "outputs": [
    {
     "name": "stdout",
     "output_type": "stream",
     "text": [
      "['The', 'titular']\n",
      "['titular', 'threat']\n",
      "['threat', 'of']\n",
      "['of', 'The']\n",
      "['The', 'Blob']\n",
      "['Blob', 'has']\n",
      "['has', 'always']\n",
      "['always', 'struck']\n",
      "['struck', 'me']\n",
      "['me', 'as']\n",
      "['as', 'the']\n",
      "['the', 'ultimate']\n",
      "['ultimate', 'movie']\n",
      "['movie', 'monster']\n",
      "['monster', 'an']\n",
      "['an', 'insatiably']\n",
      "['insatiably', 'hungry']\n",
      "['hungry', 'amoeba-like']\n",
      "['amoeba-like', 'mass']\n",
      "['mass', 'able']\n",
      "['able', 'to']\n",
      "['to', 'penetrate']\n",
      "['penetrate', 'virtually']\n",
      "['virtually', 'any']\n",
      "['any', 'safeguard']\n",
      "['safeguard', 'capable']\n",
      "['capable', 'of']\n",
      "['of', 'as']\n",
      "['as', 'a']\n",
      "['a', 'doomed']\n",
      "['doomed', 'doctor']\n",
      "['doctor', 'chillingly']\n",
      "['chillingly', 'describes']\n",
      "['describes', 'it']\n",
      "['it', 'assimilating']\n",
      "['assimilating', 'flesh']\n",
      "['flesh', 'on']\n",
      "['on', 'contact']\n",
      "['contact', 'Snide']\n",
      "['Snide', 'comparisons']\n",
      "['comparisons', 'to']\n",
      "['to', 'gelatin']\n",
      "['gelatin', 'be']\n",
      "['be', 'damned']\n",
      "['damned', 'it']\n",
      "['it', \"'s\"]\n",
      "[\"'s\", 'a']\n",
      "['a', 'concept']\n",
      "['concept', 'with']\n",
      "['with', 'the']\n",
      "['the', 'most']\n",
      "['most', 'devastating']\n",
      "['devastating', 'of']\n",
      "['of', 'potential']\n",
      "['potential', 'consequences']\n",
      "['consequences', 'not']\n",
      "['not', 'unlike']\n",
      "['unlike', 'the']\n",
      "['the', 'grey']\n",
      "['grey', 'goo']\n",
      "['goo', 'scenario']\n",
      "['scenario', 'proposed']\n",
      "['proposed', 'by']\n",
      "['by', 'technological']\n",
      "['technological', 'theorists']\n",
      "['theorists', 'fearful']\n",
      "['fearful', 'of']\n",
      "['of', 'artificial']\n",
      "['artificial', 'intelligence']\n",
      "['intelligence', 'run']\n",
      "['run', 'rampant']\n"
     ]
    }
   ],
   "source": [
    "for ngram in blob.ngrams(2):\n",
    "    print(ngram)"
   ]
  },
  {
   "cell_type": "markdown",
   "metadata": {},
   "source": [
    "Noun Phrase Extraction"
   ]
  },
  {
   "cell_type": "code",
   "execution_count": 58,
   "metadata": {},
   "outputs": [
    {
     "data": {
      "text/plain": [
       "WordList(['titular threat', 'blob', 'ultimate movie monster', 'amoeba-like mass', 'snide', 'potential consequences', 'grey goo scenario', 'technological theorists fearful', 'artificial intelligence run rampant'])"
      ]
     },
     "execution_count": 58,
     "metadata": {},
     "output_type": "execute_result"
    }
   ],
   "source": [
    "blob.noun_phrases"
   ]
  },
  {
   "cell_type": "code",
   "execution_count": 59,
   "metadata": {},
   "outputs": [
    {
     "data": {
      "text/plain": [
       "WordList(['com', 'uma abordagem inédita', 'o curso', 'mestrado', 'modelagem matemática', 'integra à', 'matemática aplicada', 'o corpo', 'conhecimentos das', 'ciências', 'computação', 'e da', 'informação', 'com contextos', 'aplicações das ciências sociais', 'biológicas e da saúde', 'o curso possibilita ao mestrando desenvolver', 'analisar cenários e dar suporte à tomada', 'decisões em situações', 'uso intensivo', 'dados e informações', 'ter o objetivo', 'formar excelentes pesquisadores na área'])"
      ]
     },
     "execution_count": 59,
     "metadata": {},
     "output_type": "execute_result"
    }
   ],
   "source": [
    "blob_pt.noun_phrases"
   ]
  },
  {
   "cell_type": "markdown",
   "metadata": {},
   "source": [
    "Sentiment Analysis  "
   ]
  },
  {
   "cell_type": "code",
   "execution_count": 60,
   "metadata": {},
   "outputs": [
    {
     "name": "stdout",
     "output_type": "stream",
     "text": [
      "0.06000000000000001\n",
      "-0.34166666666666673\n"
     ]
    }
   ],
   "source": [
    "for sentence in blob.sentences:\n",
    "    print(sentence.sentiment.polarity)"
   ]
  },
  {
   "cell_type": "markdown",
   "metadata": {},
   "source": [
    "Translation"
   ]
  },
  {
   "cell_type": "code",
   "execution_count": 61,
   "metadata": {},
   "outputs": [
    {
     "data": {
      "text/plain": [
       "TextBlob(\"A ameaça titular de The Blob sempre me pareceu o melhor filme\n",
       "monstro: uma massa insaciável de fome, semelhante a ameba, capaz de penetrar\n",
       "praticamente qualquer salvaguarda, capaz de - como um médico condenado, arrepiante\n",
       "descreve - \"assimilando carne em contato.\n",
       "Comparações sarcásticas com gelatina, é um conceito com as mais\n",
       "devastador de possíveis consequências, não muito diferente do cenário de gosma cinzenta\n",
       "proposto por teóricos tecnológicos temerosos de\n",
       "inteligência artificial corre solta.\")"
      ]
     },
     "execution_count": 61,
     "metadata": {},
     "output_type": "execute_result"
    }
   ],
   "source": [
    "blob.translate(to=\"pt\")"
   ]
  },
  {
   "cell_type": "markdown",
   "metadata": {},
   "source": [
    "Detecting language"
   ]
  },
  {
   "cell_type": "code",
   "execution_count": 62,
   "metadata": {},
   "outputs": [
    {
     "data": {
      "text/plain": [
       "'pt'"
      ]
     },
     "execution_count": 62,
     "metadata": {},
     "output_type": "execute_result"
    }
   ],
   "source": [
    "blob_pt.detect_language()"
   ]
  },
  {
   "cell_type": "markdown",
   "metadata": {},
   "source": [
    "Spellcheck"
   ]
  },
  {
   "cell_type": "code",
   "execution_count": 63,
   "metadata": {},
   "outputs": [
    {
     "data": {
      "text/plain": [
       "TextBlob(\"FGV is the best think tank in the word!\")"
      ]
     },
     "execution_count": 63,
     "metadata": {},
     "output_type": "execute_result"
    }
   ],
   "source": [
    "blob = TextBlob('FGV is the bist think taenk in the word!')\n",
    "blob.correct()\n"
   ]
  },
  {
   "cell_type": "code",
   "execution_count": 64,
   "metadata": {},
   "outputs": [
    {
     "data": {
      "text/plain": [
       "[('tank', 1.0)]"
      ]
     },
     "execution_count": 64,
     "metadata": {},
     "output_type": "execute_result"
    }
   ],
   "source": [
    "blob.words[5].spellcheck()"
   ]
  },
  {
   "cell_type": "markdown",
   "metadata": {},
   "source": [
    "Text classification"
   ]
  },
  {
   "cell_type": "code",
   "execution_count": 65,
   "metadata": {},
   "outputs": [
    {
     "name": "stderr",
     "output_type": "stream",
     "text": [
      "<input>:8: DeprecationWarning: invalid escape sequence \\s\n",
      "<input>:8: DeprecationWarning: invalid escape sequence \\s\n",
      "<input>:8: DeprecationWarning: invalid escape sequence \\s\n",
      "<ipython-input-65-4fc407588c5c>:8: DeprecationWarning: invalid escape sequence \\s\n",
      "  ('Let\\s pretend \"Batman and Robin\" never happened..','neg'),\n"
     ]
    }
   ],
   "source": [
    "training = [\n",
    "('Tom Holland is a terrible spiderman.','neg'),\n",
    "('a terrible Javert (Russell Crowe) ruined Les Miserables for me...','neg'),\n",
    "('The Dark Knight Rises is the greatest superhero movie ever!','pos'),\n",
    "('Fantastic Four should have never been made.','neg'),\n",
    "('Wes Anderson is my favorite director!','pos'),\n",
    "('Captain America 2 is pretty awesome.','pos'),\n",
    "('Let\\s pretend \"Batman and Robin\" never happened..','neg'),\n",
    "]\n",
    "\n",
    "testing = [\n",
    "('Superman was never an interesting character.','neg'),\n",
    "('Fantastic Mr Fox is an awesome film!','pos'),\n",
    "('Dragonball Evolution is simply terrible!!','neg')\n",
    "]"
   ]
  },
  {
   "cell_type": "code",
   "execution_count": 66,
   "metadata": {},
   "outputs": [],
   "source": [
    "from textblob import classifiers\n",
    "nb_classifier = classifiers.NaiveBayesClassifier(training)\n",
    "dt_classifier = classifiers.DecisionTreeClassifier(training)"
   ]
  },
  {
   "cell_type": "code",
   "execution_count": 67,
   "metadata": {},
   "outputs": [
    {
     "name": "stdout",
     "output_type": "stream",
     "text": [
      "1.0\n"
     ]
    }
   ],
   "source": [
    "print (nb_classifier.accuracy(testing))"
   ]
  },
  {
   "cell_type": "code",
   "execution_count": 68,
   "metadata": {},
   "outputs": [
    {
     "name": "stdout",
     "output_type": "stream",
     "text": [
      "Most Informative Features\n",
      "            contains(is) = True              pos : neg    =      2.9 : 1.0\n",
      "      contains(terrible) = False             pos : neg    =      1.8 : 1.0\n",
      "             contains(a) = False             pos : neg    =      1.8 : 1.0\n"
     ]
    }
   ],
   "source": [
    "nb_classifier.show_informative_features(3)"
   ]
  },
  {
   "cell_type": "code",
   "execution_count": 69,
   "metadata": {},
   "outputs": [
    {
     "name": "stdout",
     "output_type": "stream",
     "text": [
      "pos\n"
     ]
    }
   ],
   "source": [
    "blob = TextBlob('the weather is terrible!', classifier=dt_classifier)\n",
    "print (blob.classify())"
   ]
  },
  {
   "cell_type": "markdown",
   "metadata": {},
   "source": [
    "#### Basic Polarizing Functions for Sentiment Analysis"
   ]
  },
  {
   "cell_type": "markdown",
   "metadata": {},
   "source": [
    "Loading the polarized lexycom file - OpLexicon (BR)"
   ]
  },
  {
   "cell_type": "code",
   "execution_count": 70,
   "metadata": {},
   "outputs": [
    {
     "name": "stdout",
     "output_type": "stream",
     "text": [
      "Corpus com 32119 palavras polarizadas\n"
     ]
    }
   ],
   "source": [
    "df_o = pd.read_csv(os.path.join(datapath,oplexicon), header=None, encoding='utf-8', usecols=[0,2], names=[u'palavra',u'polaridade'])\n",
    "df_o.drop_duplicates(subset=[u'palavra'], keep='first', inplace=True)\n",
    "df_o = df_o.set_index(u'palavra')\n",
    "print(u'Corpus com {} palavras polarizadas'.format(len(df_o)))"
   ]
  },
  {
   "cell_type": "code",
   "execution_count": 71,
   "metadata": {},
   "outputs": [],
   "source": [
    "def polariza_texto(texto, df1):\n",
    "    polaridades = []\n",
    "    ausentes = []\n",
    "    l_palavras = texto.split()\n",
    "    for palavra in l_palavras:\n",
    "        p = palavra.lower().strip()\n",
    "        if p in df1.index:\n",
    "            polaridades.append(df1.polaridade[p])\n",
    "        else:\n",
    "            ausentes.append(p)\n",
    "    num_pal = len(l_palavras)\n",
    "    num_pol = len(polaridades)\n",
    "    razao_pol = num_pol/float(num_pal) if num_pal else 0.0\n",
    "    polaridade = sum(polaridades)/float(num_pol) if num_pol else 0.0\n",
    "    #print('Foram polarizadas {} palavras de um total de {} ({:.2%})'.format(num_pol, num_pal, razao_pol))\n",
    "    #print('A polaridade mensurada do texto é de {:.3}'.format(polaridade))\n",
    "    return polaridade, ausentes"
   ]
  },
  {
   "cell_type": "code",
   "execution_count": 72,
   "metadata": {},
   "outputs": [],
   "source": [
    "def polariza_counter(dicionario, df1):\n",
    "    polaridades = []\n",
    "    fator_div = 0\n",
    "    ausentes = []\n",
    "    for palavra, frequencia in dicionario.iteritems():\n",
    "        p = palavra.lower().strip()\n",
    "        if p in df1.index:\n",
    "            polaridades.append(df1.polaridade[p] * frequencia)\n",
    "            fator_div += frequencia\n",
    "        else:\n",
    "            ausentes.append((palavra,frequencia))\n",
    "    num_pal = len(dicionario)\n",
    "    num_pol = len(polaridades)\n",
    "    razao_pol = num_pol/float(num_pal) if num_pal else 0.0\n",
    "    polaridade = sum(polaridades)/float(fator_div)\n",
    "    print('Foram polarizadas {} palavras de um total de {} ({:.2%})'.format(num_pol, num_pal, razao_pol))\n",
    "    print('A polaridade mensurada do texto é de {:.3}'.format(polaridade))\n",
    "    return polaridade, ausentes"
   ]
  },
  {
   "cell_type": "code",
   "execution_count": 73,
   "metadata": {},
   "outputs": [
    {
     "name": "stdout",
     "output_type": "stream",
     "text": [
      "0.06378132118451026\n"
     ]
    }
   ],
   "source": [
    "score, ausentes = polariza_texto(texts, df_o)\n",
    "print(score)"
   ]
  },
  {
   "cell_type": "markdown",
   "metadata": {},
   "source": [
    "## [Spacy](https://spacy.io/)\n",
    "\n",
    "https://spacy.io/usage/spacy-101#lightning-tour  \n",
    "https://github.com/explosion/spacy-notebooks  "
   ]
  },
  {
   "cell_type": "code",
   "execution_count": 74,
   "metadata": {},
   "outputs": [],
   "source": [
    "import spacy"
   ]
  },
  {
   "cell_type": "markdown",
   "metadata": {},
   "source": [
    "Load resources and process text"
   ]
  },
  {
   "cell_type": "code",
   "execution_count": 75,
   "metadata": {},
   "outputs": [
    {
     "name": "stdout",
     "output_type": "stream",
     "text": [
      "\u001b[2K\u001b[38;5;2m✔ Loaded compatibility table\u001b[0m\n",
      "\u001b[1m\n",
      "====================== Installed models (spaCy v2.2.4) ======================\u001b[0m\n",
      "\u001b[38;5;4mℹ spaCy installation: /usr/local/lib/python3.6/dist-packages/spacy\u001b[0m\n",
      "\n",
      "TYPE      NAME              MODEL             VERSION                            \n",
      "package   pt-core-news-sm   pt_core_news_sm   \u001b[38;5;2m2.2.5\u001b[0m   \u001b[38;5;2m✔\u001b[0m\n",
      "package   en-core-web-sm    en_core_web_sm    \u001b[38;5;2m2.2.5\u001b[0m   \u001b[38;5;2m✔\u001b[0m\n",
      "package   de-core-news-sm   de_core_news_sm   \u001b[38;5;2m2.2.5\u001b[0m   \u001b[38;5;2m✔\u001b[0m\n",
      "package   de-core-news-md   de_core_news_md   \u001b[38;5;2m2.2.5\u001b[0m   \u001b[38;5;2m✔\u001b[0m\n",
      "\n"
     ]
    }
   ],
   "source": [
    "#!ipython -m spacy download en_core_web_sm\n",
    "#!ipython -m spacy download de_core_news_sm\n",
    "#!ipython -m spacy download pt_core_news_sm\n",
    "#!ipython -m spacy download de_core_news_md\n",
    "!ipython -m spacy validate"
   ]
  },
  {
   "cell_type": "code",
   "execution_count": 76,
   "metadata": {},
   "outputs": [],
   "source": [
    "en_nlp = spacy.load('en_core_web_sm')\n",
    "de_nlp = spacy.load('de_core_news_sm')\n",
    "pt_nlp = spacy.load('pt_core_news_sm')\n",
    "\n",
    "en_doc = en_nlp(text)\n",
    "de_doc = de_nlp('ich bin ein Berliner.')\n",
    "pt_doc = pt_nlp(text_pt)"
   ]
  },
  {
   "cell_type": "markdown",
   "metadata": {},
   "source": [
    "Each SpaCy document is already tokenized into words, which are accessible by iterating over the document:"
   ]
  },
  {
   "cell_type": "code",
   "execution_count": 77,
   "metadata": {},
   "outputs": [
    {
     "name": "stdout",
     "output_type": "stream",
     "text": [
      "\n",
      "The titular threat\n"
     ]
    }
   ],
   "source": [
    "print(en_doc[0:4])"
   ]
  },
  {
   "cell_type": "markdown",
   "metadata": {},
   "source": [
    "You can also iterate over the sentences. doc.sents is a generator object, so we can use next():"
   ]
  },
  {
   "cell_type": "code",
   "execution_count": 78,
   "metadata": {},
   "outputs": [
    {
     "name": "stdout",
     "output_type": "stream",
     "text": [
      "[\n",
      "The titular threat of The Blob has always struck me as the ultimate movie\n",
      "monster: an insatiably hungry, amoeba-like mass able to penetrate\n",
      "virtually any safeguard, capable of--as a doomed doctor chillingly\n",
      "describes it--\"assimilating flesh on contact.\n",
      ", Snide comparisons to gelatin be damned, it's a concept with the most\n",
      "devastating of potential consequences, not unlike the grey goo scenario\n",
      "proposed by technological theorists fearful of\n",
      "artificial intelligence run rampant.\n",
      "]\n"
     ]
    }
   ],
   "source": [
    "en_Sents = list(en_doc.sents)\n",
    "print(en_Sents)"
   ]
  },
  {
   "cell_type": "markdown",
   "metadata": {},
   "source": [
    "For example, let's find the longest sentence(s) in Pride and Prejudice:"
   ]
  },
  {
   "cell_type": "code",
   "execution_count": 79,
   "metadata": {},
   "outputs": [
    {
     "data": {
      "text/plain": [
       "[\n",
       " The titular threat of The Blob has always struck me as the ultimate movie\n",
       " monster: an insatiably hungry, amoeba-like mass able to penetrate\n",
       " virtually any safeguard, capable of--as a doomed doctor chillingly\n",
       " describes it--\"assimilating flesh on contact.]"
      ]
     },
     "execution_count": 79,
     "metadata": {},
     "output_type": "execute_result"
    }
   ],
   "source": [
    "SentenceLengths = [len(sent) for sent in en_Sents]\n",
    "[sent for sent in en_Sents if len(sent) == max(SentenceLengths)]"
   ]
  },
  {
   "cell_type": "markdown",
   "metadata": {},
   "source": [
    "Exploring Words  \n",
    "Each word has a crazy number of properties:"
   ]
  },
  {
   "cell_type": "code",
   "execution_count": 80,
   "metadata": {},
   "outputs": [
    {
     "data": {
      "text/plain": [
       "titular"
      ]
     },
     "execution_count": 80,
     "metadata": {},
     "output_type": "execute_result"
    }
   ],
   "source": [
    "en_doc[2]"
   ]
  },
  {
   "cell_type": "code",
   "execution_count": 81,
   "metadata": {},
   "outputs": [
    {
     "data": {
      "text/plain": [
       "['ancestors',\n",
       " 'check_flag',\n",
       " 'children',\n",
       " 'cluster',\n",
       " 'conjuncts',\n",
       " 'dep',\n",
       " 'dep_',\n",
       " 'doc',\n",
       " 'ent_id',\n",
       " 'ent_id_',\n",
       " 'ent_iob',\n",
       " 'ent_iob_',\n",
       " 'ent_kb_id',\n",
       " 'ent_kb_id_',\n",
       " 'ent_type',\n",
       " 'ent_type_',\n",
       " 'get_extension',\n",
       " 'has_extension',\n",
       " 'has_vector',\n",
       " 'head',\n",
       " 'i',\n",
       " 'idx',\n",
       " 'is_alpha',\n",
       " 'is_ancestor',\n",
       " 'is_ascii',\n",
       " 'is_bracket',\n",
       " 'is_currency',\n",
       " 'is_digit',\n",
       " 'is_left_punct',\n",
       " 'is_lower',\n",
       " 'is_oov',\n",
       " 'is_punct',\n",
       " 'is_quote',\n",
       " 'is_right_punct',\n",
       " 'is_sent_start',\n",
       " 'is_space',\n",
       " 'is_stop',\n",
       " 'is_title',\n",
       " 'is_upper',\n",
       " 'lang',\n",
       " 'lang_',\n",
       " 'left_edge',\n",
       " 'lefts',\n",
       " 'lemma',\n",
       " 'lemma_',\n",
       " 'lex_id',\n",
       " 'like_email',\n",
       " 'like_num',\n",
       " 'like_url',\n",
       " 'lower',\n",
       " 'lower_',\n",
       " 'morph',\n",
       " 'n_lefts',\n",
       " 'n_rights',\n",
       " 'nbor',\n",
       " 'norm',\n",
       " 'norm_',\n",
       " 'orth',\n",
       " 'orth_',\n",
       " 'pos',\n",
       " 'pos_',\n",
       " 'prefix',\n",
       " 'prefix_',\n",
       " 'prob',\n",
       " 'rank',\n",
       " 'remove_extension',\n",
       " 'right_edge',\n",
       " 'rights',\n",
       " 'sent',\n",
       " 'sent_start',\n",
       " 'sentiment',\n",
       " 'set_extension',\n",
       " 'shape',\n",
       " 'shape_',\n",
       " 'similarity',\n",
       " 'string',\n",
       " 'subtree',\n",
       " 'suffix',\n",
       " 'suffix_',\n",
       " 'tag',\n",
       " 'tag_',\n",
       " 'tensor',\n",
       " 'text',\n",
       " 'text_with_ws',\n",
       " 'vector',\n",
       " 'vector_norm',\n",
       " 'vocab',\n",
       " 'whitespace_']"
      ]
     },
     "execution_count": 81,
     "metadata": {},
     "output_type": "execute_result"
    }
   ],
   "source": [
    "[prop for prop in dir(en_doc[2]) if not prop.startswith('_')]"
   ]
  },
  {
   "cell_type": "markdown",
   "metadata": {},
   "source": [
    "Using just the indices (.i), we can make a lexical dispersion plot for the occurrences of that word in the novel. (This is just the SpaCy equivalent of the lexical dispersion plot from the NLTK)"
   ]
  },
  {
   "cell_type": "code",
   "execution_count": 82,
   "metadata": {},
   "outputs": [
    {
     "data": {
      "text/plain": [
       "2"
      ]
     },
     "execution_count": 82,
     "metadata": {},
     "output_type": "execute_result"
    }
   ],
   "source": [
    "en_doc[2].i"
   ]
  },
  {
   "cell_type": "code",
   "execution_count": 83,
   "metadata": {},
   "outputs": [],
   "source": [
    "def locations(needle, haystack): \n",
    "    \"\"\" \n",
    "    Make a list of locations, bin those into a histogram, \n",
    "    and finally put it into a Pandas Series object so that we\n",
    "    can later make it into a DataFrame. \n",
    "    \"\"\"\n",
    "    return pd.Series(np.histogram(\n",
    "        [word.i for word in haystack \n",
    "         if word.text.lower() == needle], bins=50)[0])"
   ]
  },
  {
   "cell_type": "code",
   "execution_count": 84,
   "metadata": {},
   "outputs": [
    {
     "data": {
      "text/plain": [
       "array([<matplotlib.axes._subplots.AxesSubplot object at 0x7ff0cf4276a0>,\n",
       "       <matplotlib.axes._subplots.AxesSubplot object at 0x7ff0bc36eb38>,\n",
       "       <matplotlib.axes._subplots.AxesSubplot object at 0x7ff0bc35cf98>],\n",
       "      dtype=object)"
      ]
     },
     "execution_count": 84,
     "metadata": {},
     "output_type": "execute_result"
    },
    {
     "data": {
      "image/png": "[encoded data removed]",
      "text/plain": [
       "<Figure size 1152x576 with 3 Axes>"
      ]
     },
     "metadata": {},
     "output_type": "display_data"
    }
   ],
   "source": [
    "from pylab import rcParams\n",
    "rcParams['figure.figsize'] = 16, 8\n",
    "\n",
    "pd.DataFrame(\n",
    "    {name: locations(name.lower(), en_doc) \n",
    "     for name in ['an', 'as', 'by']}\n",
    ").plot(subplots=True)"
   ]
  },
  {
   "cell_type": "markdown",
   "metadata": {},
   "source": [
    "Exploring Named Entities\n",
    "\n",
    "Named entities can be accessed through doc.ents"
   ]
  },
  {
   "cell_type": "code",
   "execution_count": 85,
   "metadata": {},
   "outputs": [
    {
     "data": {
      "text/plain": [
       "set()"
      ]
     },
     "execution_count": 85,
     "metadata": {},
     "output_type": "execute_result"
    }
   ],
   "source": [
    "set([w.label_ for w in en_doc.ents])"
   ]
  },
  {
   "cell_type": "code",
   "execution_count": 86,
   "metadata": {},
   "outputs": [
    {
     "data": {
      "text/plain": [
       "[]"
      ]
     },
     "execution_count": 86,
     "metadata": {},
     "output_type": "execute_result"
    }
   ],
   "source": [
    "[ent for ent in en_doc.ents if ent.label_ == 'PERSON']"
   ]
  },
  {
   "cell_type": "code",
   "execution_count": 87,
   "metadata": {},
   "outputs": [
    {
     "data": {
      "text/plain": [
       "[]"
      ]
     },
     "execution_count": 87,
     "metadata": {},
     "output_type": "execute_result"
    }
   ],
   "source": [
    "[ent for ent in en_doc.ents if ent.label_ == 'GPE']"
   ]
  },
  {
   "cell_type": "markdown",
   "metadata": {},
   "source": [
    "Parts of Speech  \n",
    "\n",
    "Each word already has a part of speech and a tag associated with it."
   ]
  },
  {
   "cell_type": "code",
   "execution_count": 88,
   "metadata": {},
   "outputs": [
    {
     "data": {
      "text/plain": [
       "{103: 'SPACE',\n",
       " 90: 'DET',\n",
       " 84: 'ADJ',\n",
       " 92: 'NOUN',\n",
       " 85: 'ADP',\n",
       " 96: 'PROPN',\n",
       " 87: 'AUX',\n",
       " 86: 'ADV',\n",
       " 100: 'VERB',\n",
       " 95: 'PRON',\n",
       " 98: 'SCONJ',\n",
       " 97: 'PUNCT',\n",
       " 94: 'PART'}"
      ]
     },
     "execution_count": 88,
     "metadata": {},
     "output_type": "execute_result"
    }
   ],
   "source": [
    "tagDict = {w.pos: w.pos_ for w in en_doc} \n",
    "tagDict"
   ]
  },
  {
   "cell_type": "code",
   "execution_count": 89,
   "metadata": {},
   "outputs": [
    {
     "data": {
      "text/plain": [
       "<matplotlib.axes._subplots.AxesSubplot at 0x7ff0cf596668>"
      ]
     },
     "execution_count": 89,
     "metadata": {},
     "output_type": "execute_result"
    },
    {
     "data": {
      "image/png": "[encoded data removed]",
      "text/plain": [
       "<Figure size 1152x576 with 1 Axes>"
      ]
     },
     "metadata": {},
     "output_type": "display_data"
    }
   ],
   "source": [
    "en_docPOS = pd.Series(en_doc.count_by(spacy.attrs.POS))/len(en_doc)\n",
    "\n",
    "df = pd.DataFrame([en_docPOS], index=['en'])\n",
    "df.columns = [tagDict[column] for column in df.columns]\n",
    "df.T.plot(kind='bar')"
   ]
  },
  {
   "cell_type": "code",
   "execution_count": 90,
   "metadata": {},
   "outputs": [
    {
     "data": {
      "text/plain": [
       "[('me', 1), ('it', 1)]"
      ]
     },
     "execution_count": 90,
     "metadata": {},
     "output_type": "execute_result"
    }
   ],
   "source": [
    "en_docProns = [w for w in en_doc if w.pos_ == 'PRON']\n",
    "Counter([w.string.strip() for w in en_docProns]).most_common(10)"
   ]
  },
  {
   "cell_type": "code",
   "execution_count": 91,
   "metadata": {},
   "outputs": [
    {
     "data": {
      "text/plain": [
       "[\n",
       " The titular threat of The Blob has always struck me as the ultimate movie\n",
       " monster: an insatiably hungry, amoeba-like mass able to penetrate\n",
       " virtually any safeguard, capable of--as a doomed doctor chillingly\n",
       " describes it--\"assimilating flesh on contact.,\n",
       " Snide comparisons to gelatin be damned, it's a concept with the most\n",
       " devastating of potential consequences, not unlike the grey goo scenario\n",
       " proposed by technological theorists fearful of\n",
       " artificial intelligence run rampant.]"
      ]
     },
     "execution_count": 91,
     "metadata": {},
     "output_type": "execute_result"
    }
   ],
   "source": [
    "en_docSents = [sent for sent in en_doc.sents if 'of' in sent.string]\n",
    "en_docSents"
   ]
  },
  {
   "cell_type": "code",
   "execution_count": 92,
   "metadata": {},
   "outputs": [
    {
     "name": "stdout",
     "output_type": "stream",
     "text": [
      "Snide NNP PROPN\n",
      "comparisons NNS NOUN\n",
      "to IN ADP\n",
      "gelatin JJ ADJ\n",
      "be VB AUX\n",
      "damned VBN VERB\n",
      ", , PUNCT\n",
      "it PRP PRON\n",
      "'s VBZ AUX\n",
      "a DT DET\n",
      "concept NN NOUN\n",
      "with IN ADP\n",
      "the DT DET\n",
      "most RBS ADV\n",
      "\n",
      " _SP SPACE\n",
      "devastating JJ ADJ\n",
      "of IN ADP\n",
      "potential JJ ADJ\n",
      "consequences NNS NOUN\n",
      ", , PUNCT\n",
      "not RB PART\n",
      "unlike IN ADP\n",
      "the DT DET\n",
      "grey NNP PROPN\n",
      "goo NNP PROPN\n",
      "scenario NNP PROPN\n",
      "\n",
      " _SP SPACE\n",
      "proposed VBN VERB\n",
      "by IN ADP\n",
      "technological JJ ADJ\n",
      "theorists NNS NOUN\n",
      "fearful JJ ADJ\n",
      "of IN ADP\n",
      "\n",
      " _SP SPACE\n",
      "artificial JJ ADJ\n",
      "intelligence NN NOUN\n",
      "run VBP VERB\n",
      "rampant JJ ADJ\n",
      ". . PUNCT\n",
      "\n",
      " _SP SPACE\n"
     ]
    }
   ],
   "source": [
    "for word in en_docSents[1]: \n",
    "    print(word, word.tag_, word.pos_)"
   ]
  },
  {
   "cell_type": "markdown",
   "metadata": {},
   "source": [
    "Dependency Parsing  \n",
    "\n",
    "Now let's analyze the structure of the sentence.  \n",
    "\n",
    "This sentence has lots of properties:  "
   ]
  },
  {
   "cell_type": "code",
   "execution_count": 93,
   "metadata": {},
   "outputs": [
    {
     "data": {
      "text/plain": [
       "['as_doc',\n",
       " 'char_span',\n",
       " 'conjuncts',\n",
       " 'doc',\n",
       " 'end',\n",
       " 'end_char',\n",
       " 'ent_id',\n",
       " 'ent_id_',\n",
       " 'ents',\n",
       " 'get_extension',\n",
       " 'get_lca_matrix',\n",
       " 'has_extension',\n",
       " 'has_vector',\n",
       " 'kb_id',\n",
       " 'kb_id_',\n",
       " 'label',\n",
       " 'label_',\n",
       " 'lefts',\n",
       " 'lemma_',\n",
       " 'lower_',\n",
       " 'merge',\n",
       " 'n_lefts',\n",
       " 'n_rights',\n",
       " 'noun_chunks',\n",
       " 'orth_',\n",
       " 'remove_extension',\n",
       " 'rights',\n",
       " 'root',\n",
       " 'sent',\n",
       " 'sentiment',\n",
       " 'set_extension',\n",
       " 'similarity',\n",
       " 'start',\n",
       " 'start_char',\n",
       " 'string',\n",
       " 'subtree',\n",
       " 'tensor',\n",
       " 'text',\n",
       " 'text_with_ws',\n",
       " 'to_array',\n",
       " 'upper_',\n",
       " 'vector',\n",
       " 'vector_norm',\n",
       " 'vocab']"
      ]
     },
     "execution_count": 93,
     "metadata": {},
     "output_type": "execute_result"
    }
   ],
   "source": [
    "[prop for prop in dir(en_docSents[1]) if not prop.startswith('_')]"
   ]
  },
  {
   "cell_type": "markdown",
   "metadata": {},
   "source": [
    "To drill down into the sentence, we can start with the root:"
   ]
  },
  {
   "cell_type": "code",
   "execution_count": 94,
   "metadata": {},
   "outputs": [
    {
     "data": {
      "text/plain": [
       "'s"
      ]
     },
     "execution_count": 94,
     "metadata": {},
     "output_type": "execute_result"
    }
   ],
   "source": [
    "en_docSents[1].root"
   ]
  },
  {
   "cell_type": "code",
   "execution_count": 95,
   "metadata": {},
   "outputs": [
    {
     "data": {
      "text/plain": [
       "[damned, ,, it, concept, .]"
      ]
     },
     "execution_count": 95,
     "metadata": {},
     "output_type": "execute_result"
    }
   ],
   "source": [
    "list(en_docSents[1].root.children)"
   ]
  },
  {
   "cell_type": "code",
   "execution_count": 96,
   "metadata": {},
   "outputs": [
    {
     "name": "stdout",
     "output_type": "stream",
     "text": [
      "Snide :  []\n",
      "comparisons :  [Snide, to]\n",
      "to :  [gelatin]\n",
      "gelatin :  []\n",
      "be :  []\n",
      "damned :  [comparisons, be]\n",
      ", :  []\n",
      "it :  []\n",
      "'s :  [damned, ,, it, concept, .]\n",
      "a :  []\n",
      "concept :  [a, with, ,, not, unlike, run]\n",
      "with :  [devastating]\n",
      "the :  []\n",
      "most :  [\n",
      "]\n",
      "\n",
      " :  []\n",
      "devastating :  [the, most, of]\n",
      "of :  [consequences]\n",
      "potential :  []\n",
      "consequences :  [potential]\n",
      ", :  []\n",
      "not :  []\n",
      "unlike :  [scenario]\n",
      "the :  []\n",
      "grey :  []\n",
      "goo :  []\n",
      "scenario :  [the, grey, goo, \n",
      ", proposed]\n",
      "\n",
      " :  []\n",
      "proposed :  [by]\n",
      "by :  [theorists]\n",
      "technological :  []\n",
      "theorists :  [technological, fearful]\n",
      "fearful :  [of]\n",
      "of :  [\n",
      "]\n",
      "\n",
      " :  []\n",
      "artificial :  []\n",
      "intelligence :  [artificial]\n",
      "run :  [intelligence, rampant]\n",
      "rampant :  []\n",
      ". :  [\n",
      "]\n",
      "\n",
      " :  []\n"
     ]
    }
   ],
   "source": [
    "for word in en_docSents[1]: \n",
    "    print(word, ': ', str(list(word.children)))"
   ]
  },
  {
   "cell_type": "code",
   "execution_count": 97,
   "metadata": {},
   "outputs": [
    {
     "name": "stdout",
     "output_type": "stream",
     "text": [
      "hungry\n",
      "like\n",
      "able\n"
     ]
    }
   ],
   "source": [
    "for sent in en_docSents: \n",
    "    for word in sent: \n",
    "        if 'as' in word.string: \n",
    "            for child in word.children: \n",
    "                if child.pos_ == 'ADJ':\n",
    "                    print(child)"
   ]
  },
  {
   "cell_type": "code",
   "execution_count": 98,
   "metadata": {},
   "outputs": [
    {
     "data": {
      "text/plain": [
       "[]"
      ]
     },
     "execution_count": 98,
     "metadata": {},
     "output_type": "execute_result"
    }
   ],
   "source": [
    "Counter([w.string.strip() for w in en_doc.ents if w.label_ == 'PERSON']).most_common(10)"
   ]
  },
  {
   "cell_type": "markdown",
   "metadata": {},
   "source": [
    "Now we can write a function that walks down the tree from each character, looking for the first adjectives it can find:"
   ]
  },
  {
   "cell_type": "code",
   "execution_count": 99,
   "metadata": {},
   "outputs": [],
   "source": [
    "def adjectivesDescribingCharacters(text, character):\n",
    "    sents = [sent for sent in text.sents if character in sent.string]\n",
    "    adjectives = []\n",
    "    for sent in sents: \n",
    "        for word in sent: \n",
    "            if character in word.string:\n",
    "                for child in word.children: \n",
    "                    if child.pos_ == 'ADJ': \n",
    "                        adjectives.append(child.string.strip())\n",
    "    return Counter(adjectives).most_common(10)"
   ]
  },
  {
   "cell_type": "code",
   "execution_count": 100,
   "metadata": {},
   "outputs": [
    {
     "data": {
      "text/plain": [
       "[]"
      ]
     },
     "execution_count": 100,
     "metadata": {},
     "output_type": "execute_result"
    }
   ],
   "source": [
    "adjectivesDescribingCharacters(en_doc, 'Blob')"
   ]
  },
  {
   "cell_type": "markdown",
   "metadata": {},
   "source": [
    "or verbs:"
   ]
  },
  {
   "cell_type": "code",
   "execution_count": 101,
   "metadata": {},
   "outputs": [],
   "source": [
    "def verbsForCharacters(text, character):\n",
    "    sents = [sent for sent in text.sents if character in sent.string]\n",
    "    charWords = []\n",
    "    for sent in sents: \n",
    "        for word in sent: \n",
    "            if character in word.string: \n",
    "                charWords.append(word)\n",
    "    charAdjectives = []\n",
    "    for word in charWords: \n",
    "        # Start walking up the list of ancestors \n",
    "        # Until we get to the first verb. \n",
    "        for ancestor in word.ancestors: \n",
    "            if ancestor.pos_.startswith('V'): \n",
    "                charAdjectives.append(ancestor.lemma_.strip())\n",
    "    return Counter(charAdjectives).most_common(20)"
   ]
  },
  {
   "cell_type": "code",
   "execution_count": 102,
   "metadata": {},
   "outputs": [
    {
     "data": {
      "text/plain": [
       "[('strike', 1)]"
      ]
     },
     "execution_count": 102,
     "metadata": {},
     "output_type": "execute_result"
    }
   ],
   "source": [
    "verbsForCharacters(en_doc, 'Blob')"
   ]
  },
  {
   "cell_type": "markdown",
   "metadata": {},
   "source": [
    "Probabilities\n",
    "\n",
    "SpaCy has a list of probabilities for English words, and these probabilities are automatically associated with each word once we parse the document.  \n",
    "Let's see what the distribution is like:"
   ]
  },
  {
   "cell_type": "code",
   "execution_count": 103,
   "metadata": {},
   "outputs": [
    {
     "data": {
      "text/plain": [
       "<matplotlib.axes._subplots.AxesSubplot at 0x7ff0c6cf2048>"
      ]
     },
     "execution_count": 103,
     "metadata": {},
     "output_type": "execute_result"
    },
    {
     "data": {
      "image/png": "[encoded data removed]",
      "text/plain": [
       "<Figure size 1152x576 with 1 Axes>"
      ]
     },
     "metadata": {},
     "output_type": "display_data"
    }
   ],
   "source": [
    "probabilities = [word.prob for word in en_doc] \n",
    "pd.Series(probabilities).hist()"
   ]
  },
  {
   "cell_type": "markdown",
   "metadata": {},
   "source": [
    "Let's peek at some of the improbable words"
   ]
  },
  {
   "cell_type": "code",
   "execution_count": 104,
   "metadata": {},
   "outputs": [
    {
     "data": {
      "text/plain": [
       "['',\n",
       " 'goo',\n",
       " 'capable',\n",
       " 'as',\n",
       " 'grey',\n",
       " 'penetrate',\n",
       " 'technological',\n",
       " 'concept',\n",
       " 'like',\n",
       " 'an',\n",
       " 'chillingly',\n",
       " 'monster',\n",
       " '-',\n",
       " 'damned',\n",
       " 'titular',\n",
       " \"'s\",\n",
       " 'fearful',\n",
       " 'mass',\n",
       " 'always',\n",
       " 'devastating']"
      ]
     },
     "execution_count": 104,
     "metadata": {},
     "output_type": "execute_result"
    }
   ],
   "source": [
    "list(set([word.string.strip().lower() for word in en_doc if word.prob < -19]))[:20]"
   ]
  },
  {
   "cell_type": "code",
   "execution_count": 105,
   "metadata": {},
   "outputs": [
    {
     "data": {
      "text/plain": [
       "[('', 9),\n",
       " ('the', 5),\n",
       " ('of', 4),\n",
       " (',', 4),\n",
       " ('as', 2),\n",
       " ('to', 2),\n",
       " ('a', 2),\n",
       " ('.', 2),\n",
       " ('titular', 1),\n",
       " ('threat', 1),\n",
       " ('blob', 1),\n",
       " ('has', 1),\n",
       " ('always', 1),\n",
       " ('struck', 1),\n",
       " ('me', 1),\n",
       " ('ultimate', 1),\n",
       " ('movie', 1),\n",
       " ('monster', 1),\n",
       " (':', 1),\n",
       " ('an', 1)]"
      ]
     },
     "execution_count": 105,
     "metadata": {},
     "output_type": "execute_result"
    }
   ],
   "source": [
    "Counter([word.string.strip().lower() \n",
    "         for word in en_doc \n",
    "         if word.prob < -19.5]).most_common(20)"
   ]
  },
  {
   "cell_type": "code",
   "execution_count": 106,
   "metadata": {},
   "outputs": [],
   "source": [
    "def ngrams(doc, n): \n",
    "    doc = [word for word in doc \n",
    "           if word.is_alpha # Get rid of punctuation\n",
    "           if not word.string.isupper()] # Get rid of all-caps speaker headings\n",
    "    return list(zip(*[doc[i:] for i in range(n)]))"
   ]
  },
  {
   "cell_type": "code",
   "execution_count": 107,
   "metadata": {},
   "outputs": [],
   "source": [
    "docGrams = set(ngrams(en_doc, 3))"
   ]
  },
  {
   "cell_type": "code",
   "execution_count": 108,
   "metadata": {},
   "outputs": [
    {
     "name": "stdout",
     "output_type": "stream",
     "text": [
      "(the, grey, goo)\n",
      "(mass, able, to)\n",
      "(able, to, penetrate)\n",
      "(comparisons, to, gelatin)\n",
      "(it, a, concept)\n",
      "(with, the, most)\n",
      "(doomed, doctor, chillingly)\n",
      "(as, the, ultimate)\n",
      "(to, gelatin, be)\n",
      "(gelatin, be, damned)\n",
      "(a, doomed, doctor)\n",
      "(like, mass, able)\n",
      "(threat, of, The)\n",
      "(capable, of, as)\n",
      "(ultimate, movie, monster)\n",
      "(amoeba, like, mass)\n",
      "(of, potential, consequences)\n",
      "(most, devastating, of)\n",
      "(movie, monster, an)\n",
      "(The, Blob, has)\n",
      "(describes, flesh, on)\n",
      "(concept, with, the)\n",
      "(potential, consequences, not)\n",
      "(by, technological, theorists)\n",
      "(has, always, struck)\n",
      "(to, penetrate, virtually)\n",
      "(Blob, has, always)\n",
      "(the, most, devastating)\n",
      "(struck, me, as)\n",
      "(doctor, chillingly, describes)\n",
      "(of, artificial, intelligence)\n",
      "(the, ultimate, movie)\n",
      "(be, damned, it)\n",
      "(devastating, of, potential)\n",
      "(damned, it, a)\n",
      "(scenario, proposed, by)\n",
      "(always, struck, me)\n",
      "(on, contact, Snide)\n",
      "(penetrate, virtually, any)\n",
      "(Snide, comparisons, to)\n",
      "(goo, scenario, proposed)\n",
      "(safeguard, capable, of)\n",
      "(hungry, amoeba, like)\n",
      "(any, safeguard, capable)\n",
      "(proposed, by, technological)\n",
      "(titular, threat, of)\n",
      "(contact, Snide, comparisons)\n",
      "(of, The, Blob)\n",
      "(fearful, of, artificial)\n",
      "(technological, theorists, fearful)\n",
      "(consequences, not, unlike)\n",
      "(unlike, the, grey)\n",
      "(an, insatiably, hungry)\n",
      "(artificial, intelligence, run)\n",
      "(flesh, on, contact)\n",
      "(not, unlike, the)\n",
      "(intelligence, run, rampant)\n",
      "(grey, goo, scenario)\n",
      "(me, as, the)\n",
      "(insatiably, hungry, amoeba)\n",
      "(chillingly, describes, flesh)\n",
      "(virtually, any, safeguard)\n",
      "(of, as, a)\n",
      "(theorists, fearful, of)\n",
      "(The, titular, threat)\n",
      "(a, concept, with)\n",
      "(monster, an, insatiably)\n",
      "(as, a, doomed)\n"
     ]
    }
   ],
   "source": [
    "for gram in docGrams: \n",
    "    if sum([word.prob for word in gram]) < -40: \n",
    "        print(gram)"
   ]
  },
  {
   "cell_type": "markdown",
   "metadata": {},
   "source": [
    "## Example 3 - Full EDA text pipeline"
   ]
  },
  {
   "cell_type": "markdown",
   "metadata": {},
   "source": [
    "### Analyzing text statistics\n",
    "\n",
    "Text statistics visualizations are simple but very insightful techniques. \n",
    "\n",
    "They include:\n",
    "\n",
    "- word frequency analysis,\n",
    "- sentence length analysis,\n",
    "- average word length analysis"
   ]
  },
  {
   "cell_type": "code",
   "execution_count": 109,
   "metadata": {},
   "outputs": [
    {
     "data": {
      "text/html": [
       "<div>\n",
       "<style scoped>\n",
       "    .dataframe tbody tr th:only-of-type {\n",
       "        vertical-align: middle;\n",
       "    }\n",
       "\n",
       "    .dataframe tbody tr th {\n",
       "        vertical-align: top;\n",
       "    }\n",
       "\n",
       "    .dataframe thead th {\n",
       "        text-align: right;\n",
       "    }\n",
       "</style>\n",
       "<table border=\"1\" class=\"dataframe\">\n",
       "  <thead>\n",
       "    <tr style=\"text-align: right;\">\n",
       "      <th></th>\n",
       "      <th>publish_date</th>\n",
       "      <th>headline_text</th>\n",
       "    </tr>\n",
       "  </thead>\n",
       "  <tbody>\n",
       "    <tr>\n",
       "      <th>0</th>\n",
       "      <td>20030219</td>\n",
       "      <td>aba decides against community broadcasting lic...</td>\n",
       "    </tr>\n",
       "    <tr>\n",
       "      <th>1</th>\n",
       "      <td>20030219</td>\n",
       "      <td>act fire witnesses must be aware of defamation</td>\n",
       "    </tr>\n",
       "    <tr>\n",
       "      <th>2</th>\n",
       "      <td>20030219</td>\n",
       "      <td>a g calls for infrastructure protection summit</td>\n",
       "    </tr>\n",
       "  </tbody>\n",
       "</table>\n",
       "</div>"
      ],
      "text/plain": [
       "   publish_date                                      headline_text\n",
       "0      20030219  aba decides against community broadcasting lic...\n",
       "1      20030219     act fire witnesses must be aware of defamation\n",
       "2      20030219     a g calls for infrastructure protection summit"
      ]
     },
     "execution_count": 109,
     "metadata": {},
     "output_type": "execute_result"
    }
   ],
   "source": [
    "news= pd.read_csv(datapath / 'CSVs'/ 'abcnews-date-text.csv',nrows=10000)\n",
    "news.head(3)"
   ]
  },
  {
   "cell_type": "markdown",
   "metadata": {},
   "source": [
    "First, I’ll take a look at the number of characters present in each sentence. This can give us a rough idea about the news headline length."
   ]
  },
  {
   "cell_type": "code",
   "execution_count": 110,
   "metadata": {},
   "outputs": [
    {
     "data": {
      "text/plain": [
       "<matplotlib.axes._subplots.AxesSubplot at 0x7ff0c9f19048>"
      ]
     },
     "execution_count": 110,
     "metadata": {},
     "output_type": "execute_result"
    },
    {
     "data": {
      "image/png": "[encoded data removed]",
      "text/plain": [
       "<Figure size 1152x576 with 1 Axes>"
      ]
     },
     "metadata": {},
     "output_type": "display_data"
    }
   ],
   "source": [
    "news['headline_text'].str.len().hist()"
   ]
  },
  {
   "cell_type": "markdown",
   "metadata": {},
   "source": [
    "Now, we will move on to data exploration at a word-level. Let’s plot the number of words appearing in each news headline."
   ]
  },
  {
   "cell_type": "code",
   "execution_count": 111,
   "metadata": {},
   "outputs": [
    {
     "data": {
      "text/plain": [
       "<matplotlib.axes._subplots.AxesSubplot at 0x7ff0c9b1ea90>"
      ]
     },
     "execution_count": 111,
     "metadata": {},
     "output_type": "execute_result"
    },
    {
     "data": {
      "image/png": "[encoded data removed]",
      "text/plain": [
       "<Figure size 1152x576 with 1 Axes>"
      ]
     },
     "metadata": {},
     "output_type": "display_data"
    }
   ],
   "source": [
    "news['headline_text'].str.split().map(lambda x: len(x)).hist()"
   ]
  },
  {
   "cell_type": "markdown",
   "metadata": {},
   "source": [
    "Up next, let’s check the average word length in each sentence."
   ]
  },
  {
   "cell_type": "code",
   "execution_count": 112,
   "metadata": {},
   "outputs": [
    {
     "data": {
      "text/plain": [
       "<matplotlib.axes._subplots.AxesSubplot at 0x7ff0c99b1550>"
      ]
     },
     "execution_count": 112,
     "metadata": {},
     "output_type": "execute_result"
    },
    {
     "data": {
      "image/png": "[encoded data removed]",
      "text/plain": [
       "<Figure size 1152x576 with 1 Axes>"
      ]
     },
     "metadata": {},
     "output_type": "display_data"
    }
   ],
   "source": [
    "news['headline_text'].str.split().apply(lambda x : [len(i) for i in x]).map(lambda x: np.mean(x)).hist()"
   ]
  },
  {
   "cell_type": "markdown",
   "metadata": {},
   "source": [
    "Loading stopwords list"
   ]
  },
  {
   "cell_type": "code",
   "execution_count": 113,
   "metadata": {},
   "outputs": [],
   "source": [
    "#import nltk\n",
    "#nltk.download('stopwords')\n",
    "stop = set(nltk.corpus.stopwords.words('english'))"
   ]
  },
  {
   "cell_type": "markdown",
   "metadata": {},
   "source": [
    "Now, we’ll  create the corpus."
   ]
  },
  {
   "cell_type": "code",
   "execution_count": 114,
   "metadata": {},
   "outputs": [],
   "source": [
    "corpus=[]\n",
    "new = news['headline_text'].str.split()\n",
    "new = new.values.tolist()\n",
    "corpus = [word for i in new for word in i]"
   ]
  },
  {
   "cell_type": "markdown",
   "metadata": {},
   "source": [
    "Plot top stopwords"
   ]
  },
  {
   "cell_type": "code",
   "execution_count": 115,
   "metadata": {},
   "outputs": [
    {
     "data": {
      "text/plain": [
       "<BarContainer object of 10 artists>"
      ]
     },
     "execution_count": 115,
     "metadata": {},
     "output_type": "execute_result"
    },
    {
     "data": {
      "image/png": "[encoded data removed]",
      "text/plain": [
       "<Figure size 1152x576 with 1 Axes>"
      ]
     },
     "metadata": {},
     "output_type": "display_data"
    }
   ],
   "source": [
    "dic = defaultdict(int)\n",
    "for word in corpus:\n",
    "    if word in stop:\n",
    "        dic[word] += 1\n",
    "top = sorted(dic.items(), key=lambda x:x[1],reverse=True)[:10] \n",
    "x,y = zip(*top)\n",
    "plt.bar(x,y)"
   ]
  },
  {
   "cell_type": "markdown",
   "metadata": {},
   "source": [
    "We will use the counter function from the collections library to count and store the occurrences of each word in a list of tuples."
   ]
  },
  {
   "cell_type": "code",
   "execution_count": 116,
   "metadata": {},
   "outputs": [
    {
     "data": {
      "text/plain": [
       "<matplotlib.axes._subplots.AxesSubplot at 0x7ff0c98b4438>"
      ]
     },
     "execution_count": 116,
     "metadata": {},
     "output_type": "execute_result"
    },
    {
     "data": {
      "image/png": "[encoded data removed]",
      "text/plain": [
       "<Figure size 1152x576 with 1 Axes>"
      ]
     },
     "metadata": {},
     "output_type": "display_data"
    }
   ],
   "source": [
    "counter = Counter(corpus)\n",
    "most = counter.most_common()\n",
    "\n",
    "x, y = [], []\n",
    "for word,count in most[:40]:\n",
    "    if (word not in stop):\n",
    "        x.append(word)\n",
    "        y.append(count)\n",
    "        \n",
    "sns.barplot(x=y,y=x)"
   ]
  },
  {
   "cell_type": "markdown",
   "metadata": {},
   "source": [
    "Ngram exploration  \n",
    "\n",
    "Ngrams are simply contiguous sequences of n words.   \n",
    "\n",
    "Looking at most frequent n-grams can give you a better understanding of the context in which the word was used.  "
   ]
  },
  {
   "cell_type": "code",
   "execution_count": 117,
   "metadata": {},
   "outputs": [
    {
     "data": {
      "text/plain": [
       "[('I', 'went'),\n",
       " ('went', 'to'),\n",
       " ('to', 'the'),\n",
       " ('the', 'river'),\n",
       " ('river', 'bank')]"
      ]
     },
     "execution_count": 117,
     "metadata": {},
     "output_type": "execute_result"
    }
   ],
   "source": [
    "from nltk.util import ngrams\n",
    "list(ngrams(['I' ,'went','to','the','river','bank'],2))"
   ]
  },
  {
   "cell_type": "markdown",
   "metadata": {},
   "source": [
    "To build a representation of our vocabulary we will use Countvectorizer."
   ]
  },
  {
   "cell_type": "code",
   "execution_count": 118,
   "metadata": {},
   "outputs": [],
   "source": [
    "from sklearn.feature_extraction.text import CountVectorizer\n",
    "\n",
    "def get_top_ngram(corpus, n=None):\n",
    "    vec = CountVectorizer(ngram_range=(n, n)).fit(corpus)\n",
    "    bag_of_words = vec.transform(corpus)\n",
    "    sum_words = bag_of_words.sum(axis=0) \n",
    "    words_freq = [(word, sum_words[0, idx]) \n",
    "                  for word, idx in vec.vocabulary_.items()]\n",
    "    words_freq =sorted(words_freq, key = lambda x: x[1], reverse=True)\n",
    "    return words_freq[:10]"
   ]
  },
  {
   "cell_type": "code",
   "execution_count": 119,
   "metadata": {},
   "outputs": [
    {
     "data": {
      "text/plain": [
       "<matplotlib.axes._subplots.AxesSubplot at 0x7ff0c974ee10>"
      ]
     },
     "execution_count": 119,
     "metadata": {},
     "output_type": "execute_result"
    },
    {
     "data": {
      "image/png": "[encoded data removed]",
      "text/plain": [
       "<Figure size 1152x576 with 1 Axes>"
      ]
     },
     "metadata": {},
     "output_type": "display_data"
    }
   ],
   "source": [
    "top_n_bigrams=get_top_ngram(news['headline_text'],2)[:10]\n",
    "x,y=map(list,zip(*top_n_bigrams))\n",
    "sns.barplot(x=y,y=x)"
   ]
  },
  {
   "cell_type": "markdown",
   "metadata": {},
   "source": [
    "How about trigrams?"
   ]
  },
  {
   "cell_type": "code",
   "execution_count": 120,
   "metadata": {},
   "outputs": [
    {
     "data": {
      "text/plain": [
       "<matplotlib.axes._subplots.AxesSubplot at 0x7ff0c9777438>"
      ]
     },
     "execution_count": 120,
     "metadata": {},
     "output_type": "execute_result"
    },
    {
     "data": {
      "image/png": "[encoded data removed]",
      "text/plain": [
       "<Figure size 1152x576 with 1 Axes>"
      ]
     },
     "metadata": {},
     "output_type": "display_data"
    }
   ],
   "source": [
    "top_tri_grams=get_top_ngram(news['headline_text'],n=3)\n",
    "x,y = map(list,zip(*top_tri_grams))\n",
    "sns.barplot(x=y,y=x)"
   ]
  },
  {
   "cell_type": "markdown",
   "metadata": {},
   "source": [
    "Topic Modeling exploration with pyLDAvis"
   ]
  },
  {
   "cell_type": "code",
   "execution_count": 121,
   "metadata": {},
   "outputs": [
    {
     "name": "stderr",
     "output_type": "stream",
     "text": [
      "[nltk_data] Downloading package punkt to /home/rsouza/nltk_data...\n",
      "[nltk_data]   Package punkt is already up-to-date!\n",
      "[nltk_data] Downloading package wordnet to /home/rsouza/nltk_data...\n",
      "[nltk_data]   Package wordnet is already up-to-date!\n"
     ]
    }
   ],
   "source": [
    "nltk.download('punkt')\n",
    "nltk.download('wordnet')\n",
    "\n",
    "def preprocess_news(df):\n",
    "    corpus = []\n",
    "    stem = nltk.stem.PorterStemmer()\n",
    "    lem = nltk.stem.WordNetLemmatizer()\n",
    "    for news in df['headline_text']:\n",
    "        words=[w for w in nltk.tokenize.word_tokenize(news) if (w not in stop)]\n",
    "        words=[lem.lemmatize(w) for w in words if len(w)>2]\n",
    "        corpus.append(words)\n",
    "    return corpus\n",
    "\n",
    "corpus = preprocess_news(news)"
   ]
  },
  {
   "cell_type": "code",
   "execution_count": 122,
   "metadata": {},
   "outputs": [],
   "source": [
    "dic = gensim.corpora.Dictionary(corpus)\n",
    "bow_corpus = [dic.doc2bow(doc) for doc in corpus]"
   ]
  },
  {
   "cell_type": "code",
   "execution_count": null,
   "metadata": {},
   "outputs": [],
   "source": []
  },
  {
   "cell_type": "code",
   "execution_count": null,
   "metadata": {},
   "outputs": [],
   "source": []
  },
  {
   "cell_type": "code",
   "execution_count": null,
   "metadata": {},
   "outputs": [],
   "source": []
  },
  {
   "cell_type": "code",
   "execution_count": null,
   "metadata": {},
   "outputs": [],
   "source": []
  },
  {
   "cell_type": "code",
   "execution_count": null,
   "metadata": {},
   "outputs": [],
   "source": []
  },
  {
   "cell_type": "code",
   "execution_count": null,
   "metadata": {},
   "outputs": [],
   "source": []
  },
  {
   "cell_type": "code",
   "execution_count": null,
   "metadata": {},
   "outputs": [],
   "source": []
  },
  {
   "cell_type": "code",
   "execution_count": null,
   "metadata": {},
   "outputs": [],
   "source": []
  },
  {
   "cell_type": "code",
   "execution_count": null,
   "metadata": {},
   "outputs": [],
   "source": []
  },
  {
   "cell_type": "markdown",
   "metadata": {},
   "source": [
    "https://github.com/explosion/spacy-notebooks/blob/master/notebooks/conference_notebooks/advanced_text_analysis.ipynb"
   ]
  }
 ],
 "metadata": {
  "kernelspec": {
   "display_name": "Python 3",
   "language": "python",
   "name": "python3"
  },
  "language_info": {
   "codemirror_mode": {
    "name": "ipython",
    "version": 3
   },
   "file_extension": ".py",
   "mimetype": "text/x-python",
   "name": "python",
   "nbconvert_exporter": "python",
   "pygments_lexer": "ipython3",
   "version": "3.6.9"
  }
 },
 "nbformat": 4,
 "nbformat_minor": 2
}
